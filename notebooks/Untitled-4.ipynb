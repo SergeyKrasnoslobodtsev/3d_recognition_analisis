{
 "cells": [
  {
   "cell_type": "markdown",
   "id": "6e7e6c6a",
   "metadata": {},
   "source": [
    "# Проверка информативности признаков 3D моделей (STEP)\n",
    "\n",
    "В этом ноутбуке мы проверим, насколько информативны извлекаемые признаки 3D моделей в формате STEP. Будет проведён анализ распределения признаков, их корреляции, а также оценена их значимость с помощью простых моделей машинного обучения."
   ]
  },
  {
   "cell_type": "markdown",
   "id": "37022ed4",
   "metadata": {},
   "source": [
    "## 1. Загрузка датасета и моделей\n",
    "\n",
    "Загрузим датасет, получим список путей к моделям, реализуем функцию для загрузки shape из STEP-файла."
   ]
  },
  {
   "cell_type": "code",
   "execution_count": 6,
   "id": "92d09867",
   "metadata": {},
   "outputs": [
    {
     "name": "stdout",
     "output_type": "stream",
     "text": [
      "\u001b[32m2025-08-12 14:23:56.911\u001b[0m | \u001b[1mINFO    \u001b[0m | \u001b[36msrc.dataset\u001b[0m:\u001b[36mload_dataset_pickle\u001b[0m:\u001b[36m332\u001b[0m - \u001b[1mЗагрузка датасета из /home/developer/workspace/projects/3d_recognition_analisis/data/interim/dataset_metadata.pkl\u001b[0m\n",
      "\u001b[32m2025-08-12 14:23:56.924\u001b[0m | \u001b[32m\u001b[1mSUCCESS \u001b[0m | \u001b[36msrc.dataset\u001b[0m:\u001b[36mload_dataset_pickle\u001b[0m:\u001b[36m337\u001b[0m - \u001b[32m\u001b[1mДатасет загружен из /home/developer/workspace/projects/3d_recognition_analisis/data/interim/dataset_metadata.pkl\u001b[0m\n",
      "Пример записи: DataModel(model_id='44. Extractor Pin-06', model_path='/home/developer/workspace/projects/3d_recognition_analisis/data/raw/3D/44. Extractor Pin/44. Extractor Pin-06.prt.stp', detail_type='44. Extractor Pin', image_paths=[ImageData(image_id='44. Extractor Pin-06_left', image_path='/home/developer/workspace/projects/3d_recognition_analisis/data/raw/2D/44. Extractor Pin/44. Extractor Pin-06/44. Extractor Pin-06_Left.jpg', model_type='left'), ImageData(image_id='44. Extractor Pin-06_right', image_path='/home/developer/workspace/projects/3d_recognition_analisis/data/raw/2D/44. Extractor Pin/44. Extractor Pin-06/44. Extractor Pin-06_Right.jpg', model_type='right'), ImageData(image_id='44. Extractor Pin-06_front', image_path='/home/developer/workspace/projects/3d_recognition_analisis/data/raw/2D/44. Extractor Pin/44. Extractor Pin-06/44. Extractor Pin-06_Front.jpg', model_type='front'), ImageData(image_id='44. Extractor Pin-06_bottom', image_path='/home/developer/workspace/projects/3d_recognition_analisis/data/raw/2D/44. Extractor Pin/44. Extractor Pin-06/44. Extractor Pin-06_Bottom.jpg', model_type='bottom'), ImageData(image_id='44. Extractor Pin-06_isometric', image_path='/home/developer/workspace/projects/3d_recognition_analisis/data/raw/2D/44. Extractor Pin/44. Extractor Pin-06/44. Extractor Pin-06_Isometric.jpg', model_type='isometric'), ImageData(image_id='44. Extractor Pin-06_trimetric', image_path='/home/developer/workspace/projects/3d_recognition_analisis/data/raw/2D/44. Extractor Pin/44. Extractor Pin-06/44. Extractor Pin-06_Trimetric.jpg', model_type='trimetric'), ImageData(image_id='44. Extractor Pin-06_back', image_path='/home/developer/workspace/projects/3d_recognition_analisis/data/raw/2D/44. Extractor Pin/44. Extractor Pin-06/44. Extractor Pin-06_Back.jpg', model_type='back'), ImageData(image_id='44. Extractor Pin-06_top', image_path='/home/developer/workspace/projects/3d_recognition_analisis/data/raw/2D/44. Extractor Pin/44. Extractor Pin-06/44. Extractor Pin-06_Top.jpg', model_type='top')])\n"
     ]
    }
   ],
   "source": [
    "import notebook_setup\n",
    "from src.dataset import DatasetIO\n",
    "from src.config import INTERIM_DATA_DIR\n",
    "\n",
    "import os\n",
    "from tqdm import tqdm\n",
    "\n",
    "# Загрузка датасета\n",
    "pkl_file = INTERIM_DATA_DIR / \"dataset_metadata.pkl\"\n",
    "dataset = DatasetIO.load_dataset_pickle(pkl_file)\n",
    "\n",
    "\n",
    "print(\"Пример записи:\", dataset[0])\n",
    "\n",
    "\n"
   ]
  },
  {
   "cell_type": "markdown",
   "id": "78e04b5a",
   "metadata": {},
   "source": [
    "## 2. Извлечение признаков для всех моделей\n",
    "\n",
    "Для каждой модели вычислим вектор признаков с помощью существующих функций. Сохраним результаты в массив для дальнейшего анализа."
   ]
  },
  {
   "cell_type": "code",
   "execution_count": 9,
   "id": "aebdcbbd",
   "metadata": {},
   "outputs": [
    {
     "name": "stdout",
     "output_type": "stream",
     "text": [
      "\u001b[32m2025-08-12 14:25:39.539\u001b[0m | \u001b[1mINFO    \u001b[0m | \u001b[36msrc.features.brep\u001b[0m:\u001b[36m__init__\u001b[0m:\u001b[36m42\u001b[0m - \u001b[1mИнициализация 'BRep' экстрактора. Размерность вектора: 506\u001b[0m\n"
     ]
    },
    {
     "name": "stderr",
     "output_type": "stream",
     "text": [
      "100%|██████████| 129/129 [00:08<00:00, 15.20it/s]"
     ]
    },
    {
     "name": "stdout",
     "output_type": "stream",
     "text": [
      "['44. Extractor Pin', '44. Extractor Pin', '44. Extractor Pin', '44. Extractor Pin', '44. Extractor Pin', '44. Extractor Pin', '44. Extractor Pin', '44. Extractor Pin', '44. Extractor Pin', '44. Extractor Pin', '44. Extractor Pin', '44. Extractor Pin', '44. Extractor Pin', '44. Extractor Pin', '44. Extractor Pin', '44. Extractor Pin', '44. Extractor Pin', '44. Extractor Pin', '44. Extractor Pin', '44. Extractor Pin', '44. Extractor Pin', '44. Extractor Pin', '43. Extractor', '43. Extractor', '43. Extractor', '43. Extractor', '43. Extractor', '43. Extractor', '43. Extractor', '43. Extractor', '43. Extractor', '43. Extractor', '43. Extractor', '43. Extractor', '43. Extractor', '43. Extractor', '43. Extractor', '43. Extractor', '43. Extractor', '43. Extractor', '43. Extractor', '43. Extractor', '43. Extractor', '43. Extractor', 'Кожух', 'Кожух', 'Кожух', 'Кожух', 'Кожух', 'Кожух', 'Кожух', 'Кожух', 'Кожух', 'Кожух', 'Кожух', 'Кожух', 'Кожух', 'Кожух', 'Кожух', 'Кожух', 'Кожух', 'Кожух', 'Кожух', 'Кожух', 'Кожух', 'Кожух', 'Колодка прицельная', 'Колодка прицельная', 'Колодка прицельная', 'Колодка прицельная', 'Колодка прицельная', 'Колодка прицельная', 'Колодка прицельная', 'Колодка прицельная', 'Колодка прицельная', 'Колодка прицельная', 'Колодка прицельная', 'Колодка прицельная', 'Колодка прицельная', 'Колодка прицельная', 'Колодка прицельная', 'Колодка прицельная', 'Колодка прицельная', 'Колодка прицельная', 'Колодка прицельная', 'Колодка прицельная', 'Колодка прицельная', 'Колодка прицельная', '42. Silencer Fix', '42. Silencer Fix', '42. Silencer Fix', '42. Silencer Fix', '42. Silencer Fix', '42. Silencer Fix', '42. Silencer Fix', '42. Silencer Fix', '42. Silencer Fix', '42. Silencer Fix', '42. Silencer Fix', '42. Silencer Fix', '42. Silencer Fix', '42. Silencer Fix', '42. Silencer Fix', '42. Silencer Fix', '42. Silencer Fix', '42. Silencer Fix', '42. Silencer Fix', '42. Silencer Fix', '42. Silencer Fix', '42. Silencer Fix', 'Камера газовая', 'Камера газовая', 'Камера газовая', 'Камера газовая', 'Камера газовая', 'Камера газовая', 'Камера газовая', 'Камера газовая', 'Камера газовая', 'Камера газовая', 'Камера газовая', 'Камера газовая', 'Камера газовая', 'Камера газовая', 'Камера газовая', 'Камера газовая', 'Камера газовая', 'Камера газовая', 'Камера газовая', 'Камера газовая', 'Камера газовая', 'Камера газовая', 'Зацеп трубки направляющий', 'Зацеп трубки направляющий', 'Зацеп трубки направляющий', 'Зацеп трубки направляющий', 'Зацеп трубки направляющий', 'Зацеп трубки направляющий', 'Зацеп трубки направляющий', 'Зацеп трубки направляющий', 'Зацеп трубки направляющий', 'Зацеп трубки направляющий', 'Зацеп трубки направляющий', 'Зацеп трубки направляющий', 'Зацеп трубки направляющий', 'Зацеп трубки направляющий', 'Зацеп трубки направляющий', 'Зацеп трубки направляющий', 'Зацеп трубки направляющий', 'Зацеп трубки направляющий', 'Зацеп трубки направляющий', 'Зацеп трубки направляющий', 'Зацеп трубки направляющий', 'Зацеп трубки направляющий', 'Колодка приклада', 'Колодка приклада', 'Колодка приклада', 'Колодка приклада', 'Колодка приклада', 'Колодка приклада', 'Колодка приклада', 'Колодка приклада', 'Колодка приклада', 'Колодка приклада', 'Колодка приклада', 'Колодка приклада', 'Колодка приклада', 'Колодка приклада', 'Колодка приклада', 'Колодка приклада', 'Колодка приклада', 'Колодка приклада', 'Колодка приклада', 'Колодка приклада', 'Защелка', 'Защелка', 'Защелка', 'Защелка', 'Защелка', 'Защелка', 'Защелка', 'Защелка', 'Защелка', 'Защелка', 'Защелка', 'Защелка', 'Защелка', 'Защелка', 'Защелка', 'Защелка', 'Защелка', 'Защелка', 'Защелка', 'Защелка', 'Защелка', 'Защелка', '42. Ejector', '42. Ejector', '42. Ejector', '42. Ejector', '42. Ejector', '42. Ejector', '42. Ejector', '42. Ejector', '42. Ejector', '42. Ejector', '42. Ejector', '42. Ejector', '42. Ejector', '42. Ejector', '42. Ejector', '42. Ejector', '42. Ejector', '42. Ejector', '42. Ejector', '42. Ejector', '42. Ejector', '42. Ejector', 'Затвор', 'Затвор', 'Затвор', 'Затвор', 'Затвор', 'Затвор', 'Затвор', 'Затвор', 'Затвор', 'Затвор', 'Затвор', 'Затвор', 'Затвор', 'Затвор', 'Затвор', 'Затвор', 'Затвор', 'Затвор', 'Затвор', 'Затвор', 'Защелка АК', 'Защелка АК', 'Защелка АК', 'Защелка АК', 'Защелка АК', 'Защелка АК', 'Защелка АК', 'Защелка АК', 'Защелка АК', 'Защелка АК', 'Защелка АК', 'Защелка АК', 'Защелка АК', 'Защелка АК', 'Защелка АК', 'Защелка АК', 'Защелка АК', 'Защелка АК', 'Защелка АК', 'Защелка АК']\n"
     ]
    },
    {
     "name": "stderr",
     "output_type": "stream",
     "text": [
      "\n"
     ]
    }
   ],
   "source": [
    "import numpy as np\n",
    "\n",
    "from src.features.brep import BrepExtractor\n",
    "\n",
    "brep = BrepExtractor()\n",
    "\n",
    "\n",
    "def extract_features_for_shape(shape, k_spec=16, K_rdf=256):\n",
    "    # Триангуляция\n",
    "    V, F = brep._get_vertices_and_faces(shape)\n",
    "    if V.shape[0] == 0 or F.shape[0] == 0:\n",
    "        return None\n",
    "\n",
    "    # Базовые признаки по триангуляции\n",
    "    E, L = brep.mesh_edge_data(V, F)\n",
    "    A = brep.mesh_face_areas(V, F)\n",
    "    D = brep._mesh_dihedral_angles(V, F)\n",
    "    deg = brep.mesh_vertex_degrees(F, V.shape[0])\n",
    "\n",
    "    h_edge = brep.hist_norm(L, bins=64, log=True)\n",
    "    h_area = brep.hist_norm(A, bins=64, log=True)\n",
    "    h_dih  = brep.hist_norm(D, bins=64, rng=(0, np.pi))\n",
    "    h_deg  = brep.hist_norm(deg, bins=32, rng=(0, deg.max() if deg.size else 1))\n",
    "\n",
    "    # RDF\n",
    "    rdf = brep._compute_rdf(V, F, K=K_rdf)\n",
    "\n",
    "    # B-Rep признаки\n",
    "    brep_vec = brep._brep_surface_type_hist(shape)\n",
    "\n",
    "    # Спектральные признаки\n",
    "    try:\n",
    "        evals, _ = brep._compute_lbo_spectrum(V, F, k=k_spec, scale_invariant=True)\n",
    "        padded_evals = np.zeros(k_spec, dtype=np.float32)\n",
    "        num_evals = min(len(evals), k_spec)\n",
    "        padded_evals[:num_evals] = evals[:num_evals]\n",
    "    except Exception as e:\n",
    "        padded_evals = np.zeros(k_spec, dtype=np.float32)\n",
    "\n",
    "    # Объединяем все признаки в один вектор\n",
    "    feature_vec = np.concatenate([\n",
    "        rdf,            # 256\n",
    "        h_edge,         # 64\n",
    "        h_area,         # 64\n",
    "        h_dih,          # 64\n",
    "        h_deg,          # 32\n",
    "        brep_vec,       # 10\n",
    "        padded_evals    # 16\n",
    "    ]).astype(np.float32)\n",
    "    return feature_vec\n",
    "\n",
    "# Извлечение признаков для всех моделей\n",
    "features = []\n",
    "failed_indices = []\n",
    "\n",
    "for model in tqdm(dataset):\n",
    "    shape = brep._load_step_shape(model.model_path)\n",
    "    failed_indices.append(model.detail_type)\n",
    "    feat = extract_features_for_shape(shape)\n",
    "    failed_indices.append(model.detail_type)\n",
    "    features.append(feat)\n",
    "\n",
    "print(failed_indices)\n",
    "# print(\"Размерность матрицы признаков:\", features.shape)\n",
    "# if failed_indices:\n",
    "#     print(f\"Не удалось обработать {len(failed_indices)} моделей: индексы {failed_indices}\")"
   ]
  },
  {
   "cell_type": "markdown",
   "id": "7964c766",
   "metadata": {},
   "source": [
    "## 3. Анализ распределения каждого признака\n",
    "\n",
    "Построим гистограммы и boxplot для каждого признака по всему датасету, чтобы выявить константные или аномальные признаки."
   ]
  },
  {
   "cell_type": "code",
   "execution_count": null,
   "id": "56839c86",
   "metadata": {},
   "outputs": [],
   "source": [
    "import matplotlib.pyplot as plt\n",
    "import seaborn as sns\n",
    "\n",
    "# Для наглядности ограничим количество признаков для отображения\n",
    "num_features_to_plot = min(20, features.shape[1])\n",
    "\n",
    "plt.figure(figsize=(16, 8))\n",
    "for i in range(num_features_to_plot):\n",
    "    plt.subplot(4, 5, i+1)\n",
    "    sns.histplot(features[:, i], bins=32, kde=False)\n",
    "    plt.title(f'Feature {i}')\n",
    "    plt.tight_layout()\n",
    "plt.suptitle(\"Гистограммы первых 20 признаков\", y=1.02)\n",
    "plt.show()\n",
    "\n",
    "# Boxplot для всех признаков (может быть полезно для поиска выбросов/констант)\n",
    "plt.figure(figsize=(16, 4))\n",
    "sns.boxplot(data=features[:, :num_features_to_plot])\n",
    "plt.title(\"Boxplot первых 20 признаков\")\n",
    "plt.show()\n",
    "\n",
    "# Проверим, есть ли константные признаки\n",
    "const_mask = np.all(features == features[0, :], axis=0)\n",
    "print(f\"Константных признаков: {const_mask.sum()} из {features.shape[1]}\")"
   ]
  },
  {
   "cell_type": "markdown",
   "id": "65c0a29c",
   "metadata": {},
   "source": [
    "## 4. Оценка корреляции между признаками\n",
    "\n",
    "Вычислим корреляционную матрицу между признаками и визуализируем её с помощью heatmap, чтобы найти дублирующие признаки."
   ]
  },
  {
   "cell_type": "code",
   "execution_count": null,
   "id": "9425112c",
   "metadata": {},
   "outputs": [],
   "source": [
    "# Корреляционная матрица (используем только не-константные признаки)\n",
    "nonconst_features = features[:, ~const_mask]\n",
    "corr = np.corrcoef(nonconst_features, rowvar=False)\n",
    "\n",
    "plt.figure(figsize=(12, 10))\n",
    "sns.heatmap(corr, cmap='coolwarm', center=0, square=True, cbar_kws={'shrink': 0.5})\n",
    "plt.title(\"Корреляционная матрица между признаками (без константных)\")\n",
    "plt.show()\n",
    "\n",
    "# Найдём пары признаков с высокой корреляцией\n",
    "high_corr = np.where((np.abs(corr) > 0.95) & (np.abs(corr) < 1.0))\n",
    "high_corr_pairs = list(zip(high_corr[0], high_corr[1]))\n",
    "print(f\"Пары признаков с корреляцией > 0.95: {high_corr_pairs[:10]}\")"
   ]
  },
  {
   "cell_type": "markdown",
   "id": "89d3894e",
   "metadata": {},
   "source": [
    "## 5. Проверка информативности признаков с помощью простых моделей\n",
    "\n",
    "Обучим простую модель (например, классификатор или регрессор) на признаках, оценим важность признаков (feature importance) и качество модели.\n",
    "\n",
    "**Примечание:** Для примера будем использовать случайную целевую переменную (или, если в датасете есть метки — используйте их)."
   ]
  },
  {
   "cell_type": "code",
   "execution_count": null,
   "id": "c345886c",
   "metadata": {},
   "outputs": [],
   "source": [
    "from sklearn.ensemble import RandomForestClassifier, RandomForestRegressor\n",
    "from sklearn.model_selection import train_test_split\n",
    "from sklearn.metrics import accuracy_score, r2_score\n",
    "\n",
    "# Пример: если у вас есть метки классов, используйте их вместо random_targets\n",
    "# random_targets = np.random.randint(0, 2, size=features.shape[0])\n",
    "# y = [item.label for item in dataset if ...]  # если есть метки\n",
    "\n",
    "# Для примера создадим случайную задачу классификации\n",
    "random_targets = np.random.randint(0, 2, size=features.shape[0])\n",
    "\n",
    "X_train, X_test, y_train, y_test = train_test_split(features, random_targets, test_size=0.2, random_state=42)\n",
    "\n",
    "clf = RandomForestClassifier(n_estimators=100, random_state=42)\n",
    "clf.fit(X_train, y_train)\n",
    "y_pred = clf.predict(X_test)\n",
    "acc = accuracy_score(y_test, y_pred)\n",
    "print(f\"Accuracy (random targets): {acc:.3f}\")\n",
    "\n",
    "# Важность признаков\n",
    "importances = clf.feature_importances_"
   ]
  },
  {
   "cell_type": "markdown",
   "id": "5528230a",
   "metadata": {},
   "source": [
    "## 6. Визуализация важности признаков\n",
    "\n",
    "Построим график важности признаков, чтобы наглядно увидеть вклад каждого признака."
   ]
  },
  {
   "cell_type": "code",
   "execution_count": null,
   "id": "e46f3614",
   "metadata": {},
   "outputs": [],
   "source": [
    "# Визуализация важности признаков\n",
    "sorted_idx = np.argsort(importances)[::-1]\n",
    "top_n = 20\n",
    "\n",
    "plt.figure(figsize=(12, 6))\n",
    "plt.bar(range(top_n), importances[sorted_idx[:top_n]])\n",
    "plt.xticks(range(top_n), [f'Feature {i}' for i in sorted_idx[:top_n]], rotation=45)\n",
    "plt.title(\"Топ-20 важных признаков (Random Forest)\")\n",
    "plt.ylabel(\"Feature Importance\")\n",
    "plt.tight_layout()\n",
    "plt.show()"
   ]
  },
  {
   "cell_type": "markdown",
   "id": "531f7720",
   "metadata": {},
   "source": [
    "---\n",
    "\n",
    "**Выводы:**  \n",
    "В этом ноутбуке мы провели базовый анализ информативности признаков 3D моделей: изучили их распределение, корреляцию, а также оценили их значимость с помощью простой модели. Такой анализ позволяет выявить неинформативные, дублирующие или аномальные признаки и улучшить качество последующих моделей."
   ]
  }
 ],
 "metadata": {
  "kernelspec": {
   "display_name": "cv-dev",
   "language": "python",
   "name": "python3"
  },
  "language_info": {
   "codemirror_mode": {
    "name": "ipython",
    "version": 3
   },
   "file_extension": ".py",
   "mimetype": "text/x-python",
   "name": "python",
   "nbconvert_exporter": "python",
   "pygments_lexer": "ipython3",
   "version": "3.10.14"
  }
 },
 "nbformat": 4,
 "nbformat_minor": 5
}

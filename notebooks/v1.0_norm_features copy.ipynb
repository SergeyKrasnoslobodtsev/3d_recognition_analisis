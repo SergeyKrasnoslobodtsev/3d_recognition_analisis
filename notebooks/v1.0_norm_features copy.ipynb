{
 "cells": [
  {
   "cell_type": "markdown",
   "id": "2dbd82d5",
   "metadata": {},
   "source": [
    "# Анализ нормализации признаков, извлечённых с помощью BrepExtractor\n",
    "\n",
    "В этом ноутбуке мы исследуем, насколько хорошо нормализованы признаки, получаемые из 3D-моделей с помощью BrepExtractor. Будут рассмотрены распределения, статистики и возможные выбросы для каждого блока признаков."
   ]
  },
  {
   "cell_type": "markdown",
   "id": "0fc3d94a",
   "metadata": {},
   "source": [
    "## 1. Импорт необходимых библиотек\n",
    "\n",
    "Импортируем основные библиотеки для анализа и визуализации, а также классы BrepExtractor и DataModel."
   ]
  },
  {
   "cell_type": "code",
   "execution_count": 1,
   "id": "61ca8c1c",
   "metadata": {},
   "outputs": [
    {
     "name": "stderr",
     "output_type": "stream",
     "text": [
      "\u001b[32m2025-08-14 16:34:54.646\u001b[0m | \u001b[1mINFO    \u001b[0m | \u001b[36msrc.config\u001b[0m:\u001b[36m<module>\u001b[0m:\u001b[36m11\u001b[0m - \u001b[1mPROJ_ROOT path is: D:\\workspace\\projects\\freelance\\3d_recognition_analisis\u001b[0m\n"
     ]
    },
    {
     "name": "stdout",
     "output_type": "stream",
     "text": [
      "Project root added to path: d:\\workspace\\projects\\freelance\\3d_recognition_analisis\n",
      "\u001b[32m2025-08-14 16:34:58.249\u001b[0m | \u001b[1mINFO    \u001b[0m | \u001b[36msrc.dataset\u001b[0m:\u001b[36mload_dataset_pickle\u001b[0m:\u001b[36m332\u001b[0m - \u001b[1mЗагрузка датасета из D:\\workspace\\projects\\freelance\\3d_recognition_analisis\\data\\interim\\dataset_metadata.pkl\u001b[0m\n",
      "\u001b[32m2025-08-14 16:34:58.252\u001b[0m | \u001b[32m\u001b[1mSUCCESS \u001b[0m | \u001b[36msrc.dataset\u001b[0m:\u001b[36mload_dataset_pickle\u001b[0m:\u001b[36m337\u001b[0m - \u001b[32m\u001b[1mДатасет загружен из D:\\workspace\\projects\\freelance\\3d_recognition_analisis\\data\\interim\\dataset_metadata.pkl\u001b[0m\n",
      "Загружено объектов: 129\n"
     ]
    }
   ],
   "source": [
    "import numpy as np\n",
    "import pandas as pd\n",
    "import matplotlib.pyplot as plt\n",
    "import seaborn as sns\n",
    "\n",
    "import notebook_setup\n",
    "from src.dataset import DatasetIO\n",
    "from src.config import INTERIM_DATA_DIR\n",
    "from src.features.brep import BrepExtractor\n",
    "from src.dataset import DataModel\n",
    "\n",
    "\n",
    "# Настройки визуализации\n",
    "sns.set(style=\"whitegrid\")\n",
    "plt.rcParams[\"figure.figsize\"] = (12, 5)\n",
    "\n",
    "pkl_file = INTERIM_DATA_DIR / \"dataset_metadata.pkl\"\n",
    "dataset = DatasetIO.load_dataset_pickle(pkl_file)\n",
    "\n",
    "print(f\"Загружено объектов: {len(dataset)}\")"
   ]
  },
  {
   "cell_type": "markdown",
   "id": "d325d44e",
   "metadata": {},
   "source": [
    "## 2. Загрузка и извлечение признаков из моделей\n",
    "\n",
    "Загрузим список моделей, применим BrepExtractor для получения матриц признаков, соберём их в DataFrame для дальнейшего анализа."
   ]
  },
  {
   "cell_type": "code",
   "execution_count": 2,
   "id": "84eda934",
   "metadata": {},
   "outputs": [
    {
     "name": "stdout",
     "output_type": "stream",
     "text": [
      "\u001b[32m2025-08-14 16:34:59.547\u001b[0m | \u001b[1mINFO    \u001b[0m | \u001b[36msrc.features.extractor\u001b[0m:\u001b[36m__init__\u001b[0m:\u001b[36m54\u001b[0m - \u001b[1mИнициализация BRep экстрактора признаков на устройстве cpu\u001b[0m\n",
      "\u001b[32m2025-08-14 16:34:59.547\u001b[0m | \u001b[1mINFO    \u001b[0m | \u001b[36msrc.features.brep\u001b[0m:\u001b[36m__init__\u001b[0m:\u001b[36m61\u001b[0m - \u001b[1mИнициализация 'BRep' (K=256, LBO=16, bins=64, D=256, mode=matrix)\u001b[0m\n",
      "\u001b[32m2025-08-14 16:34:59.635\u001b[0m | \u001b[34m\u001b[1mDEBUG   \u001b[0m | \u001b[36msrc.features.brep\u001b[0m:\u001b[36mextract_single\u001b[0m:\u001b[36m108\u001b[0m - \u001b[34m\u001b[1mМатрица признаков 42. Ejector-01: (7, 256)\u001b[0m\n",
      "\u001b[32m2025-08-14 16:34:59.754\u001b[0m | \u001b[34m\u001b[1mDEBUG   \u001b[0m | \u001b[36msrc.features.brep\u001b[0m:\u001b[36mextract_single\u001b[0m:\u001b[36m108\u001b[0m - \u001b[34m\u001b[1mМатрица признаков 42. Ejector-02: (7, 256)\u001b[0m\n",
      "\u001b[32m2025-08-14 16:34:59.868\u001b[0m | \u001b[34m\u001b[1mDEBUG   \u001b[0m | \u001b[36msrc.features.brep\u001b[0m:\u001b[36mextract_single\u001b[0m:\u001b[36m108\u001b[0m - \u001b[34m\u001b[1mМатрица признаков 42. Ejector-03: (7, 256)\u001b[0m\n",
      "\u001b[32m2025-08-14 16:34:59.964\u001b[0m | \u001b[34m\u001b[1mDEBUG   \u001b[0m | \u001b[36msrc.features.brep\u001b[0m:\u001b[36mextract_single\u001b[0m:\u001b[36m108\u001b[0m - \u001b[34m\u001b[1mМатрица признаков 42. Ejector-04: (7, 256)\u001b[0m\n",
      "\u001b[32m2025-08-14 16:35:00.030\u001b[0m | \u001b[34m\u001b[1mDEBUG   \u001b[0m | \u001b[36msrc.features.brep\u001b[0m:\u001b[36mextract_single\u001b[0m:\u001b[36m108\u001b[0m - \u001b[34m\u001b[1mМатрица признаков 42. Ejector-05: (7, 256)\u001b[0m\n",
      "\u001b[32m2025-08-14 16:35:00.111\u001b[0m | \u001b[34m\u001b[1mDEBUG   \u001b[0m | \u001b[36msrc.features.brep\u001b[0m:\u001b[36mextract_single\u001b[0m:\u001b[36m108\u001b[0m - \u001b[34m\u001b[1mМатрица признаков 42. Ejector-06: (7, 256)\u001b[0m\n",
      "\u001b[32m2025-08-14 16:35:00.179\u001b[0m | \u001b[34m\u001b[1mDEBUG   \u001b[0m | \u001b[36msrc.features.brep\u001b[0m:\u001b[36mextract_single\u001b[0m:\u001b[36m108\u001b[0m - \u001b[34m\u001b[1mМатрица признаков 42. Ejector-07: (7, 256)\u001b[0m\n",
      "\u001b[32m2025-08-14 16:35:00.243\u001b[0m | \u001b[34m\u001b[1mDEBUG   \u001b[0m | \u001b[36msrc.features.brep\u001b[0m:\u001b[36mextract_single\u001b[0m:\u001b[36m108\u001b[0m - \u001b[34m\u001b[1mМатрица признаков 42. Ejector-08: (7, 256)\u001b[0m\n",
      "\u001b[32m2025-08-14 16:35:00.312\u001b[0m | \u001b[34m\u001b[1mDEBUG   \u001b[0m | \u001b[36msrc.features.brep\u001b[0m:\u001b[36mextract_single\u001b[0m:\u001b[36m108\u001b[0m - \u001b[34m\u001b[1mМатрица признаков 42. Ejector-09: (7, 256)\u001b[0m\n",
      "\u001b[32m2025-08-14 16:35:00.376\u001b[0m | \u001b[34m\u001b[1mDEBUG   \u001b[0m | \u001b[36msrc.features.brep\u001b[0m:\u001b[36mextract_single\u001b[0m:\u001b[36m108\u001b[0m - \u001b[34m\u001b[1mМатрица признаков 42. Ejector-10: (7, 256)\u001b[0m\n",
      "\u001b[32m2025-08-14 16:35:00.437\u001b[0m | \u001b[34m\u001b[1mDEBUG   \u001b[0m | \u001b[36msrc.features.brep\u001b[0m:\u001b[36mextract_single\u001b[0m:\u001b[36m108\u001b[0m - \u001b[34m\u001b[1mМатрица признаков 42. Ejector: (7, 256)\u001b[0m\n",
      "\u001b[32m2025-08-14 16:35:00.561\u001b[0m | \u001b[34m\u001b[1mDEBUG   \u001b[0m | \u001b[36msrc.features.brep\u001b[0m:\u001b[36mextract_single\u001b[0m:\u001b[36m108\u001b[0m - \u001b[34m\u001b[1mМатрица признаков 42. Silencer Fix-01: (7, 256)\u001b[0m\n",
      "\u001b[32m2025-08-14 16:35:00.722\u001b[0m | \u001b[34m\u001b[1mDEBUG   \u001b[0m | \u001b[36msrc.features.brep\u001b[0m:\u001b[36mextract_single\u001b[0m:\u001b[36m108\u001b[0m - \u001b[34m\u001b[1mМатрица признаков 42. Silencer Fix-02: (7, 256)\u001b[0m\n",
      "\u001b[32m2025-08-14 16:35:00.843\u001b[0m | \u001b[34m\u001b[1mDEBUG   \u001b[0m | \u001b[36msrc.features.brep\u001b[0m:\u001b[36mextract_single\u001b[0m:\u001b[36m108\u001b[0m - \u001b[34m\u001b[1mМатрица признаков 42. Silencer Fix-03: (7, 256)\u001b[0m\n",
      "\u001b[32m2025-08-14 16:35:00.953\u001b[0m | \u001b[34m\u001b[1mDEBUG   \u001b[0m | \u001b[36msrc.features.brep\u001b[0m:\u001b[36mextract_single\u001b[0m:\u001b[36m108\u001b[0m - \u001b[34m\u001b[1mМатрица признаков 42. Silencer Fix-04: (7, 256)\u001b[0m\n",
      "\u001b[32m2025-08-14 16:35:01.064\u001b[0m | \u001b[34m\u001b[1mDEBUG   \u001b[0m | \u001b[36msrc.features.brep\u001b[0m:\u001b[36mextract_single\u001b[0m:\u001b[36m108\u001b[0m - \u001b[34m\u001b[1mМатрица признаков 42. Silencer Fix-05: (7, 256)\u001b[0m\n",
      "\u001b[32m2025-08-14 16:35:01.166\u001b[0m | \u001b[34m\u001b[1mDEBUG   \u001b[0m | \u001b[36msrc.features.brep\u001b[0m:\u001b[36mextract_single\u001b[0m:\u001b[36m108\u001b[0m - \u001b[34m\u001b[1mМатрица признаков 42. Silencer Fix-06: (7, 256)\u001b[0m\n",
      "\u001b[32m2025-08-14 16:35:01.261\u001b[0m | \u001b[34m\u001b[1mDEBUG   \u001b[0m | \u001b[36msrc.features.brep\u001b[0m:\u001b[36mextract_single\u001b[0m:\u001b[36m108\u001b[0m - \u001b[34m\u001b[1mМатрица признаков 42. Silencer Fix-07: (7, 256)\u001b[0m\n",
      "\u001b[32m2025-08-14 16:35:01.359\u001b[0m | \u001b[34m\u001b[1mDEBUG   \u001b[0m | \u001b[36msrc.features.brep\u001b[0m:\u001b[36mextract_single\u001b[0m:\u001b[36m108\u001b[0m - \u001b[34m\u001b[1mМатрица признаков 42. Silencer Fix-08: (7, 256)\u001b[0m\n",
      "\u001b[32m2025-08-14 16:35:01.446\u001b[0m | \u001b[34m\u001b[1mDEBUG   \u001b[0m | \u001b[36msrc.features.brep\u001b[0m:\u001b[36mextract_single\u001b[0m:\u001b[36m108\u001b[0m - \u001b[34m\u001b[1mМатрица признаков 42. Silencer Fix-09: (7, 256)\u001b[0m\n",
      "\u001b[32m2025-08-14 16:35:01.531\u001b[0m | \u001b[34m\u001b[1mDEBUG   \u001b[0m | \u001b[36msrc.features.brep\u001b[0m:\u001b[36mextract_single\u001b[0m:\u001b[36m108\u001b[0m - \u001b[34m\u001b[1mМатрица признаков 42. Silencer Fix-10: (7, 256)\u001b[0m\n",
      "\u001b[32m2025-08-14 16:35:01.652\u001b[0m | \u001b[34m\u001b[1mDEBUG   \u001b[0m | \u001b[36msrc.features.brep\u001b[0m:\u001b[36mextract_single\u001b[0m:\u001b[36m108\u001b[0m - \u001b[34m\u001b[1mМатрица признаков 42. Silencer Fix: (7, 256)\u001b[0m\n",
      "\u001b[32m2025-08-14 16:35:01.907\u001b[0m | \u001b[34m\u001b[1mDEBUG   \u001b[0m | \u001b[36msrc.features.brep\u001b[0m:\u001b[36mextract_single\u001b[0m:\u001b[36m108\u001b[0m - \u001b[34m\u001b[1mМатрица признаков 43. Extractor-01: (7, 256)\u001b[0m\n",
      "\u001b[32m2025-08-14 16:35:02.219\u001b[0m | \u001b[34m\u001b[1mDEBUG   \u001b[0m | \u001b[36msrc.features.brep\u001b[0m:\u001b[36mextract_single\u001b[0m:\u001b[36m108\u001b[0m - \u001b[34m\u001b[1mМатрица признаков 43. Extractor-02: (7, 256)\u001b[0m\n",
      "\u001b[32m2025-08-14 16:35:02.519\u001b[0m | \u001b[34m\u001b[1mDEBUG   \u001b[0m | \u001b[36msrc.features.brep\u001b[0m:\u001b[36mextract_single\u001b[0m:\u001b[36m108\u001b[0m - \u001b[34m\u001b[1mМатрица признаков 43. Extractor-03: (7, 256)\u001b[0m\n",
      "\u001b[32m2025-08-14 16:35:02.679\u001b[0m | \u001b[34m\u001b[1mDEBUG   \u001b[0m | \u001b[36msrc.features.brep\u001b[0m:\u001b[36mextract_single\u001b[0m:\u001b[36m108\u001b[0m - \u001b[34m\u001b[1mМатрица признаков 43. Extractor-04: (7, 256)\u001b[0m\n",
      "\u001b[32m2025-08-14 16:35:02.806\u001b[0m | \u001b[34m\u001b[1mDEBUG   \u001b[0m | \u001b[36msrc.features.brep\u001b[0m:\u001b[36mextract_single\u001b[0m:\u001b[36m108\u001b[0m - \u001b[34m\u001b[1mМатрица признаков 43. Extractor-05: (7, 256)\u001b[0m\n",
      "\u001b[32m2025-08-14 16:35:02.918\u001b[0m | \u001b[34m\u001b[1mDEBUG   \u001b[0m | \u001b[36msrc.features.brep\u001b[0m:\u001b[36mextract_single\u001b[0m:\u001b[36m108\u001b[0m - \u001b[34m\u001b[1mМатрица признаков 43. Extractor-06: (7, 256)\u001b[0m\n",
      "\u001b[32m2025-08-14 16:35:03.052\u001b[0m | \u001b[34m\u001b[1mDEBUG   \u001b[0m | \u001b[36msrc.features.brep\u001b[0m:\u001b[36mextract_single\u001b[0m:\u001b[36m108\u001b[0m - \u001b[34m\u001b[1mМатрица признаков 43. Extractor-07: (7, 256)\u001b[0m\n",
      "\u001b[32m2025-08-14 16:35:03.198\u001b[0m | \u001b[34m\u001b[1mDEBUG   \u001b[0m | \u001b[36msrc.features.brep\u001b[0m:\u001b[36mextract_single\u001b[0m:\u001b[36m108\u001b[0m - \u001b[34m\u001b[1mМатрица признаков 43. Extractor-08: (7, 256)\u001b[0m\n",
      "\u001b[32m2025-08-14 16:35:03.301\u001b[0m | \u001b[34m\u001b[1mDEBUG   \u001b[0m | \u001b[36msrc.features.brep\u001b[0m:\u001b[36mextract_single\u001b[0m:\u001b[36m108\u001b[0m - \u001b[34m\u001b[1mМатрица признаков 43. Extractor-09: (7, 256)\u001b[0m\n",
      "\u001b[32m2025-08-14 16:35:03.396\u001b[0m | \u001b[34m\u001b[1mDEBUG   \u001b[0m | \u001b[36msrc.features.brep\u001b[0m:\u001b[36mextract_single\u001b[0m:\u001b[36m108\u001b[0m - \u001b[34m\u001b[1mМатрица признаков 43. Extractor-10: (7, 256)\u001b[0m\n",
      "\u001b[32m2025-08-14 16:35:03.715\u001b[0m | \u001b[34m\u001b[1mDEBUG   \u001b[0m | \u001b[36msrc.features.brep\u001b[0m:\u001b[36mextract_single\u001b[0m:\u001b[36m108\u001b[0m - \u001b[34m\u001b[1mМатрица признаков 43. Extractor: (7, 256)\u001b[0m\n",
      "\u001b[32m2025-08-14 16:35:03.775\u001b[0m | \u001b[34m\u001b[1mDEBUG   \u001b[0m | \u001b[36msrc.features.brep\u001b[0m:\u001b[36mextract_single\u001b[0m:\u001b[36m108\u001b[0m - \u001b[34m\u001b[1mМатрица признаков 44. Extractor Pin-01: (7, 256)\u001b[0m\n",
      "\u001b[32m2025-08-14 16:35:03.842\u001b[0m | \u001b[34m\u001b[1mDEBUG   \u001b[0m | \u001b[36msrc.features.brep\u001b[0m:\u001b[36mextract_single\u001b[0m:\u001b[36m108\u001b[0m - \u001b[34m\u001b[1mМатрица признаков 44. Extractor Pin-02: (7, 256)\u001b[0m\n",
      "\u001b[32m2025-08-14 16:35:03.909\u001b[0m | \u001b[34m\u001b[1mDEBUG   \u001b[0m | \u001b[36msrc.features.brep\u001b[0m:\u001b[36mextract_single\u001b[0m:\u001b[36m108\u001b[0m - \u001b[34m\u001b[1mМатрица признаков 44. Extractor Pin-03: (7, 256)\u001b[0m\n",
      "\u001b[32m2025-08-14 16:35:03.958\u001b[0m | \u001b[34m\u001b[1mDEBUG   \u001b[0m | \u001b[36msrc.features.brep\u001b[0m:\u001b[36mextract_single\u001b[0m:\u001b[36m108\u001b[0m - \u001b[34m\u001b[1mМатрица признаков 44. Extractor Pin-04: (7, 256)\u001b[0m\n",
      "\u001b[32m2025-08-14 16:35:04.023\u001b[0m | \u001b[34m\u001b[1mDEBUG   \u001b[0m | \u001b[36msrc.features.brep\u001b[0m:\u001b[36mextract_single\u001b[0m:\u001b[36m108\u001b[0m - \u001b[34m\u001b[1mМатрица признаков 44. Extractor Pin-05: (7, 256)\u001b[0m\n",
      "\u001b[32m2025-08-14 16:35:04.082\u001b[0m | \u001b[34m\u001b[1mDEBUG   \u001b[0m | \u001b[36msrc.features.brep\u001b[0m:\u001b[36mextract_single\u001b[0m:\u001b[36m108\u001b[0m - \u001b[34m\u001b[1mМатрица признаков 44. Extractor Pin-06: (7, 256)\u001b[0m\n",
      "\u001b[32m2025-08-14 16:35:04.135\u001b[0m | \u001b[34m\u001b[1mDEBUG   \u001b[0m | \u001b[36msrc.features.brep\u001b[0m:\u001b[36mextract_single\u001b[0m:\u001b[36m108\u001b[0m - \u001b[34m\u001b[1mМатрица признаков 44. Extractor Pin-07: (7, 256)\u001b[0m\n",
      "\u001b[32m2025-08-14 16:35:04.233\u001b[0m | \u001b[34m\u001b[1mDEBUG   \u001b[0m | \u001b[36msrc.features.brep\u001b[0m:\u001b[36mextract_single\u001b[0m:\u001b[36m108\u001b[0m - \u001b[34m\u001b[1mМатрица признаков 44. Extractor Pin-08: (7, 256)\u001b[0m\n",
      "\u001b[32m2025-08-14 16:35:04.338\u001b[0m | \u001b[34m\u001b[1mDEBUG   \u001b[0m | \u001b[36msrc.features.brep\u001b[0m:\u001b[36mextract_single\u001b[0m:\u001b[36m108\u001b[0m - \u001b[34m\u001b[1mМатрица признаков 44. Extractor Pin-09: (7, 256)\u001b[0m\n",
      "\u001b[32m2025-08-14 16:35:04.432\u001b[0m | \u001b[34m\u001b[1mDEBUG   \u001b[0m | \u001b[36msrc.features.brep\u001b[0m:\u001b[36mextract_single\u001b[0m:\u001b[36m108\u001b[0m - \u001b[34m\u001b[1mМатрица признаков 44. Extractor Pin-10: (7, 256)\u001b[0m\n",
      "\u001b[32m2025-08-14 16:35:04.488\u001b[0m | \u001b[34m\u001b[1mDEBUG   \u001b[0m | \u001b[36msrc.features.brep\u001b[0m:\u001b[36mextract_single\u001b[0m:\u001b[36m108\u001b[0m - \u001b[34m\u001b[1mМатрица признаков 44. Extractor Pin: (7, 256)\u001b[0m\n",
      "\u001b[32m2025-08-14 16:35:04.881\u001b[0m | \u001b[34m\u001b[1mDEBUG   \u001b[0m | \u001b[36msrc.features.brep\u001b[0m:\u001b[36mextract_single\u001b[0m:\u001b[36m108\u001b[0m - \u001b[34m\u001b[1mМатрица признаков Затвор 1: (7, 256)\u001b[0m\n",
      "\u001b[32m2025-08-14 16:35:05.336\u001b[0m | \u001b[34m\u001b[1mDEBUG   \u001b[0m | \u001b[36msrc.features.brep\u001b[0m:\u001b[36mextract_single\u001b[0m:\u001b[36m108\u001b[0m - \u001b[34m\u001b[1mМатрица признаков Затвор 2: (7, 256)\u001b[0m\n",
      "\u001b[32m2025-08-14 16:35:05.703\u001b[0m | \u001b[34m\u001b[1mDEBUG   \u001b[0m | \u001b[36msrc.features.brep\u001b[0m:\u001b[36mextract_single\u001b[0m:\u001b[36m108\u001b[0m - \u001b[34m\u001b[1mМатрица признаков Затвор 3: (7, 256)\u001b[0m\n",
      "\u001b[32m2025-08-14 16:35:06.085\u001b[0m | \u001b[34m\u001b[1mDEBUG   \u001b[0m | \u001b[36msrc.features.brep\u001b[0m:\u001b[36mextract_single\u001b[0m:\u001b[36m108\u001b[0m - \u001b[34m\u001b[1mМатрица признаков Затвор 4: (7, 256)\u001b[0m\n",
      "\u001b[32m2025-08-14 16:35:06.388\u001b[0m | \u001b[34m\u001b[1mDEBUG   \u001b[0m | \u001b[36msrc.features.brep\u001b[0m:\u001b[36mextract_single\u001b[0m:\u001b[36m108\u001b[0m - \u001b[34m\u001b[1mМатрица признаков Затвор 5: (7, 256)\u001b[0m\n",
      "\u001b[32m2025-08-14 16:35:06.742\u001b[0m | \u001b[34m\u001b[1mDEBUG   \u001b[0m | \u001b[36msrc.features.brep\u001b[0m:\u001b[36mextract_single\u001b[0m:\u001b[36m108\u001b[0m - \u001b[34m\u001b[1mМатрица признаков Затвор 6: (7, 256)\u001b[0m\n",
      "\u001b[32m2025-08-14 16:35:07.091\u001b[0m | \u001b[34m\u001b[1mDEBUG   \u001b[0m | \u001b[36msrc.features.brep\u001b[0m:\u001b[36mextract_single\u001b[0m:\u001b[36m108\u001b[0m - \u001b[34m\u001b[1mМатрица признаков Затвор 7: (7, 256)\u001b[0m\n",
      "\u001b[32m2025-08-14 16:35:07.433\u001b[0m | \u001b[34m\u001b[1mDEBUG   \u001b[0m | \u001b[36msrc.features.brep\u001b[0m:\u001b[36mextract_single\u001b[0m:\u001b[36m108\u001b[0m - \u001b[34m\u001b[1mМатрица признаков Затвор 8: (7, 256)\u001b[0m\n",
      "\u001b[32m2025-08-14 16:35:07.834\u001b[0m | \u001b[34m\u001b[1mDEBUG   \u001b[0m | \u001b[36msrc.features.brep\u001b[0m:\u001b[36mextract_single\u001b[0m:\u001b[36m108\u001b[0m - \u001b[34m\u001b[1mМатрица признаков Затвор 9: (7, 256)\u001b[0m\n",
      "\u001b[32m2025-08-14 16:35:08.280\u001b[0m | \u001b[34m\u001b[1mDEBUG   \u001b[0m | \u001b[36msrc.features.brep\u001b[0m:\u001b[36mextract_single\u001b[0m:\u001b[36m108\u001b[0m - \u001b[34m\u001b[1mМатрица признаков Затвор: (7, 256)\u001b[0m\n",
      "\u001b[32m2025-08-14 16:35:08.388\u001b[0m | \u001b[34m\u001b[1mDEBUG   \u001b[0m | \u001b[36msrc.features.brep\u001b[0m:\u001b[36mextract_single\u001b[0m:\u001b[36m108\u001b[0m - \u001b[34m\u001b[1mМатрица признаков Зацеп трубки направляющий 1: (7, 256)\u001b[0m\n",
      "\u001b[32m2025-08-14 16:35:08.569\u001b[0m | \u001b[34m\u001b[1mDEBUG   \u001b[0m | \u001b[36msrc.features.brep\u001b[0m:\u001b[36mextract_single\u001b[0m:\u001b[36m108\u001b[0m - \u001b[34m\u001b[1mМатрица признаков Зацеп трубки направляющий 10: (7, 256)\u001b[0m\n",
      "\u001b[32m2025-08-14 16:35:08.644\u001b[0m | \u001b[34m\u001b[1mDEBUG   \u001b[0m | \u001b[36msrc.features.brep\u001b[0m:\u001b[36mextract_single\u001b[0m:\u001b[36m108\u001b[0m - \u001b[34m\u001b[1mМатрица признаков Зацеп трубки направляющий 2: (7, 256)\u001b[0m\n",
      "\u001b[32m2025-08-14 16:35:08.717\u001b[0m | \u001b[34m\u001b[1mDEBUG   \u001b[0m | \u001b[36msrc.features.brep\u001b[0m:\u001b[36mextract_single\u001b[0m:\u001b[36m108\u001b[0m - \u001b[34m\u001b[1mМатрица признаков Зацеп трубки направляющий 3: (7, 256)\u001b[0m\n",
      "\u001b[32m2025-08-14 16:35:08.800\u001b[0m | \u001b[34m\u001b[1mDEBUG   \u001b[0m | \u001b[36msrc.features.brep\u001b[0m:\u001b[36mextract_single\u001b[0m:\u001b[36m108\u001b[0m - \u001b[34m\u001b[1mМатрица признаков Зацеп трубки направляющий 4: (7, 256)\u001b[0m\n",
      "\u001b[32m2025-08-14 16:35:08.894\u001b[0m | \u001b[34m\u001b[1mDEBUG   \u001b[0m | \u001b[36msrc.features.brep\u001b[0m:\u001b[36mextract_single\u001b[0m:\u001b[36m108\u001b[0m - \u001b[34m\u001b[1mМатрица признаков Зацеп трубки направляющий 5: (7, 256)\u001b[0m\n",
      "\u001b[32m2025-08-14 16:35:08.986\u001b[0m | \u001b[34m\u001b[1mDEBUG   \u001b[0m | \u001b[36msrc.features.brep\u001b[0m:\u001b[36mextract_single\u001b[0m:\u001b[36m108\u001b[0m - \u001b[34m\u001b[1mМатрица признаков Зацеп трубки направляющий 6: (7, 256)\u001b[0m\n",
      "\u001b[32m2025-08-14 16:35:09.058\u001b[0m | \u001b[34m\u001b[1mDEBUG   \u001b[0m | \u001b[36msrc.features.brep\u001b[0m:\u001b[36mextract_single\u001b[0m:\u001b[36m108\u001b[0m - \u001b[34m\u001b[1mМатрица признаков Зацеп трубки направляющий 7: (7, 256)\u001b[0m\n",
      "\u001b[32m2025-08-14 16:35:09.134\u001b[0m | \u001b[34m\u001b[1mDEBUG   \u001b[0m | \u001b[36msrc.features.brep\u001b[0m:\u001b[36mextract_single\u001b[0m:\u001b[36m108\u001b[0m - \u001b[34m\u001b[1mМатрица признаков Зацеп трубки направляющий 8: (7, 256)\u001b[0m\n",
      "\u001b[32m2025-08-14 16:35:09.211\u001b[0m | \u001b[34m\u001b[1mDEBUG   \u001b[0m | \u001b[36msrc.features.brep\u001b[0m:\u001b[36mextract_single\u001b[0m:\u001b[36m108\u001b[0m - \u001b[34m\u001b[1mМатрица признаков Зацеп трубки направляющий 9: (7, 256)\u001b[0m\n",
      "\u001b[32m2025-08-14 16:35:09.283\u001b[0m | \u001b[34m\u001b[1mDEBUG   \u001b[0m | \u001b[36msrc.features.brep\u001b[0m:\u001b[36mextract_single\u001b[0m:\u001b[36m108\u001b[0m - \u001b[34m\u001b[1mМатрица признаков Зацеп трубки направляющий: (7, 256)\u001b[0m\n",
      "\u001b[32m2025-08-14 16:35:09.398\u001b[0m | \u001b[34m\u001b[1mDEBUG   \u001b[0m | \u001b[36msrc.features.brep\u001b[0m:\u001b[36mextract_single\u001b[0m:\u001b[36m108\u001b[0m - \u001b[34m\u001b[1mМатрица признаков Защелка 1: (7, 256)\u001b[0m\n",
      "\u001b[32m2025-08-14 16:35:09.623\u001b[0m | \u001b[34m\u001b[1mDEBUG   \u001b[0m | \u001b[36msrc.features.brep\u001b[0m:\u001b[36mextract_single\u001b[0m:\u001b[36m108\u001b[0m - \u001b[34m\u001b[1mМатрица признаков Защелка 10: (7, 256)\u001b[0m\n",
      "\u001b[32m2025-08-14 16:35:09.754\u001b[0m | \u001b[34m\u001b[1mDEBUG   \u001b[0m | \u001b[36msrc.features.brep\u001b[0m:\u001b[36mextract_single\u001b[0m:\u001b[36m108\u001b[0m - \u001b[34m\u001b[1mМатрица признаков Защелка 2: (7, 256)\u001b[0m\n",
      "\u001b[32m2025-08-14 16:35:09.864\u001b[0m | \u001b[34m\u001b[1mDEBUG   \u001b[0m | \u001b[36msrc.features.brep\u001b[0m:\u001b[36mextract_single\u001b[0m:\u001b[36m108\u001b[0m - \u001b[34m\u001b[1mМатрица признаков Защелка 3: (7, 256)\u001b[0m\n",
      "\u001b[32m2025-08-14 16:35:09.968\u001b[0m | \u001b[34m\u001b[1mDEBUG   \u001b[0m | \u001b[36msrc.features.brep\u001b[0m:\u001b[36mextract_single\u001b[0m:\u001b[36m108\u001b[0m - \u001b[34m\u001b[1mМатрица признаков Защелка 4: (7, 256)\u001b[0m\n",
      "\u001b[32m2025-08-14 16:35:10.068\u001b[0m | \u001b[34m\u001b[1mDEBUG   \u001b[0m | \u001b[36msrc.features.brep\u001b[0m:\u001b[36mextract_single\u001b[0m:\u001b[36m108\u001b[0m - \u001b[34m\u001b[1mМатрица признаков Защелка 5: (7, 256)\u001b[0m\n",
      "\u001b[32m2025-08-14 16:35:10.208\u001b[0m | \u001b[34m\u001b[1mDEBUG   \u001b[0m | \u001b[36msrc.features.brep\u001b[0m:\u001b[36mextract_single\u001b[0m:\u001b[36m108\u001b[0m - \u001b[34m\u001b[1mМатрица признаков Защелка 6: (7, 256)\u001b[0m\n",
      "\u001b[32m2025-08-14 16:35:10.401\u001b[0m | \u001b[34m\u001b[1mDEBUG   \u001b[0m | \u001b[36msrc.features.brep\u001b[0m:\u001b[36mextract_single\u001b[0m:\u001b[36m108\u001b[0m - \u001b[34m\u001b[1mМатрица признаков Защелка 7: (7, 256)\u001b[0m\n",
      "\u001b[32m2025-08-14 16:35:10.668\u001b[0m | \u001b[34m\u001b[1mDEBUG   \u001b[0m | \u001b[36msrc.features.brep\u001b[0m:\u001b[36mextract_single\u001b[0m:\u001b[36m108\u001b[0m - \u001b[34m\u001b[1mМатрица признаков Защелка 8: (7, 256)\u001b[0m\n",
      "\u001b[32m2025-08-14 16:35:10.889\u001b[0m | \u001b[34m\u001b[1mDEBUG   \u001b[0m | \u001b[36msrc.features.brep\u001b[0m:\u001b[36mextract_single\u001b[0m:\u001b[36m108\u001b[0m - \u001b[34m\u001b[1mМатрица признаков Защелка 9: (7, 256)\u001b[0m\n",
      "\u001b[32m2025-08-14 16:35:11.030\u001b[0m | \u001b[34m\u001b[1mDEBUG   \u001b[0m | \u001b[36msrc.features.brep\u001b[0m:\u001b[36mextract_single\u001b[0m:\u001b[36m108\u001b[0m - \u001b[34m\u001b[1mМатрица признаков Защелка: (7, 256)\u001b[0m\n",
      "\u001b[32m2025-08-14 16:35:11.202\u001b[0m | \u001b[34m\u001b[1mDEBUG   \u001b[0m | \u001b[36msrc.features.brep\u001b[0m:\u001b[36mextract_single\u001b[0m:\u001b[36m108\u001b[0m - \u001b[34m\u001b[1mМатрица признаков Защелка АК 1: (7, 256)\u001b[0m\n",
      "\u001b[32m2025-08-14 16:35:11.347\u001b[0m | \u001b[34m\u001b[1mDEBUG   \u001b[0m | \u001b[36msrc.features.brep\u001b[0m:\u001b[36mextract_single\u001b[0m:\u001b[36m108\u001b[0m - \u001b[34m\u001b[1mМатрица признаков Защелка АК 2: (7, 256)\u001b[0m\n",
      "\u001b[32m2025-08-14 16:35:11.502\u001b[0m | \u001b[34m\u001b[1mDEBUG   \u001b[0m | \u001b[36msrc.features.brep\u001b[0m:\u001b[36mextract_single\u001b[0m:\u001b[36m108\u001b[0m - \u001b[34m\u001b[1mМатрица признаков Защелка АК 3: (7, 256)\u001b[0m\n",
      "\u001b[32m2025-08-14 16:35:11.653\u001b[0m | \u001b[34m\u001b[1mDEBUG   \u001b[0m | \u001b[36msrc.features.brep\u001b[0m:\u001b[36mextract_single\u001b[0m:\u001b[36m108\u001b[0m - \u001b[34m\u001b[1mМатрица признаков Защелка АК 4: (7, 256)\u001b[0m\n",
      "\u001b[32m2025-08-14 16:35:11.804\u001b[0m | \u001b[34m\u001b[1mDEBUG   \u001b[0m | \u001b[36msrc.features.brep\u001b[0m:\u001b[36mextract_single\u001b[0m:\u001b[36m108\u001b[0m - \u001b[34m\u001b[1mМатрица признаков Защелка АК 5: (7, 256)\u001b[0m\n",
      "\u001b[32m2025-08-14 16:35:11.969\u001b[0m | \u001b[34m\u001b[1mDEBUG   \u001b[0m | \u001b[36msrc.features.brep\u001b[0m:\u001b[36mextract_single\u001b[0m:\u001b[36m108\u001b[0m - \u001b[34m\u001b[1mМатрица признаков Защелка АК 6: (7, 256)\u001b[0m\n",
      "\u001b[32m2025-08-14 16:35:12.187\u001b[0m | \u001b[34m\u001b[1mDEBUG   \u001b[0m | \u001b[36msrc.features.brep\u001b[0m:\u001b[36mextract_single\u001b[0m:\u001b[36m108\u001b[0m - \u001b[34m\u001b[1mМатрица признаков Защелка АК 7: (7, 256)\u001b[0m\n",
      "\u001b[32m2025-08-14 16:35:12.381\u001b[0m | \u001b[34m\u001b[1mDEBUG   \u001b[0m | \u001b[36msrc.features.brep\u001b[0m:\u001b[36mextract_single\u001b[0m:\u001b[36m108\u001b[0m - \u001b[34m\u001b[1mМатрица признаков Защелка АК 8: (7, 256)\u001b[0m\n",
      "\u001b[32m2025-08-14 16:35:12.596\u001b[0m | \u001b[34m\u001b[1mDEBUG   \u001b[0m | \u001b[36msrc.features.brep\u001b[0m:\u001b[36mextract_single\u001b[0m:\u001b[36m108\u001b[0m - \u001b[34m\u001b[1mМатрица признаков Защелка АК 9: (7, 256)\u001b[0m\n",
      "\u001b[32m2025-08-14 16:35:12.794\u001b[0m | \u001b[34m\u001b[1mDEBUG   \u001b[0m | \u001b[36msrc.features.brep\u001b[0m:\u001b[36mextract_single\u001b[0m:\u001b[36m108\u001b[0m - \u001b[34m\u001b[1mМатрица признаков Защелка АК: (7, 256)\u001b[0m\n",
      "\u001b[32m2025-08-14 16:35:13.068\u001b[0m | \u001b[34m\u001b[1mDEBUG   \u001b[0m | \u001b[36msrc.features.brep\u001b[0m:\u001b[36mextract_single\u001b[0m:\u001b[36m108\u001b[0m - \u001b[34m\u001b[1mМатрица признаков Камера газовая 1: (7, 256)\u001b[0m\n",
      "\u001b[32m2025-08-14 16:35:13.236\u001b[0m | \u001b[34m\u001b[1mDEBUG   \u001b[0m | \u001b[36msrc.features.brep\u001b[0m:\u001b[36mextract_single\u001b[0m:\u001b[36m108\u001b[0m - \u001b[34m\u001b[1mМатрица признаков Камера газовая 10: (7, 256)\u001b[0m\n",
      "\u001b[32m2025-08-14 16:35:13.495\u001b[0m | \u001b[34m\u001b[1mDEBUG   \u001b[0m | \u001b[36msrc.features.brep\u001b[0m:\u001b[36mextract_single\u001b[0m:\u001b[36m108\u001b[0m - \u001b[34m\u001b[1mМатрица признаков Камера газовая 2: (7, 256)\u001b[0m\n",
      "\u001b[32m2025-08-14 16:35:13.735\u001b[0m | \u001b[34m\u001b[1mDEBUG   \u001b[0m | \u001b[36msrc.features.brep\u001b[0m:\u001b[36mextract_single\u001b[0m:\u001b[36m108\u001b[0m - \u001b[34m\u001b[1mМатрица признаков Камера газовая 3: (7, 256)\u001b[0m\n",
      "\u001b[32m2025-08-14 16:35:13.959\u001b[0m | \u001b[34m\u001b[1mDEBUG   \u001b[0m | \u001b[36msrc.features.brep\u001b[0m:\u001b[36mextract_single\u001b[0m:\u001b[36m108\u001b[0m - \u001b[34m\u001b[1mМатрица признаков Камера газовая 4: (7, 256)\u001b[0m\n",
      "\u001b[32m2025-08-14 16:35:14.186\u001b[0m | \u001b[34m\u001b[1mDEBUG   \u001b[0m | \u001b[36msrc.features.brep\u001b[0m:\u001b[36mextract_single\u001b[0m:\u001b[36m108\u001b[0m - \u001b[34m\u001b[1mМатрица признаков Камера газовая 5: (7, 256)\u001b[0m\n",
      "\u001b[32m2025-08-14 16:35:14.421\u001b[0m | \u001b[34m\u001b[1mDEBUG   \u001b[0m | \u001b[36msrc.features.brep\u001b[0m:\u001b[36mextract_single\u001b[0m:\u001b[36m108\u001b[0m - \u001b[34m\u001b[1mМатрица признаков Камера газовая 6: (7, 256)\u001b[0m\n",
      "\u001b[32m2025-08-14 16:35:14.668\u001b[0m | \u001b[34m\u001b[1mDEBUG   \u001b[0m | \u001b[36msrc.features.brep\u001b[0m:\u001b[36mextract_single\u001b[0m:\u001b[36m108\u001b[0m - \u001b[34m\u001b[1mМатрица признаков Камера газовая 7: (7, 256)\u001b[0m\n",
      "\u001b[32m2025-08-14 16:35:14.840\u001b[0m | \u001b[34m\u001b[1mDEBUG   \u001b[0m | \u001b[36msrc.features.brep\u001b[0m:\u001b[36mextract_single\u001b[0m:\u001b[36m108\u001b[0m - \u001b[34m\u001b[1mМатрица признаков Камера газовая 8: (7, 256)\u001b[0m\n",
      "\u001b[32m2025-08-14 16:35:14.990\u001b[0m | \u001b[34m\u001b[1mDEBUG   \u001b[0m | \u001b[36msrc.features.brep\u001b[0m:\u001b[36mextract_single\u001b[0m:\u001b[36m108\u001b[0m - \u001b[34m\u001b[1mМатрица признаков Камера газовая 9: (7, 256)\u001b[0m\n",
      "\u001b[32m2025-08-14 16:35:15.269\u001b[0m | \u001b[34m\u001b[1mDEBUG   \u001b[0m | \u001b[36msrc.features.brep\u001b[0m:\u001b[36mextract_single\u001b[0m:\u001b[36m108\u001b[0m - \u001b[34m\u001b[1mМатрица признаков Камера газовая: (7, 256)\u001b[0m\n",
      "\u001b[32m2025-08-14 16:35:16.330\u001b[0m | \u001b[34m\u001b[1mDEBUG   \u001b[0m | \u001b[36msrc.features.brep\u001b[0m:\u001b[36mextract_single\u001b[0m:\u001b[36m108\u001b[0m - \u001b[34m\u001b[1mМатрица признаков Кожух 1: (7, 256)\u001b[0m\n",
      "\u001b[32m2025-08-14 16:35:17.081\u001b[0m | \u001b[34m\u001b[1mDEBUG   \u001b[0m | \u001b[36msrc.features.brep\u001b[0m:\u001b[36mextract_single\u001b[0m:\u001b[36m108\u001b[0m - \u001b[34m\u001b[1mМатрица признаков Кожух 10: (7, 256)\u001b[0m\n",
      "\u001b[32m2025-08-14 16:35:18.024\u001b[0m | \u001b[34m\u001b[1mDEBUG   \u001b[0m | \u001b[36msrc.features.brep\u001b[0m:\u001b[36mextract_single\u001b[0m:\u001b[36m108\u001b[0m - \u001b[34m\u001b[1mМатрица признаков Кожух 2: (7, 256)\u001b[0m\n",
      "\u001b[32m2025-08-14 16:35:18.971\u001b[0m | \u001b[34m\u001b[1mDEBUG   \u001b[0m | \u001b[36msrc.features.brep\u001b[0m:\u001b[36mextract_single\u001b[0m:\u001b[36m108\u001b[0m - \u001b[34m\u001b[1mМатрица признаков Кожух 3: (7, 256)\u001b[0m\n",
      "\u001b[32m2025-08-14 16:35:19.971\u001b[0m | \u001b[34m\u001b[1mDEBUG   \u001b[0m | \u001b[36msrc.features.brep\u001b[0m:\u001b[36mextract_single\u001b[0m:\u001b[36m108\u001b[0m - \u001b[34m\u001b[1mМатрица признаков Кожух 4: (7, 256)\u001b[0m\n",
      "\u001b[32m2025-08-14 16:35:20.920\u001b[0m | \u001b[34m\u001b[1mDEBUG   \u001b[0m | \u001b[36msrc.features.brep\u001b[0m:\u001b[36mextract_single\u001b[0m:\u001b[36m108\u001b[0m - \u001b[34m\u001b[1mМатрица признаков Кожух 5: (7, 256)\u001b[0m\n",
      "\u001b[32m2025-08-14 16:35:21.750\u001b[0m | \u001b[34m\u001b[1mDEBUG   \u001b[0m | \u001b[36msrc.features.brep\u001b[0m:\u001b[36mextract_single\u001b[0m:\u001b[36m108\u001b[0m - \u001b[34m\u001b[1mМатрица признаков Кожух 6: (7, 256)\u001b[0m\n",
      "\u001b[32m2025-08-14 16:35:22.548\u001b[0m | \u001b[34m\u001b[1mDEBUG   \u001b[0m | \u001b[36msrc.features.brep\u001b[0m:\u001b[36mextract_single\u001b[0m:\u001b[36m108\u001b[0m - \u001b[34m\u001b[1mМатрица признаков Кожух 7: (7, 256)\u001b[0m\n",
      "\u001b[32m2025-08-14 16:35:23.351\u001b[0m | \u001b[34m\u001b[1mDEBUG   \u001b[0m | \u001b[36msrc.features.brep\u001b[0m:\u001b[36mextract_single\u001b[0m:\u001b[36m108\u001b[0m - \u001b[34m\u001b[1mМатрица признаков Кожух 8: (7, 256)\u001b[0m\n",
      "\u001b[32m2025-08-14 16:35:24.252\u001b[0m | \u001b[34m\u001b[1mDEBUG   \u001b[0m | \u001b[36msrc.features.brep\u001b[0m:\u001b[36mextract_single\u001b[0m:\u001b[36m108\u001b[0m - \u001b[34m\u001b[1mМатрица признаков Кожух 9: (7, 256)\u001b[0m\n",
      "\u001b[32m2025-08-14 16:35:25.550\u001b[0m | \u001b[34m\u001b[1mDEBUG   \u001b[0m | \u001b[36msrc.features.brep\u001b[0m:\u001b[36mextract_single\u001b[0m:\u001b[36m108\u001b[0m - \u001b[34m\u001b[1mМатрица признаков Кожух: (7, 256)\u001b[0m\n",
      "\u001b[32m2025-08-14 16:35:25.791\u001b[0m | \u001b[34m\u001b[1mDEBUG   \u001b[0m | \u001b[36msrc.features.brep\u001b[0m:\u001b[36mextract_single\u001b[0m:\u001b[36m108\u001b[0m - \u001b[34m\u001b[1mМатрица признаков Колодка приклада 1: (7, 256)\u001b[0m\n",
      "\u001b[32m2025-08-14 16:35:26.029\u001b[0m | \u001b[34m\u001b[1mDEBUG   \u001b[0m | \u001b[36msrc.features.brep\u001b[0m:\u001b[36mextract_single\u001b[0m:\u001b[36m108\u001b[0m - \u001b[34m\u001b[1mМатрица признаков Колодка приклада 2: (7, 256)\u001b[0m\n",
      "\u001b[32m2025-08-14 16:35:26.260\u001b[0m | \u001b[34m\u001b[1mDEBUG   \u001b[0m | \u001b[36msrc.features.brep\u001b[0m:\u001b[36mextract_single\u001b[0m:\u001b[36m108\u001b[0m - \u001b[34m\u001b[1mМатрица признаков Колодка приклада 3: (7, 256)\u001b[0m\n",
      "\u001b[32m2025-08-14 16:35:26.498\u001b[0m | \u001b[34m\u001b[1mDEBUG   \u001b[0m | \u001b[36msrc.features.brep\u001b[0m:\u001b[36mextract_single\u001b[0m:\u001b[36m108\u001b[0m - \u001b[34m\u001b[1mМатрица признаков Колодка приклада 4: (7, 256)\u001b[0m\n",
      "\u001b[32m2025-08-14 16:35:26.733\u001b[0m | \u001b[34m\u001b[1mDEBUG   \u001b[0m | \u001b[36msrc.features.brep\u001b[0m:\u001b[36mextract_single\u001b[0m:\u001b[36m108\u001b[0m - \u001b[34m\u001b[1mМатрица признаков Колодка приклада 5: (7, 256)\u001b[0m\n",
      "\u001b[32m2025-08-14 16:35:26.959\u001b[0m | \u001b[34m\u001b[1mDEBUG   \u001b[0m | \u001b[36msrc.features.brep\u001b[0m:\u001b[36mextract_single\u001b[0m:\u001b[36m108\u001b[0m - \u001b[34m\u001b[1mМатрица признаков Колодка приклада 6: (7, 256)\u001b[0m\n",
      "\u001b[32m2025-08-14 16:35:27.181\u001b[0m | \u001b[34m\u001b[1mDEBUG   \u001b[0m | \u001b[36msrc.features.brep\u001b[0m:\u001b[36mextract_single\u001b[0m:\u001b[36m108\u001b[0m - \u001b[34m\u001b[1mМатрица признаков Колодка приклада 7: (7, 256)\u001b[0m\n",
      "\u001b[32m2025-08-14 16:35:27.406\u001b[0m | \u001b[34m\u001b[1mDEBUG   \u001b[0m | \u001b[36msrc.features.brep\u001b[0m:\u001b[36mextract_single\u001b[0m:\u001b[36m108\u001b[0m - \u001b[34m\u001b[1mМатрица признаков Колодка приклада 8: (7, 256)\u001b[0m\n",
      "\u001b[32m2025-08-14 16:35:27.703\u001b[0m | \u001b[34m\u001b[1mDEBUG   \u001b[0m | \u001b[36msrc.features.brep\u001b[0m:\u001b[36mextract_single\u001b[0m:\u001b[36m108\u001b[0m - \u001b[34m\u001b[1mМатрица признаков Колодка приклада 9: (7, 256)\u001b[0m\n",
      "\u001b[32m2025-08-14 16:35:27.941\u001b[0m | \u001b[34m\u001b[1mDEBUG   \u001b[0m | \u001b[36msrc.features.brep\u001b[0m:\u001b[36mextract_single\u001b[0m:\u001b[36m108\u001b[0m - \u001b[34m\u001b[1mМатрица признаков Колодка приклада: (7, 256)\u001b[0m\n",
      "\u001b[32m2025-08-14 16:35:28.356\u001b[0m | \u001b[34m\u001b[1mDEBUG   \u001b[0m | \u001b[36msrc.features.brep\u001b[0m:\u001b[36mextract_single\u001b[0m:\u001b[36m108\u001b[0m - \u001b[34m\u001b[1mМатрица признаков Колодка прицельная 1: (7, 256)\u001b[0m\n",
      "\u001b[32m2025-08-14 16:35:28.806\u001b[0m | \u001b[34m\u001b[1mDEBUG   \u001b[0m | \u001b[36msrc.features.brep\u001b[0m:\u001b[36mextract_single\u001b[0m:\u001b[36m108\u001b[0m - \u001b[34m\u001b[1mМатрица признаков Колодка прицельная 10: (7, 256)\u001b[0m\n",
      "\u001b[32m2025-08-14 16:35:29.173\u001b[0m | \u001b[34m\u001b[1mDEBUG   \u001b[0m | \u001b[36msrc.features.brep\u001b[0m:\u001b[36mextract_single\u001b[0m:\u001b[36m108\u001b[0m - \u001b[34m\u001b[1mМатрица признаков Колодка прицельная 2: (7, 256)\u001b[0m\n",
      "\u001b[32m2025-08-14 16:35:29.531\u001b[0m | \u001b[34m\u001b[1mDEBUG   \u001b[0m | \u001b[36msrc.features.brep\u001b[0m:\u001b[36mextract_single\u001b[0m:\u001b[36m108\u001b[0m - \u001b[34m\u001b[1mМатрица признаков Колодка прицельная 3: (7, 256)\u001b[0m\n",
      "\u001b[32m2025-08-14 16:35:29.889\u001b[0m | \u001b[34m\u001b[1mDEBUG   \u001b[0m | \u001b[36msrc.features.brep\u001b[0m:\u001b[36mextract_single\u001b[0m:\u001b[36m108\u001b[0m - \u001b[34m\u001b[1mМатрица признаков Колодка прицельная 4: (7, 256)\u001b[0m\n",
      "\u001b[32m2025-08-14 16:35:30.297\u001b[0m | \u001b[34m\u001b[1mDEBUG   \u001b[0m | \u001b[36msrc.features.brep\u001b[0m:\u001b[36mextract_single\u001b[0m:\u001b[36m108\u001b[0m - \u001b[34m\u001b[1mМатрица признаков Колодка прицельная 5: (7, 256)\u001b[0m\n",
      "\u001b[32m2025-08-14 16:35:30.763\u001b[0m | \u001b[34m\u001b[1mDEBUG   \u001b[0m | \u001b[36msrc.features.brep\u001b[0m:\u001b[36mextract_single\u001b[0m:\u001b[36m108\u001b[0m - \u001b[34m\u001b[1mМатрица признаков Колодка прицельная 6: (7, 256)\u001b[0m\n",
      "\u001b[32m2025-08-14 16:35:31.181\u001b[0m | \u001b[34m\u001b[1mDEBUG   \u001b[0m | \u001b[36msrc.features.brep\u001b[0m:\u001b[36mextract_single\u001b[0m:\u001b[36m108\u001b[0m - \u001b[34m\u001b[1mМатрица признаков Колодка прицельная 7: (7, 256)\u001b[0m\n",
      "\u001b[32m2025-08-14 16:35:31.603\u001b[0m | \u001b[34m\u001b[1mDEBUG   \u001b[0m | \u001b[36msrc.features.brep\u001b[0m:\u001b[36mextract_single\u001b[0m:\u001b[36m108\u001b[0m - \u001b[34m\u001b[1mМатрица признаков Колодка прицельная 8: (7, 256)\u001b[0m\n",
      "\u001b[32m2025-08-14 16:35:32.096\u001b[0m | \u001b[34m\u001b[1mDEBUG   \u001b[0m | \u001b[36msrc.features.brep\u001b[0m:\u001b[36mextract_single\u001b[0m:\u001b[36m108\u001b[0m - \u001b[34m\u001b[1mМатрица признаков Колодка прицельная 9: (7, 256)\u001b[0m\n",
      "\u001b[32m2025-08-14 16:35:32.511\u001b[0m | \u001b[34m\u001b[1mDEBUG   \u001b[0m | \u001b[36msrc.features.brep\u001b[0m:\u001b[36mextract_single\u001b[0m:\u001b[36m108\u001b[0m - \u001b[34m\u001b[1mМатрица признаков Колодка прицельная: (7, 256)\u001b[0m\n"
     ]
    }
   ],
   "source": [
    "\n",
    "extractor = BrepExtractor(output_mode='matrix')\n",
    "\n",
    "feature_vectors = []\n",
    "labels = []\n",
    "model_ids = []\n",
    "\n",
    "for item in dataset:\n",
    "    fv = extractor.extract_single(item)\n",
    "    if fv is not None:\n",
    "        feature_vectors.append(fv.vector)\n",
    "        labels.append(fv.label)\n",
    "        model_ids.append(fv.model_id)\n",
    "    else:\n",
    "        # Если не удалось извлечь признаки, пропускаем объект\n",
    "        print(f\"Пропуск: {item.model_id}\")\n",
    "\n",
    "X = np.stack(feature_vectors)\n",
    "y = np.array(labels)\n",
    "\n"
   ]
  },
  {
   "cell_type": "code",
   "execution_count": 5,
   "id": "4237cefa",
   "metadata": {},
   "outputs": [
    {
     "data": {
      "application/vnd.jupyter.widget-view+json": {
       "model_id": "825ffb57016b4b2bb08a37e4dd4c6378",
       "version_major": 2,
       "version_minor": 0
      },
      "text/plain": [
       "epochs:   0%|          | 0/100 [00:00<?, ?it/s]"
      ]
     },
     "metadata": {},
     "output_type": "display_data"
    },
    {
     "data": {
      "application/vnd.jupyter.widget-view+json": {
       "model_id": "1a50fddc6ba44c63858156abd28a312c",
       "version_major": 2,
       "version_minor": 0
      },
      "text/plain": [
       "train 1/100:   0%|          | 0/2 [00:00<?, ?it/s]"
      ]
     },
     "metadata": {},
     "output_type": "display_data"
    },
    {
     "data": {
      "application/vnd.jupyter.widget-view+json": {
       "model_id": "44288ab20cd4420f972ac82ad9433ec8",
       "version_major": 2,
       "version_minor": 0
      },
      "text/plain": [
       "valid:   0%|          | 0/1 [00:00<?, ?it/s]"
      ]
     },
     "metadata": {},
     "output_type": "display_data"
    },
    {
     "data": {
      "application/vnd.jupyter.widget-view+json": {
       "model_id": "ed1a8d15ff9c4b28a56488d8f62d9ecc",
       "version_major": 2,
       "version_minor": 0
      },
      "text/plain": [
       "train 2/100:   0%|          | 0/2 [00:00<?, ?it/s]"
      ]
     },
     "metadata": {},
     "output_type": "display_data"
    },
    {
     "data": {
      "application/vnd.jupyter.widget-view+json": {
       "model_id": "4a5f8e7a783a4bfe86643e73612eb81c",
       "version_major": 2,
       "version_minor": 0
      },
      "text/plain": [
       "valid:   0%|          | 0/1 [00:00<?, ?it/s]"
      ]
     },
     "metadata": {},
     "output_type": "display_data"
    },
    {
     "data": {
      "application/vnd.jupyter.widget-view+json": {
       "model_id": "9244a1f157ec44daa51eeb70f5b26630",
       "version_major": 2,
       "version_minor": 0
      },
      "text/plain": [
       "train 3/100:   0%|          | 0/2 [00:00<?, ?it/s]"
      ]
     },
     "metadata": {},
     "output_type": "display_data"
    },
    {
     "data": {
      "application/vnd.jupyter.widget-view+json": {
       "model_id": "e3d2ddf7828a46e781f627083e69511b",
       "version_major": 2,
       "version_minor": 0
      },
      "text/plain": [
       "valid:   0%|          | 0/1 [00:00<?, ?it/s]"
      ]
     },
     "metadata": {},
     "output_type": "display_data"
    },
    {
     "data": {
      "application/vnd.jupyter.widget-view+json": {
       "model_id": "522b6b8c2f1e4905957b9e49d629dbaf",
       "version_major": 2,
       "version_minor": 0
      },
      "text/plain": [
       "train 4/100:   0%|          | 0/2 [00:00<?, ?it/s]"
      ]
     },
     "metadata": {},
     "output_type": "display_data"
    },
    {
     "data": {
      "application/vnd.jupyter.widget-view+json": {
       "model_id": "3d30f2cc21cc4e73a10f82625d00e0a8",
       "version_major": 2,
       "version_minor": 0
      },
      "text/plain": [
       "valid:   0%|          | 0/1 [00:00<?, ?it/s]"
      ]
     },
     "metadata": {},
     "output_type": "display_data"
    },
    {
     "data": {
      "application/vnd.jupyter.widget-view+json": {
       "model_id": "e8664832dacb4509b0e04cf81337970a",
       "version_major": 2,
       "version_minor": 0
      },
      "text/plain": [
       "train 5/100:   0%|          | 0/2 [00:00<?, ?it/s]"
      ]
     },
     "metadata": {},
     "output_type": "display_data"
    },
    {
     "data": {
      "application/vnd.jupyter.widget-view+json": {
       "model_id": "8a39c96fef444ad4abc77dd5732308ba",
       "version_major": 2,
       "version_minor": 0
      },
      "text/plain": [
       "valid:   0%|          | 0/1 [00:00<?, ?it/s]"
      ]
     },
     "metadata": {},
     "output_type": "display_data"
    },
    {
     "data": {
      "application/vnd.jupyter.widget-view+json": {
       "model_id": "2a9b08abf2494b1fb930d0673dba522d",
       "version_major": 2,
       "version_minor": 0
      },
      "text/plain": [
       "train 6/100:   0%|          | 0/2 [00:00<?, ?it/s]"
      ]
     },
     "metadata": {},
     "output_type": "display_data"
    },
    {
     "data": {
      "application/vnd.jupyter.widget-view+json": {
       "model_id": "d64af42b8a514a678ee6b2113e833fd3",
       "version_major": 2,
       "version_minor": 0
      },
      "text/plain": [
       "valid:   0%|          | 0/1 [00:00<?, ?it/s]"
      ]
     },
     "metadata": {},
     "output_type": "display_data"
    },
    {
     "data": {
      "application/vnd.jupyter.widget-view+json": {
       "model_id": "ffdb17dd0a9c41708beb7df98122238c",
       "version_major": 2,
       "version_minor": 0
      },
      "text/plain": [
       "train 7/100:   0%|          | 0/2 [00:00<?, ?it/s]"
      ]
     },
     "metadata": {},
     "output_type": "display_data"
    },
    {
     "data": {
      "application/vnd.jupyter.widget-view+json": {
       "model_id": "28829fd995e14c1bb44096013c8b2a48",
       "version_major": 2,
       "version_minor": 0
      },
      "text/plain": [
       "valid:   0%|          | 0/1 [00:00<?, ?it/s]"
      ]
     },
     "metadata": {},
     "output_type": "display_data"
    },
    {
     "data": {
      "application/vnd.jupyter.widget-view+json": {
       "model_id": "8d850e946426488e8ffb833ed6c2ffd5",
       "version_major": 2,
       "version_minor": 0
      },
      "text/plain": [
       "train 8/100:   0%|          | 0/2 [00:00<?, ?it/s]"
      ]
     },
     "metadata": {},
     "output_type": "display_data"
    },
    {
     "data": {
      "application/vnd.jupyter.widget-view+json": {
       "model_id": "223f8b1c5bb44c298bd5be283eb83367",
       "version_major": 2,
       "version_minor": 0
      },
      "text/plain": [
       "valid:   0%|          | 0/1 [00:00<?, ?it/s]"
      ]
     },
     "metadata": {},
     "output_type": "display_data"
    },
    {
     "data": {
      "application/vnd.jupyter.widget-view+json": {
       "model_id": "f68b1db92949447dbb663a6e8f77c6cc",
       "version_major": 2,
       "version_minor": 0
      },
      "text/plain": [
       "train 9/100:   0%|          | 0/2 [00:00<?, ?it/s]"
      ]
     },
     "metadata": {},
     "output_type": "display_data"
    },
    {
     "data": {
      "application/vnd.jupyter.widget-view+json": {
       "model_id": "51ff40d0f6bc477fbfb4e6e1dd656ae4",
       "version_major": 2,
       "version_minor": 0
      },
      "text/plain": [
       "valid:   0%|          | 0/1 [00:00<?, ?it/s]"
      ]
     },
     "metadata": {},
     "output_type": "display_data"
    },
    {
     "data": {
      "application/vnd.jupyter.widget-view+json": {
       "model_id": "d5b79f1dd9e243098ba9081bb550109e",
       "version_major": 2,
       "version_minor": 0
      },
      "text/plain": [
       "train 10/100:   0%|          | 0/2 [00:00<?, ?it/s]"
      ]
     },
     "metadata": {},
     "output_type": "display_data"
    },
    {
     "data": {
      "application/vnd.jupyter.widget-view+json": {
       "model_id": "380367a680704d409a3acfdce8cfaf7b",
       "version_major": 2,
       "version_minor": 0
      },
      "text/plain": [
       "valid:   0%|          | 0/1 [00:00<?, ?it/s]"
      ]
     },
     "metadata": {},
     "output_type": "display_data"
    },
    {
     "data": {
      "application/vnd.jupyter.widget-view+json": {
       "model_id": "08ba0753b6014aa79a4bfdc0ac29511e",
       "version_major": 2,
       "version_minor": 0
      },
      "text/plain": [
       "train 11/100:   0%|          | 0/2 [00:00<?, ?it/s]"
      ]
     },
     "metadata": {},
     "output_type": "display_data"
    },
    {
     "data": {
      "application/vnd.jupyter.widget-view+json": {
       "model_id": "3cd1094beae94e5c92f4396fa1d04df7",
       "version_major": 2,
       "version_minor": 0
      },
      "text/plain": [
       "valid:   0%|          | 0/1 [00:00<?, ?it/s]"
      ]
     },
     "metadata": {},
     "output_type": "display_data"
    },
    {
     "data": {
      "application/vnd.jupyter.widget-view+json": {
       "model_id": "90bab33a5fed41aebb93da366dfa85ee",
       "version_major": 2,
       "version_minor": 0
      },
      "text/plain": [
       "train 12/100:   0%|          | 0/2 [00:00<?, ?it/s]"
      ]
     },
     "metadata": {},
     "output_type": "display_data"
    },
    {
     "data": {
      "application/vnd.jupyter.widget-view+json": {
       "model_id": "2cae81f5732b485499f04ac932d58375",
       "version_major": 2,
       "version_minor": 0
      },
      "text/plain": [
       "valid:   0%|          | 0/1 [00:00<?, ?it/s]"
      ]
     },
     "metadata": {},
     "output_type": "display_data"
    },
    {
     "data": {
      "application/vnd.jupyter.widget-view+json": {
       "model_id": "748e7bac28e34644b2caf3b3c972e73f",
       "version_major": 2,
       "version_minor": 0
      },
      "text/plain": [
       "train 13/100:   0%|          | 0/2 [00:00<?, ?it/s]"
      ]
     },
     "metadata": {},
     "output_type": "display_data"
    },
    {
     "data": {
      "application/vnd.jupyter.widget-view+json": {
       "model_id": "cf4792f5bbf644068900dbc27462770e",
       "version_major": 2,
       "version_minor": 0
      },
      "text/plain": [
       "valid:   0%|          | 0/1 [00:00<?, ?it/s]"
      ]
     },
     "metadata": {},
     "output_type": "display_data"
    },
    {
     "data": {
      "application/vnd.jupyter.widget-view+json": {
       "model_id": "860453511ecd46c5a8ff14284582d93e",
       "version_major": 2,
       "version_minor": 0
      },
      "text/plain": [
       "train 14/100:   0%|          | 0/2 [00:00<?, ?it/s]"
      ]
     },
     "metadata": {},
     "output_type": "display_data"
    },
    {
     "data": {
      "application/vnd.jupyter.widget-view+json": {
       "model_id": "2b4bdbebc3b5445cac4aa468d7685fb0",
       "version_major": 2,
       "version_minor": 0
      },
      "text/plain": [
       "valid:   0%|          | 0/1 [00:00<?, ?it/s]"
      ]
     },
     "metadata": {},
     "output_type": "display_data"
    },
    {
     "data": {
      "application/vnd.jupyter.widget-view+json": {
       "model_id": "e1ccffa99cf243cea5abcd07b945e3e9",
       "version_major": 2,
       "version_minor": 0
      },
      "text/plain": [
       "train 15/100:   0%|          | 0/2 [00:00<?, ?it/s]"
      ]
     },
     "metadata": {},
     "output_type": "display_data"
    },
    {
     "data": {
      "application/vnd.jupyter.widget-view+json": {
       "model_id": "94d5c6397a8d47fb87c559dac186ab6f",
       "version_major": 2,
       "version_minor": 0
      },
      "text/plain": [
       "valid:   0%|          | 0/1 [00:00<?, ?it/s]"
      ]
     },
     "metadata": {},
     "output_type": "display_data"
    },
    {
     "data": {
      "application/vnd.jupyter.widget-view+json": {
       "model_id": "3cc0fa0ac5cf4abdbd82714503828052",
       "version_major": 2,
       "version_minor": 0
      },
      "text/plain": [
       "train 16/100:   0%|          | 0/2 [00:00<?, ?it/s]"
      ]
     },
     "metadata": {},
     "output_type": "display_data"
    },
    {
     "data": {
      "application/vnd.jupyter.widget-view+json": {
       "model_id": "ce2a1e5086824aa8872a3cc03e41cbc1",
       "version_major": 2,
       "version_minor": 0
      },
      "text/plain": [
       "valid:   0%|          | 0/1 [00:00<?, ?it/s]"
      ]
     },
     "metadata": {},
     "output_type": "display_data"
    },
    {
     "data": {
      "application/vnd.jupyter.widget-view+json": {
       "model_id": "76d39d21bee14b4b897b2395770f6cf9",
       "version_major": 2,
       "version_minor": 0
      },
      "text/plain": [
       "train 17/100:   0%|          | 0/2 [00:00<?, ?it/s]"
      ]
     },
     "metadata": {},
     "output_type": "display_data"
    },
    {
     "data": {
      "application/vnd.jupyter.widget-view+json": {
       "model_id": "f38897b7362247e39c6b595e62ddd508",
       "version_major": 2,
       "version_minor": 0
      },
      "text/plain": [
       "valid:   0%|          | 0/1 [00:00<?, ?it/s]"
      ]
     },
     "metadata": {},
     "output_type": "display_data"
    },
    {
     "data": {
      "application/vnd.jupyter.widget-view+json": {
       "model_id": "3c9c5d2d89a049429226b3d140b5bc39",
       "version_major": 2,
       "version_minor": 0
      },
      "text/plain": [
       "train 18/100:   0%|          | 0/2 [00:00<?, ?it/s]"
      ]
     },
     "metadata": {},
     "output_type": "display_data"
    },
    {
     "data": {
      "application/vnd.jupyter.widget-view+json": {
       "model_id": "1ae471d6cb4743ce9cb92615dc6175c6",
       "version_major": 2,
       "version_minor": 0
      },
      "text/plain": [
       "valid:   0%|          | 0/1 [00:00<?, ?it/s]"
      ]
     },
     "metadata": {},
     "output_type": "display_data"
    },
    {
     "data": {
      "application/vnd.jupyter.widget-view+json": {
       "model_id": "1b2f6eb976c74465be0b1091faca2309",
       "version_major": 2,
       "version_minor": 0
      },
      "text/plain": [
       "train 19/100:   0%|          | 0/2 [00:00<?, ?it/s]"
      ]
     },
     "metadata": {},
     "output_type": "display_data"
    },
    {
     "data": {
      "application/vnd.jupyter.widget-view+json": {
       "model_id": "005af41f58114827aa5cd49d3b2103a9",
       "version_major": 2,
       "version_minor": 0
      },
      "text/plain": [
       "valid:   0%|          | 0/1 [00:00<?, ?it/s]"
      ]
     },
     "metadata": {},
     "output_type": "display_data"
    },
    {
     "data": {
      "application/vnd.jupyter.widget-view+json": {
       "model_id": "1f91d7d503744f93a07239209c803a02",
       "version_major": 2,
       "version_minor": 0
      },
      "text/plain": [
       "train 20/100:   0%|          | 0/2 [00:00<?, ?it/s]"
      ]
     },
     "metadata": {},
     "output_type": "display_data"
    },
    {
     "data": {
      "application/vnd.jupyter.widget-view+json": {
       "model_id": "68e5fee211e64b4c9f546a3edc8046c7",
       "version_major": 2,
       "version_minor": 0
      },
      "text/plain": [
       "valid:   0%|          | 0/1 [00:00<?, ?it/s]"
      ]
     },
     "metadata": {},
     "output_type": "display_data"
    },
    {
     "data": {
      "application/vnd.jupyter.widget-view+json": {
       "model_id": "ff10b2803eda45749bd78cd90dd4cd85",
       "version_major": 2,
       "version_minor": 0
      },
      "text/plain": [
       "train 21/100:   0%|          | 0/2 [00:00<?, ?it/s]"
      ]
     },
     "metadata": {},
     "output_type": "display_data"
    },
    {
     "data": {
      "application/vnd.jupyter.widget-view+json": {
       "model_id": "68d2c792487d45acb717ab0e71889561",
       "version_major": 2,
       "version_minor": 0
      },
      "text/plain": [
       "valid:   0%|          | 0/1 [00:00<?, ?it/s]"
      ]
     },
     "metadata": {},
     "output_type": "display_data"
    },
    {
     "data": {
      "application/vnd.jupyter.widget-view+json": {
       "model_id": "d83e60ee9d6a464099318c028af5188b",
       "version_major": 2,
       "version_minor": 0
      },
      "text/plain": [
       "train 22/100:   0%|          | 0/2 [00:00<?, ?it/s]"
      ]
     },
     "metadata": {},
     "output_type": "display_data"
    },
    {
     "data": {
      "application/vnd.jupyter.widget-view+json": {
       "model_id": "ee256aa95f0e4be38ce86429fa51480f",
       "version_major": 2,
       "version_minor": 0
      },
      "text/plain": [
       "valid:   0%|          | 0/1 [00:00<?, ?it/s]"
      ]
     },
     "metadata": {},
     "output_type": "display_data"
    },
    {
     "data": {
      "application/vnd.jupyter.widget-view+json": {
       "model_id": "20ab7f8218b0450b9aff1d256495e1b5",
       "version_major": 2,
       "version_minor": 0
      },
      "text/plain": [
       "train 23/100:   0%|          | 0/2 [00:00<?, ?it/s]"
      ]
     },
     "metadata": {},
     "output_type": "display_data"
    },
    {
     "data": {
      "application/vnd.jupyter.widget-view+json": {
       "model_id": "202dae6eeb144bfc9cf698abaf9f16bd",
       "version_major": 2,
       "version_minor": 0
      },
      "text/plain": [
       "valid:   0%|          | 0/1 [00:00<?, ?it/s]"
      ]
     },
     "metadata": {},
     "output_type": "display_data"
    },
    {
     "data": {
      "application/vnd.jupyter.widget-view+json": {
       "model_id": "93b4fedae42c4f9194133f88faffe6d6",
       "version_major": 2,
       "version_minor": 0
      },
      "text/plain": [
       "train 24/100:   0%|          | 0/2 [00:00<?, ?it/s]"
      ]
     },
     "metadata": {},
     "output_type": "display_data"
    },
    {
     "data": {
      "application/vnd.jupyter.widget-view+json": {
       "model_id": "e6e1d9ed0bf7427a9de313de00d0d7cd",
       "version_major": 2,
       "version_minor": 0
      },
      "text/plain": [
       "valid:   0%|          | 0/1 [00:00<?, ?it/s]"
      ]
     },
     "metadata": {},
     "output_type": "display_data"
    },
    {
     "data": {
      "application/vnd.jupyter.widget-view+json": {
       "model_id": "bcaec74f433946cc8253182d09957432",
       "version_major": 2,
       "version_minor": 0
      },
      "text/plain": [
       "train 25/100:   0%|          | 0/2 [00:00<?, ?it/s]"
      ]
     },
     "metadata": {},
     "output_type": "display_data"
    },
    {
     "data": {
      "application/vnd.jupyter.widget-view+json": {
       "model_id": "9973dd0f460d42dd91e746bd43609d91",
       "version_major": 2,
       "version_minor": 0
      },
      "text/plain": [
       "valid:   0%|          | 0/1 [00:00<?, ?it/s]"
      ]
     },
     "metadata": {},
     "output_type": "display_data"
    },
    {
     "data": {
      "application/vnd.jupyter.widget-view+json": {
       "model_id": "ba9310906d32496d8ef50394bd519468",
       "version_major": 2,
       "version_minor": 0
      },
      "text/plain": [
       "train 26/100:   0%|          | 0/2 [00:00<?, ?it/s]"
      ]
     },
     "metadata": {},
     "output_type": "display_data"
    },
    {
     "data": {
      "application/vnd.jupyter.widget-view+json": {
       "model_id": "a53115be8c3d4d0db15ccc9ade55c30f",
       "version_major": 2,
       "version_minor": 0
      },
      "text/plain": [
       "valid:   0%|          | 0/1 [00:00<?, ?it/s]"
      ]
     },
     "metadata": {},
     "output_type": "display_data"
    },
    {
     "data": {
      "application/vnd.jupyter.widget-view+json": {
       "model_id": "c09ac210500043c6a4dcab3da671e20e",
       "version_major": 2,
       "version_minor": 0
      },
      "text/plain": [
       "train 27/100:   0%|          | 0/2 [00:00<?, ?it/s]"
      ]
     },
     "metadata": {},
     "output_type": "display_data"
    },
    {
     "data": {
      "application/vnd.jupyter.widget-view+json": {
       "model_id": "502a099027924d81ab8ff3bb31cf118d",
       "version_major": 2,
       "version_minor": 0
      },
      "text/plain": [
       "valid:   0%|          | 0/1 [00:00<?, ?it/s]"
      ]
     },
     "metadata": {},
     "output_type": "display_data"
    },
    {
     "data": {
      "application/vnd.jupyter.widget-view+json": {
       "model_id": "a6c2c35fc7d94830aebabe5233b3e52a",
       "version_major": 2,
       "version_minor": 0
      },
      "text/plain": [
       "train 28/100:   0%|          | 0/2 [00:00<?, ?it/s]"
      ]
     },
     "metadata": {},
     "output_type": "display_data"
    },
    {
     "data": {
      "application/vnd.jupyter.widget-view+json": {
       "model_id": "ce437c15af5441ada3d1b7d4faa60b1e",
       "version_major": 2,
       "version_minor": 0
      },
      "text/plain": [
       "valid:   0%|          | 0/1 [00:00<?, ?it/s]"
      ]
     },
     "metadata": {},
     "output_type": "display_data"
    },
    {
     "data": {
      "application/vnd.jupyter.widget-view+json": {
       "model_id": "fd8648e245fb4d15b4a1a3dc33ac89f0",
       "version_major": 2,
       "version_minor": 0
      },
      "text/plain": [
       "train 29/100:   0%|          | 0/2 [00:00<?, ?it/s]"
      ]
     },
     "metadata": {},
     "output_type": "display_data"
    },
    {
     "data": {
      "application/vnd.jupyter.widget-view+json": {
       "model_id": "91d9439a210b4b9fbd0cb157fff816f9",
       "version_major": 2,
       "version_minor": 0
      },
      "text/plain": [
       "valid:   0%|          | 0/1 [00:00<?, ?it/s]"
      ]
     },
     "metadata": {},
     "output_type": "display_data"
    },
    {
     "data": {
      "application/vnd.jupyter.widget-view+json": {
       "model_id": "635f692d0fef49f8a3f9e6498d9e261b",
       "version_major": 2,
       "version_minor": 0
      },
      "text/plain": [
       "train 30/100:   0%|          | 0/2 [00:00<?, ?it/s]"
      ]
     },
     "metadata": {},
     "output_type": "display_data"
    },
    {
     "data": {
      "application/vnd.jupyter.widget-view+json": {
       "model_id": "aeeaf6d460c54f7ba32acc1ba5ed2e77",
       "version_major": 2,
       "version_minor": 0
      },
      "text/plain": [
       "valid:   0%|          | 0/1 [00:00<?, ?it/s]"
      ]
     },
     "metadata": {},
     "output_type": "display_data"
    },
    {
     "data": {
      "application/vnd.jupyter.widget-view+json": {
       "model_id": "60f20459cafb44b7bd3073b40df5d4ba",
       "version_major": 2,
       "version_minor": 0
      },
      "text/plain": [
       "train 31/100:   0%|          | 0/2 [00:00<?, ?it/s]"
      ]
     },
     "metadata": {},
     "output_type": "display_data"
    },
    {
     "data": {
      "application/vnd.jupyter.widget-view+json": {
       "model_id": "71bc06e94a514de4971649153c32e866",
       "version_major": 2,
       "version_minor": 0
      },
      "text/plain": [
       "valid:   0%|          | 0/1 [00:00<?, ?it/s]"
      ]
     },
     "metadata": {},
     "output_type": "display_data"
    },
    {
     "data": {
      "application/vnd.jupyter.widget-view+json": {
       "model_id": "ea15e3f1f2974c198ccd07b65930a7f1",
       "version_major": 2,
       "version_minor": 0
      },
      "text/plain": [
       "train 32/100:   0%|          | 0/2 [00:00<?, ?it/s]"
      ]
     },
     "metadata": {},
     "output_type": "display_data"
    },
    {
     "data": {
      "application/vnd.jupyter.widget-view+json": {
       "model_id": "1560c8866ea34c3ca18b6dab39b23e89",
       "version_major": 2,
       "version_minor": 0
      },
      "text/plain": [
       "valid:   0%|          | 0/1 [00:00<?, ?it/s]"
      ]
     },
     "metadata": {},
     "output_type": "display_data"
    },
    {
     "data": {
      "application/vnd.jupyter.widget-view+json": {
       "model_id": "0bb45f55a99348068f5d7ebff0c400b0",
       "version_major": 2,
       "version_minor": 0
      },
      "text/plain": [
       "train 33/100:   0%|          | 0/2 [00:00<?, ?it/s]"
      ]
     },
     "metadata": {},
     "output_type": "display_data"
    },
    {
     "data": {
      "application/vnd.jupyter.widget-view+json": {
       "model_id": "158797606458489d92538e601a4980db",
       "version_major": 2,
       "version_minor": 0
      },
      "text/plain": [
       "valid:   0%|          | 0/1 [00:00<?, ?it/s]"
      ]
     },
     "metadata": {},
     "output_type": "display_data"
    },
    {
     "data": {
      "application/vnd.jupyter.widget-view+json": {
       "model_id": "58bf10b432e0477782b93cf61a2d5a89",
       "version_major": 2,
       "version_minor": 0
      },
      "text/plain": [
       "train 34/100:   0%|          | 0/2 [00:00<?, ?it/s]"
      ]
     },
     "metadata": {},
     "output_type": "display_data"
    },
    {
     "data": {
      "application/vnd.jupyter.widget-view+json": {
       "model_id": "4c8010938f38460990231761f3dad5c4",
       "version_major": 2,
       "version_minor": 0
      },
      "text/plain": [
       "valid:   0%|          | 0/1 [00:00<?, ?it/s]"
      ]
     },
     "metadata": {},
     "output_type": "display_data"
    },
    {
     "data": {
      "application/vnd.jupyter.widget-view+json": {
       "model_id": "3c2436ea2b1f4194a6d5a59ad1dfe456",
       "version_major": 2,
       "version_minor": 0
      },
      "text/plain": [
       "train 35/100:   0%|          | 0/2 [00:00<?, ?it/s]"
      ]
     },
     "metadata": {},
     "output_type": "display_data"
    },
    {
     "data": {
      "application/vnd.jupyter.widget-view+json": {
       "model_id": "f45d26fac1044e68b6b4b5eb6ddfb092",
       "version_major": 2,
       "version_minor": 0
      },
      "text/plain": [
       "valid:   0%|          | 0/1 [00:00<?, ?it/s]"
      ]
     },
     "metadata": {},
     "output_type": "display_data"
    },
    {
     "data": {
      "application/vnd.jupyter.widget-view+json": {
       "model_id": "63e4ee22efd4496a8d7f9c17be44e254",
       "version_major": 2,
       "version_minor": 0
      },
      "text/plain": [
       "train 36/100:   0%|          | 0/2 [00:00<?, ?it/s]"
      ]
     },
     "metadata": {},
     "output_type": "display_data"
    },
    {
     "data": {
      "application/vnd.jupyter.widget-view+json": {
       "model_id": "0765c7494202476b82b44f81d26da70d",
       "version_major": 2,
       "version_minor": 0
      },
      "text/plain": [
       "valid:   0%|          | 0/1 [00:00<?, ?it/s]"
      ]
     },
     "metadata": {},
     "output_type": "display_data"
    },
    {
     "data": {
      "application/vnd.jupyter.widget-view+json": {
       "model_id": "d26c20b723ad4d1cbe8ce9110c8dc2b8",
       "version_major": 2,
       "version_minor": 0
      },
      "text/plain": [
       "train 37/100:   0%|          | 0/2 [00:00<?, ?it/s]"
      ]
     },
     "metadata": {},
     "output_type": "display_data"
    },
    {
     "data": {
      "application/vnd.jupyter.widget-view+json": {
       "model_id": "92139e0d52a946e787660b2c929278fb",
       "version_major": 2,
       "version_minor": 0
      },
      "text/plain": [
       "valid:   0%|          | 0/1 [00:00<?, ?it/s]"
      ]
     },
     "metadata": {},
     "output_type": "display_data"
    },
    {
     "data": {
      "application/vnd.jupyter.widget-view+json": {
       "model_id": "15aea94534274000866898c74e40fbbf",
       "version_major": 2,
       "version_minor": 0
      },
      "text/plain": [
       "train 38/100:   0%|          | 0/2 [00:00<?, ?it/s]"
      ]
     },
     "metadata": {},
     "output_type": "display_data"
    },
    {
     "data": {
      "application/vnd.jupyter.widget-view+json": {
       "model_id": "d4353c893f434b928cc77dac5bd04325",
       "version_major": 2,
       "version_minor": 0
      },
      "text/plain": [
       "valid:   0%|          | 0/1 [00:00<?, ?it/s]"
      ]
     },
     "metadata": {},
     "output_type": "display_data"
    },
    {
     "data": {
      "application/vnd.jupyter.widget-view+json": {
       "model_id": "554a8deb9375407f92af1006b620ddf7",
       "version_major": 2,
       "version_minor": 0
      },
      "text/plain": [
       "train 39/100:   0%|          | 0/2 [00:00<?, ?it/s]"
      ]
     },
     "metadata": {},
     "output_type": "display_data"
    },
    {
     "data": {
      "application/vnd.jupyter.widget-view+json": {
       "model_id": "636b0cadb77d421491de27aef5295a26",
       "version_major": 2,
       "version_minor": 0
      },
      "text/plain": [
       "valid:   0%|          | 0/1 [00:00<?, ?it/s]"
      ]
     },
     "metadata": {},
     "output_type": "display_data"
    },
    {
     "data": {
      "application/vnd.jupyter.widget-view+json": {
       "model_id": "5a18a17a4d3b4dac88a452978c233336",
       "version_major": 2,
       "version_minor": 0
      },
      "text/plain": [
       "train 40/100:   0%|          | 0/2 [00:00<?, ?it/s]"
      ]
     },
     "metadata": {},
     "output_type": "display_data"
    },
    {
     "data": {
      "application/vnd.jupyter.widget-view+json": {
       "model_id": "0b6f46ab303a435289ec920bb880cbae",
       "version_major": 2,
       "version_minor": 0
      },
      "text/plain": [
       "valid:   0%|          | 0/1 [00:00<?, ?it/s]"
      ]
     },
     "metadata": {},
     "output_type": "display_data"
    },
    {
     "data": {
      "application/vnd.jupyter.widget-view+json": {
       "model_id": "f20d7dc16d6f43f389fe8966d7cf1c0d",
       "version_major": 2,
       "version_minor": 0
      },
      "text/plain": [
       "train 41/100:   0%|          | 0/2 [00:00<?, ?it/s]"
      ]
     },
     "metadata": {},
     "output_type": "display_data"
    },
    {
     "data": {
      "application/vnd.jupyter.widget-view+json": {
       "model_id": "675f8a266f614698b5e838d539efcd2e",
       "version_major": 2,
       "version_minor": 0
      },
      "text/plain": [
       "valid:   0%|          | 0/1 [00:00<?, ?it/s]"
      ]
     },
     "metadata": {},
     "output_type": "display_data"
    },
    {
     "data": {
      "application/vnd.jupyter.widget-view+json": {
       "model_id": "d83fc14708cd4c5d884c4c74c3be090b",
       "version_major": 2,
       "version_minor": 0
      },
      "text/plain": [
       "train 42/100:   0%|          | 0/2 [00:00<?, ?it/s]"
      ]
     },
     "metadata": {},
     "output_type": "display_data"
    },
    {
     "data": {
      "application/vnd.jupyter.widget-view+json": {
       "model_id": "c7caaed8b2094925b0765fef548c665a",
       "version_major": 2,
       "version_minor": 0
      },
      "text/plain": [
       "valid:   0%|          | 0/1 [00:00<?, ?it/s]"
      ]
     },
     "metadata": {},
     "output_type": "display_data"
    },
    {
     "data": {
      "application/vnd.jupyter.widget-view+json": {
       "model_id": "716e06fe0dbf4727920c9991646337ce",
       "version_major": 2,
       "version_minor": 0
      },
      "text/plain": [
       "train 43/100:   0%|          | 0/2 [00:00<?, ?it/s]"
      ]
     },
     "metadata": {},
     "output_type": "display_data"
    },
    {
     "data": {
      "application/vnd.jupyter.widget-view+json": {
       "model_id": "a0dca79e5bf9479bb39a86615dbee100",
       "version_major": 2,
       "version_minor": 0
      },
      "text/plain": [
       "valid:   0%|          | 0/1 [00:00<?, ?it/s]"
      ]
     },
     "metadata": {},
     "output_type": "display_data"
    },
    {
     "data": {
      "application/vnd.jupyter.widget-view+json": {
       "model_id": "8218f30fb4a84d1f863f3af2068624f6",
       "version_major": 2,
       "version_minor": 0
      },
      "text/plain": [
       "train 44/100:   0%|          | 0/2 [00:00<?, ?it/s]"
      ]
     },
     "metadata": {},
     "output_type": "display_data"
    },
    {
     "data": {
      "application/vnd.jupyter.widget-view+json": {
       "model_id": "fc2c43857df34185b35bca97830842dd",
       "version_major": 2,
       "version_minor": 0
      },
      "text/plain": [
       "valid:   0%|          | 0/1 [00:00<?, ?it/s]"
      ]
     },
     "metadata": {},
     "output_type": "display_data"
    },
    {
     "data": {
      "application/vnd.jupyter.widget-view+json": {
       "model_id": "6aa042a5edde4847a5904a00590baa51",
       "version_major": 2,
       "version_minor": 0
      },
      "text/plain": [
       "train 45/100:   0%|          | 0/2 [00:00<?, ?it/s]"
      ]
     },
     "metadata": {},
     "output_type": "display_data"
    },
    {
     "data": {
      "application/vnd.jupyter.widget-view+json": {
       "model_id": "a514e9d1e85049209d8815586db9287f",
       "version_major": 2,
       "version_minor": 0
      },
      "text/plain": [
       "valid:   0%|          | 0/1 [00:00<?, ?it/s]"
      ]
     },
     "metadata": {},
     "output_type": "display_data"
    },
    {
     "data": {
      "application/vnd.jupyter.widget-view+json": {
       "model_id": "d12fdf3dff1c4a5d9a79a83800e044b6",
       "version_major": 2,
       "version_minor": 0
      },
      "text/plain": [
       "train 46/100:   0%|          | 0/2 [00:00<?, ?it/s]"
      ]
     },
     "metadata": {},
     "output_type": "display_data"
    },
    {
     "data": {
      "application/vnd.jupyter.widget-view+json": {
       "model_id": "e8bafabc99a84516b78e495a66c8278e",
       "version_major": 2,
       "version_minor": 0
      },
      "text/plain": [
       "valid:   0%|          | 0/1 [00:00<?, ?it/s]"
      ]
     },
     "metadata": {},
     "output_type": "display_data"
    },
    {
     "data": {
      "application/vnd.jupyter.widget-view+json": {
       "model_id": "8ceff442dfd54591b0a3dd1affa4da56",
       "version_major": 2,
       "version_minor": 0
      },
      "text/plain": [
       "train 47/100:   0%|          | 0/2 [00:00<?, ?it/s]"
      ]
     },
     "metadata": {},
     "output_type": "display_data"
    },
    {
     "data": {
      "application/vnd.jupyter.widget-view+json": {
       "model_id": "902c08a18ee34bb589ea7cc4557448af",
       "version_major": 2,
       "version_minor": 0
      },
      "text/plain": [
       "valid:   0%|          | 0/1 [00:00<?, ?it/s]"
      ]
     },
     "metadata": {},
     "output_type": "display_data"
    },
    {
     "data": {
      "application/vnd.jupyter.widget-view+json": {
       "model_id": "0fcc622b586948cdbe7b7d4f6c531b24",
       "version_major": 2,
       "version_minor": 0
      },
      "text/plain": [
       "train 48/100:   0%|          | 0/2 [00:00<?, ?it/s]"
      ]
     },
     "metadata": {},
     "output_type": "display_data"
    },
    {
     "data": {
      "application/vnd.jupyter.widget-view+json": {
       "model_id": "39ab7b2a4af741a7a3b76326a6a620e9",
       "version_major": 2,
       "version_minor": 0
      },
      "text/plain": [
       "valid:   0%|          | 0/1 [00:00<?, ?it/s]"
      ]
     },
     "metadata": {},
     "output_type": "display_data"
    },
    {
     "data": {
      "application/vnd.jupyter.widget-view+json": {
       "model_id": "117a021285ab482e910c41c534af1f7a",
       "version_major": 2,
       "version_minor": 0
      },
      "text/plain": [
       "train 49/100:   0%|          | 0/2 [00:00<?, ?it/s]"
      ]
     },
     "metadata": {},
     "output_type": "display_data"
    },
    {
     "data": {
      "application/vnd.jupyter.widget-view+json": {
       "model_id": "597c7c56352d48679bc73ba1346667e9",
       "version_major": 2,
       "version_minor": 0
      },
      "text/plain": [
       "valid:   0%|          | 0/1 [00:00<?, ?it/s]"
      ]
     },
     "metadata": {},
     "output_type": "display_data"
    },
    {
     "data": {
      "application/vnd.jupyter.widget-view+json": {
       "model_id": "04728638a606481cbb4d8575d55c2513",
       "version_major": 2,
       "version_minor": 0
      },
      "text/plain": [
       "train 50/100:   0%|          | 0/2 [00:00<?, ?it/s]"
      ]
     },
     "metadata": {},
     "output_type": "display_data"
    },
    {
     "data": {
      "application/vnd.jupyter.widget-view+json": {
       "model_id": "ce6ab54a3de845289bca8f686e132a2b",
       "version_major": 2,
       "version_minor": 0
      },
      "text/plain": [
       "valid:   0%|          | 0/1 [00:00<?, ?it/s]"
      ]
     },
     "metadata": {},
     "output_type": "display_data"
    },
    {
     "data": {
      "application/vnd.jupyter.widget-view+json": {
       "model_id": "59dd3af677df442390a7cb0026abb8c1",
       "version_major": 2,
       "version_minor": 0
      },
      "text/plain": [
       "train 51/100:   0%|          | 0/2 [00:00<?, ?it/s]"
      ]
     },
     "metadata": {},
     "output_type": "display_data"
    },
    {
     "data": {
      "application/vnd.jupyter.widget-view+json": {
       "model_id": "6e77b4e083dc462480c093113fdcf0f2",
       "version_major": 2,
       "version_minor": 0
      },
      "text/plain": [
       "valid:   0%|          | 0/1 [00:00<?, ?it/s]"
      ]
     },
     "metadata": {},
     "output_type": "display_data"
    },
    {
     "data": {
      "application/vnd.jupyter.widget-view+json": {
       "model_id": "10b0acb800ba430380798a4ccfabd47f",
       "version_major": 2,
       "version_minor": 0
      },
      "text/plain": [
       "train 52/100:   0%|          | 0/2 [00:00<?, ?it/s]"
      ]
     },
     "metadata": {},
     "output_type": "display_data"
    },
    {
     "data": {
      "application/vnd.jupyter.widget-view+json": {
       "model_id": "852ca4eedcf94069ad58353538f1bdc9",
       "version_major": 2,
       "version_minor": 0
      },
      "text/plain": [
       "valid:   0%|          | 0/1 [00:00<?, ?it/s]"
      ]
     },
     "metadata": {},
     "output_type": "display_data"
    },
    {
     "data": {
      "application/vnd.jupyter.widget-view+json": {
       "model_id": "1c4ece948bb94c10885c4d749acadaad",
       "version_major": 2,
       "version_minor": 0
      },
      "text/plain": [
       "train 53/100:   0%|          | 0/2 [00:00<?, ?it/s]"
      ]
     },
     "metadata": {},
     "output_type": "display_data"
    },
    {
     "data": {
      "application/vnd.jupyter.widget-view+json": {
       "model_id": "8c953f58e1e74820b4a43db32294428b",
       "version_major": 2,
       "version_minor": 0
      },
      "text/plain": [
       "valid:   0%|          | 0/1 [00:00<?, ?it/s]"
      ]
     },
     "metadata": {},
     "output_type": "display_data"
    },
    {
     "name": "stdout",
     "output_type": "stream",
     "text": [
      "Модель обучена. Количество классов: 12\n",
      "{'accuracy': 0.9722222222222222, 'f1_macro': 0.9714285714285715, 'f1_micro': 0.9722222222222222, 'balanced_acc': 0.9722222222222222, 'map_macro': 0.9888888888888889}\n"
     ]
    }
   ],
   "source": [
    "from loguru import logger\n",
    "from src.modeling.utils.seed import set_seed\n",
    "from src.modeling.training.trainer_cnn1d import TrainConfigCNN, train_cnn1d\n",
    "from src.modeling.models.cnn1d import build_cnn1d_base\n",
    "\n",
    "set_seed(42)\n",
    "cfg = TrainConfigCNN(val_per_class=3, early_stop_patience=10, emb_dim=256)\n",
    "model, le, history, metrics = train_cnn1d(\n",
    "    X, y, cfg,\n",
    "    model_builder=lambda C: build_cnn1d_base(num_classes=C, emb_dim=cfg.emb_dim),\n",
    "    logger=None\n",
    ")\n",
    "\n",
    "print(f\"Модель обучена. Количество классов: {len(le.classes_)}\")\n",
    "print(metrics)\n",
    "\n",
    "\n"
   ]
  },
  {
   "cell_type": "code",
   "execution_count": 14,
   "id": "e83995c1",
   "metadata": {},
   "outputs": [
    {
     "data": {
      "image/png": "[encoded data removed]",
      "text/plain": [
       "<Figure size 1000x800 with 2 Axes>"
      ]
     },
     "metadata": {},
     "output_type": "display_data"
    }
   ],
   "source": [
    "import torch\n",
    "import numpy as np\n",
    "import pickle\n",
    "from sklearn.metrics import confusion_matrix, ConfusionMatrixDisplay\n",
    "import matplotlib.pyplot as plt\n",
    "\n",
    "# 1. Загрузка чекпойнта и LabelEncoder\n",
    "ckpt = torch.load(\"best_cnn1d.pt\", map_location=\"cpu\")\n",
    "with open(\"best_cnn1d_norm.pkl\", \"rb\") as f:\n",
    "    norm_stats = pickle.load(f)\n",
    "with open(\"best_cnn1d_label_encoder.pkl\", \"rb\") as f:\n",
    "    le = pickle.load(f)\n",
    "\n",
    "# 2. Восстановите модель\n",
    "from src.modeling.models.cnn1d import build_cnn1d_base\n",
    "num_classes = len(le.classes_)\n",
    "model = build_cnn1d_base(num_classes=num_classes, emb_dim=ckpt[\"config\"][\"emb_dim\"])\n",
    "model.load_state_dict(ckpt[\"model\"])\n",
    "model.eval()\n",
    "\n",
    "# 3. Подготовьте данные (X_val, y_val)\n",
    "# Примените нормализацию, как в train_cnn1d\n",
    "from src.modeling.data.normalization import apply_norm_cp\n",
    "X_val = apply_norm_cp(X, norm_stats[\"mu\"], norm_stats[\"std\"])\n",
    "y_val = y\n",
    "\n",
    "# 4. Получите предсказания\n",
    "with torch.no_grad():\n",
    "    logits = model(torch.tensor(X_val, dtype=torch.float32))\n",
    "    y_pred = logits.argmax(dim=1).cpu().numpy()\n",
    "    y_true = le.transform(y_val)\n",
    "\n",
    "# 5. Постройте confusion matrix\n",
    "cm = confusion_matrix(y_true, y_pred)\n",
    "# disp = ConfusionMatrixDisplay(cm, display_labels=le.classes_)\n",
    "plt.figure(figsize=(10, 8))\n",
    "sns.heatmap(cm, \n",
    "            annot=True, \n",
    "            fmt='d', \n",
    "            cmap='Blues',\n",
    "            xticklabels=le.classes_,\n",
    "            yticklabels=le.classes_)\n",
    "plt.show()"
   ]
  }
 ],
 "metadata": {
  "kernelspec": {
   "display_name": "cv",
   "language": "python",
   "name": "python3"
  },
  "language_info": {
   "codemirror_mode": {
    "name": "ipython",
    "version": 3
   },
   "file_extension": ".py",
   "mimetype": "text/x-python",
   "name": "python",
   "nbconvert_exporter": "python",
   "pygments_lexer": "ipython3",
   "version": "3.11.13"
  }
 },
 "nbformat": 4,
 "nbformat_minor": 5
}

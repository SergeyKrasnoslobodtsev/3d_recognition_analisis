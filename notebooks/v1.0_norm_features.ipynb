{
 "cells": [
  {
   "cell_type": "markdown",
   "id": "2dbd82d5",
   "metadata": {},
   "source": [
    "# Анализ нормализации признаков, извлечённых с помощью BrepExtractor\n",
    "\n",
    "В этом ноутбуке мы исследуем, насколько хорошо нормализованы признаки, получаемые из 3D-моделей с помощью BrepExtractor. Будут рассмотрены распределения, статистики и возможные выбросы для каждого блока признаков."
   ]
  },
  {
   "cell_type": "markdown",
   "id": "0fc3d94a",
   "metadata": {},
   "source": [
    "## 1. Импорт необходимых библиотек\n",
    "\n",
    "Импортируем основные библиотеки для анализа и визуализации, а также классы BrepExtractor и DataModel."
   ]
  },
  {
   "cell_type": "code",
   "execution_count": 1,
   "id": "61ca8c1c",
   "metadata": {},
   "outputs": [
    {
     "name": "stderr",
     "output_type": "stream",
     "text": [
      "\u001b[32m2025-08-14 15:07:14.044\u001b[0m | \u001b[1mINFO    \u001b[0m | \u001b[36msrc.config\u001b[0m:\u001b[36m<module>\u001b[0m:\u001b[36m11\u001b[0m - \u001b[1mPROJ_ROOT path is: D:\\workspace\\projects\\freelance\\3d_recognition_analisis\u001b[0m\n"
     ]
    },
    {
     "name": "stdout",
     "output_type": "stream",
     "text": [
      "Project root added to path: d:\\workspace\\projects\\freelance\\3d_recognition_analisis\n",
      "\u001b[32m2025-08-14 15:07:18.186\u001b[0m | \u001b[1mINFO    \u001b[0m | \u001b[36msrc.dataset\u001b[0m:\u001b[36mload_dataset_pickle\u001b[0m:\u001b[36m332\u001b[0m - \u001b[1mЗагрузка датасета из D:\\workspace\\projects\\freelance\\3d_recognition_analisis\\data\\interim\\dataset_metadata.pkl\u001b[0m\n",
      "\u001b[32m2025-08-14 15:07:18.190\u001b[0m | \u001b[32m\u001b[1mSUCCESS \u001b[0m | \u001b[36msrc.dataset\u001b[0m:\u001b[36mload_dataset_pickle\u001b[0m:\u001b[36m337\u001b[0m - \u001b[32m\u001b[1mДатасет загружен из D:\\workspace\\projects\\freelance\\3d_recognition_analisis\\data\\interim\\dataset_metadata.pkl\u001b[0m\n",
      "Загружено объектов: 129\n"
     ]
    }
   ],
   "source": [
    "import numpy as np\n",
    "import pandas as pd\n",
    "import matplotlib.pyplot as plt\n",
    "import seaborn as sns\n",
    "\n",
    "import notebook_setup\n",
    "from src.dataset import DatasetIO\n",
    "from src.config import INTERIM_DATA_DIR\n",
    "from src.features.brep import BrepExtractor\n",
    "from src.dataset import DataModel\n",
    "\n",
    "\n",
    "# Настройки визуализации\n",
    "sns.set(style=\"whitegrid\")\n",
    "plt.rcParams[\"figure.figsize\"] = (12, 5)\n",
    "\n",
    "pkl_file = INTERIM_DATA_DIR / \"dataset_metadata.pkl\"\n",
    "dataset = DatasetIO.load_dataset_pickle(pkl_file)\n",
    "\n",
    "print(f\"Загружено объектов: {len(dataset)}\")"
   ]
  },
  {
   "cell_type": "markdown",
   "id": "d325d44e",
   "metadata": {},
   "source": [
    "## 2. Загрузка и извлечение признаков из моделей\n",
    "\n",
    "Загрузим список моделей, применим BrepExtractor для получения матриц признаков, соберём их в DataFrame для дальнейшего анализа."
   ]
  },
  {
   "cell_type": "code",
   "execution_count": 2,
   "id": "84eda934",
   "metadata": {},
   "outputs": [
    {
     "name": "stdout",
     "output_type": "stream",
     "text": [
      "\u001b[32m2025-08-14 15:07:20.722\u001b[0m | \u001b[1mINFO    \u001b[0m | \u001b[36msrc.features.extractor\u001b[0m:\u001b[36m__init__\u001b[0m:\u001b[36m54\u001b[0m - \u001b[1mИнициализация BRep экстрактора признаков на устройстве cpu\u001b[0m\n",
      "\u001b[32m2025-08-14 15:07:20.723\u001b[0m | \u001b[1mINFO    \u001b[0m | \u001b[36msrc.features.brep\u001b[0m:\u001b[36m__init__\u001b[0m:\u001b[36m61\u001b[0m - \u001b[1mИнициализация 'BRep' (K=256, LBO=16, bins=64, D=256, mode=pooled)\u001b[0m\n",
      "\u001b[32m2025-08-14 15:07:20.806\u001b[0m | \u001b[34m\u001b[1mDEBUG   \u001b[0m | \u001b[36msrc.features.brep\u001b[0m:\u001b[36mextract_single\u001b[0m:\u001b[36m108\u001b[0m - \u001b[34m\u001b[1mМатрица признаков 42. Ejector-01: (7, 256)\u001b[0m\n",
      "\u001b[32m2025-08-14 15:07:20.887\u001b[0m | \u001b[34m\u001b[1mDEBUG   \u001b[0m | \u001b[36msrc.features.brep\u001b[0m:\u001b[36mextract_single\u001b[0m:\u001b[36m108\u001b[0m - \u001b[34m\u001b[1mМатрица признаков 42. Ejector-02: (7, 256)\u001b[0m\n",
      "\u001b[32m2025-08-14 15:07:20.966\u001b[0m | \u001b[34m\u001b[1mDEBUG   \u001b[0m | \u001b[36msrc.features.brep\u001b[0m:\u001b[36mextract_single\u001b[0m:\u001b[36m108\u001b[0m - \u001b[34m\u001b[1mМатрица признаков 42. Ejector-03: (7, 256)\u001b[0m\n",
      "\u001b[32m2025-08-14 15:07:21.107\u001b[0m | \u001b[34m\u001b[1mDEBUG   \u001b[0m | \u001b[36msrc.features.brep\u001b[0m:\u001b[36mextract_single\u001b[0m:\u001b[36m108\u001b[0m - \u001b[34m\u001b[1mМатрица признаков 42. Ejector-04: (7, 256)\u001b[0m\n",
      "\u001b[32m2025-08-14 15:07:21.169\u001b[0m | \u001b[34m\u001b[1mDEBUG   \u001b[0m | \u001b[36msrc.features.brep\u001b[0m:\u001b[36mextract_single\u001b[0m:\u001b[36m108\u001b[0m - \u001b[34m\u001b[1mМатрица признаков 42. Ejector-05: (7, 256)\u001b[0m\n",
      "\u001b[32m2025-08-14 15:07:21.246\u001b[0m | \u001b[34m\u001b[1mDEBUG   \u001b[0m | \u001b[36msrc.features.brep\u001b[0m:\u001b[36mextract_single\u001b[0m:\u001b[36m108\u001b[0m - \u001b[34m\u001b[1mМатрица признаков 42. Ejector-06: (7, 256)\u001b[0m\n",
      "\u001b[32m2025-08-14 15:07:21.313\u001b[0m | \u001b[34m\u001b[1mDEBUG   \u001b[0m | \u001b[36msrc.features.brep\u001b[0m:\u001b[36mextract_single\u001b[0m:\u001b[36m108\u001b[0m - \u001b[34m\u001b[1mМатрица признаков 42. Ejector-07: (7, 256)\u001b[0m\n",
      "\u001b[32m2025-08-14 15:07:21.374\u001b[0m | \u001b[34m\u001b[1mDEBUG   \u001b[0m | \u001b[36msrc.features.brep\u001b[0m:\u001b[36mextract_single\u001b[0m:\u001b[36m108\u001b[0m - \u001b[34m\u001b[1mМатрица признаков 42. Ejector-08: (7, 256)\u001b[0m\n",
      "\u001b[32m2025-08-14 15:07:21.446\u001b[0m | \u001b[34m\u001b[1mDEBUG   \u001b[0m | \u001b[36msrc.features.brep\u001b[0m:\u001b[36mextract_single\u001b[0m:\u001b[36m108\u001b[0m - \u001b[34m\u001b[1mМатрица признаков 42. Ejector-09: (7, 256)\u001b[0m\n",
      "\u001b[32m2025-08-14 15:07:21.512\u001b[0m | \u001b[34m\u001b[1mDEBUG   \u001b[0m | \u001b[36msrc.features.brep\u001b[0m:\u001b[36mextract_single\u001b[0m:\u001b[36m108\u001b[0m - \u001b[34m\u001b[1mМатрица признаков 42. Ejector-10: (7, 256)\u001b[0m\n",
      "\u001b[32m2025-08-14 15:07:21.584\u001b[0m | \u001b[34m\u001b[1mDEBUG   \u001b[0m | \u001b[36msrc.features.brep\u001b[0m:\u001b[36mextract_single\u001b[0m:\u001b[36m108\u001b[0m - \u001b[34m\u001b[1mМатрица признаков 42. Ejector: (7, 256)\u001b[0m\n",
      "\u001b[32m2025-08-14 15:07:21.821\u001b[0m | \u001b[34m\u001b[1mDEBUG   \u001b[0m | \u001b[36msrc.features.brep\u001b[0m:\u001b[36mextract_single\u001b[0m:\u001b[36m108\u001b[0m - \u001b[34m\u001b[1mМатрица признаков 42. Silencer Fix-01: (7, 256)\u001b[0m\n",
      "\u001b[32m2025-08-14 15:07:22.020\u001b[0m | \u001b[34m\u001b[1mDEBUG   \u001b[0m | \u001b[36msrc.features.brep\u001b[0m:\u001b[36mextract_single\u001b[0m:\u001b[36m108\u001b[0m - \u001b[34m\u001b[1mМатрица признаков 42. Silencer Fix-02: (7, 256)\u001b[0m\n",
      "\u001b[32m2025-08-14 15:07:22.144\u001b[0m | \u001b[34m\u001b[1mDEBUG   \u001b[0m | \u001b[36msrc.features.brep\u001b[0m:\u001b[36mextract_single\u001b[0m:\u001b[36m108\u001b[0m - \u001b[34m\u001b[1mМатрица признаков 42. Silencer Fix-03: (7, 256)\u001b[0m\n",
      "\u001b[32m2025-08-14 15:07:22.277\u001b[0m | \u001b[34m\u001b[1mDEBUG   \u001b[0m | \u001b[36msrc.features.brep\u001b[0m:\u001b[36mextract_single\u001b[0m:\u001b[36m108\u001b[0m - \u001b[34m\u001b[1mМатрица признаков 42. Silencer Fix-04: (7, 256)\u001b[0m\n",
      "\u001b[32m2025-08-14 15:07:22.419\u001b[0m | \u001b[34m\u001b[1mDEBUG   \u001b[0m | \u001b[36msrc.features.brep\u001b[0m:\u001b[36mextract_single\u001b[0m:\u001b[36m108\u001b[0m - \u001b[34m\u001b[1mМатрица признаков 42. Silencer Fix-05: (7, 256)\u001b[0m\n",
      "\u001b[32m2025-08-14 15:07:22.535\u001b[0m | \u001b[34m\u001b[1mDEBUG   \u001b[0m | \u001b[36msrc.features.brep\u001b[0m:\u001b[36mextract_single\u001b[0m:\u001b[36m108\u001b[0m - \u001b[34m\u001b[1mМатрица признаков 42. Silencer Fix-06: (7, 256)\u001b[0m\n",
      "\u001b[32m2025-08-14 15:07:22.633\u001b[0m | \u001b[34m\u001b[1mDEBUG   \u001b[0m | \u001b[36msrc.features.brep\u001b[0m:\u001b[36mextract_single\u001b[0m:\u001b[36m108\u001b[0m - \u001b[34m\u001b[1mМатрица признаков 42. Silencer Fix-07: (7, 256)\u001b[0m\n",
      "\u001b[32m2025-08-14 15:07:22.765\u001b[0m | \u001b[34m\u001b[1mDEBUG   \u001b[0m | \u001b[36msrc.features.brep\u001b[0m:\u001b[36mextract_single\u001b[0m:\u001b[36m108\u001b[0m - \u001b[34m\u001b[1mМатрица признаков 42. Silencer Fix-08: (7, 256)\u001b[0m\n",
      "\u001b[32m2025-08-14 15:07:22.866\u001b[0m | \u001b[34m\u001b[1mDEBUG   \u001b[0m | \u001b[36msrc.features.brep\u001b[0m:\u001b[36mextract_single\u001b[0m:\u001b[36m108\u001b[0m - \u001b[34m\u001b[1mМатрица признаков 42. Silencer Fix-09: (7, 256)\u001b[0m\n",
      "\u001b[32m2025-08-14 15:07:23.034\u001b[0m | \u001b[34m\u001b[1mDEBUG   \u001b[0m | \u001b[36msrc.features.brep\u001b[0m:\u001b[36mextract_single\u001b[0m:\u001b[36m108\u001b[0m - \u001b[34m\u001b[1mМатрица признаков 42. Silencer Fix-10: (7, 256)\u001b[0m\n",
      "\u001b[32m2025-08-14 15:07:23.202\u001b[0m | \u001b[34m\u001b[1mDEBUG   \u001b[0m | \u001b[36msrc.features.brep\u001b[0m:\u001b[36mextract_single\u001b[0m:\u001b[36m108\u001b[0m - \u001b[34m\u001b[1mМатрица признаков 42. Silencer Fix: (7, 256)\u001b[0m\n",
      "\u001b[32m2025-08-14 15:07:23.501\u001b[0m | \u001b[34m\u001b[1mDEBUG   \u001b[0m | \u001b[36msrc.features.brep\u001b[0m:\u001b[36mextract_single\u001b[0m:\u001b[36m108\u001b[0m - \u001b[34m\u001b[1mМатрица признаков 43. Extractor-01: (7, 256)\u001b[0m\n",
      "\u001b[32m2025-08-14 15:07:23.817\u001b[0m | \u001b[34m\u001b[1mDEBUG   \u001b[0m | \u001b[36msrc.features.brep\u001b[0m:\u001b[36mextract_single\u001b[0m:\u001b[36m108\u001b[0m - \u001b[34m\u001b[1mМатрица признаков 43. Extractor-02: (7, 256)\u001b[0m\n",
      "\u001b[32m2025-08-14 15:07:24.134\u001b[0m | \u001b[34m\u001b[1mDEBUG   \u001b[0m | \u001b[36msrc.features.brep\u001b[0m:\u001b[36mextract_single\u001b[0m:\u001b[36m108\u001b[0m - \u001b[34m\u001b[1mМатрица признаков 43. Extractor-03: (7, 256)\u001b[0m\n",
      "\u001b[32m2025-08-14 15:07:24.296\u001b[0m | \u001b[34m\u001b[1mDEBUG   \u001b[0m | \u001b[36msrc.features.brep\u001b[0m:\u001b[36mextract_single\u001b[0m:\u001b[36m108\u001b[0m - \u001b[34m\u001b[1mМатрица признаков 43. Extractor-04: (7, 256)\u001b[0m\n",
      "\u001b[32m2025-08-14 15:07:24.434\u001b[0m | \u001b[34m\u001b[1mDEBUG   \u001b[0m | \u001b[36msrc.features.brep\u001b[0m:\u001b[36mextract_single\u001b[0m:\u001b[36m108\u001b[0m - \u001b[34m\u001b[1mМатрица признаков 43. Extractor-05: (7, 256)\u001b[0m\n",
      "\u001b[32m2025-08-14 15:07:24.549\u001b[0m | \u001b[34m\u001b[1mDEBUG   \u001b[0m | \u001b[36msrc.features.brep\u001b[0m:\u001b[36mextract_single\u001b[0m:\u001b[36m108\u001b[0m - \u001b[34m\u001b[1mМатрица признаков 43. Extractor-06: (7, 256)\u001b[0m\n",
      "\u001b[32m2025-08-14 15:07:24.686\u001b[0m | \u001b[34m\u001b[1mDEBUG   \u001b[0m | \u001b[36msrc.features.brep\u001b[0m:\u001b[36mextract_single\u001b[0m:\u001b[36m108\u001b[0m - \u001b[34m\u001b[1mМатрица признаков 43. Extractor-07: (7, 256)\u001b[0m\n",
      "\u001b[32m2025-08-14 15:07:24.851\u001b[0m | \u001b[34m\u001b[1mDEBUG   \u001b[0m | \u001b[36msrc.features.brep\u001b[0m:\u001b[36mextract_single\u001b[0m:\u001b[36m108\u001b[0m - \u001b[34m\u001b[1mМатрица признаков 43. Extractor-08: (7, 256)\u001b[0m\n",
      "\u001b[32m2025-08-14 15:07:24.956\u001b[0m | \u001b[34m\u001b[1mDEBUG   \u001b[0m | \u001b[36msrc.features.brep\u001b[0m:\u001b[36mextract_single\u001b[0m:\u001b[36m108\u001b[0m - \u001b[34m\u001b[1mМатрица признаков 43. Extractor-09: (7, 256)\u001b[0m\n",
      "\u001b[32m2025-08-14 15:07:25.058\u001b[0m | \u001b[34m\u001b[1mDEBUG   \u001b[0m | \u001b[36msrc.features.brep\u001b[0m:\u001b[36mextract_single\u001b[0m:\u001b[36m108\u001b[0m - \u001b[34m\u001b[1mМатрица признаков 43. Extractor-10: (7, 256)\u001b[0m\n",
      "\u001b[32m2025-08-14 15:07:25.339\u001b[0m | \u001b[34m\u001b[1mDEBUG   \u001b[0m | \u001b[36msrc.features.brep\u001b[0m:\u001b[36mextract_single\u001b[0m:\u001b[36m108\u001b[0m - \u001b[34m\u001b[1mМатрица признаков 43. Extractor: (7, 256)\u001b[0m\n",
      "\u001b[32m2025-08-14 15:07:25.399\u001b[0m | \u001b[34m\u001b[1mDEBUG   \u001b[0m | \u001b[36msrc.features.brep\u001b[0m:\u001b[36mextract_single\u001b[0m:\u001b[36m108\u001b[0m - \u001b[34m\u001b[1mМатрица признаков 44. Extractor Pin-01: (7, 256)\u001b[0m\n",
      "\u001b[32m2025-08-14 15:07:25.467\u001b[0m | \u001b[34m\u001b[1mDEBUG   \u001b[0m | \u001b[36msrc.features.brep\u001b[0m:\u001b[36mextract_single\u001b[0m:\u001b[36m108\u001b[0m - \u001b[34m\u001b[1mМатрица признаков 44. Extractor Pin-02: (7, 256)\u001b[0m\n",
      "\u001b[32m2025-08-14 15:07:25.535\u001b[0m | \u001b[34m\u001b[1mDEBUG   \u001b[0m | \u001b[36msrc.features.brep\u001b[0m:\u001b[36mextract_single\u001b[0m:\u001b[36m108\u001b[0m - \u001b[34m\u001b[1mМатрица признаков 44. Extractor Pin-03: (7, 256)\u001b[0m\n",
      "\u001b[32m2025-08-14 15:07:25.591\u001b[0m | \u001b[34m\u001b[1mDEBUG   \u001b[0m | \u001b[36msrc.features.brep\u001b[0m:\u001b[36mextract_single\u001b[0m:\u001b[36m108\u001b[0m - \u001b[34m\u001b[1mМатрица признаков 44. Extractor Pin-04: (7, 256)\u001b[0m\n",
      "\u001b[32m2025-08-14 15:07:25.661\u001b[0m | \u001b[34m\u001b[1mDEBUG   \u001b[0m | \u001b[36msrc.features.brep\u001b[0m:\u001b[36mextract_single\u001b[0m:\u001b[36m108\u001b[0m - \u001b[34m\u001b[1mМатрица признаков 44. Extractor Pin-05: (7, 256)\u001b[0m\n",
      "\u001b[32m2025-08-14 15:07:25.716\u001b[0m | \u001b[34m\u001b[1mDEBUG   \u001b[0m | \u001b[36msrc.features.brep\u001b[0m:\u001b[36mextract_single\u001b[0m:\u001b[36m108\u001b[0m - \u001b[34m\u001b[1mМатрица признаков 44. Extractor Pin-06: (7, 256)\u001b[0m\n",
      "\u001b[32m2025-08-14 15:07:25.771\u001b[0m | \u001b[34m\u001b[1mDEBUG   \u001b[0m | \u001b[36msrc.features.brep\u001b[0m:\u001b[36mextract_single\u001b[0m:\u001b[36m108\u001b[0m - \u001b[34m\u001b[1mМатрица признаков 44. Extractor Pin-07: (7, 256)\u001b[0m\n",
      "\u001b[32m2025-08-14 15:07:25.847\u001b[0m | \u001b[34m\u001b[1mDEBUG   \u001b[0m | \u001b[36msrc.features.brep\u001b[0m:\u001b[36mextract_single\u001b[0m:\u001b[36m108\u001b[0m - \u001b[34m\u001b[1mМатрица признаков 44. Extractor Pin-08: (7, 256)\u001b[0m\n",
      "\u001b[32m2025-08-14 15:07:25.947\u001b[0m | \u001b[34m\u001b[1mDEBUG   \u001b[0m | \u001b[36msrc.features.brep\u001b[0m:\u001b[36mextract_single\u001b[0m:\u001b[36m108\u001b[0m - \u001b[34m\u001b[1mМатрица признаков 44. Extractor Pin-09: (7, 256)\u001b[0m\n",
      "\u001b[32m2025-08-14 15:07:26.053\u001b[0m | \u001b[34m\u001b[1mDEBUG   \u001b[0m | \u001b[36msrc.features.brep\u001b[0m:\u001b[36mextract_single\u001b[0m:\u001b[36m108\u001b[0m - \u001b[34m\u001b[1mМатрица признаков 44. Extractor Pin-10: (7, 256)\u001b[0m\n",
      "\u001b[32m2025-08-14 15:07:26.111\u001b[0m | \u001b[34m\u001b[1mDEBUG   \u001b[0m | \u001b[36msrc.features.brep\u001b[0m:\u001b[36mextract_single\u001b[0m:\u001b[36m108\u001b[0m - \u001b[34m\u001b[1mМатрица признаков 44. Extractor Pin: (7, 256)\u001b[0m\n",
      "\u001b[32m2025-08-14 15:07:26.500\u001b[0m | \u001b[34m\u001b[1mDEBUG   \u001b[0m | \u001b[36msrc.features.brep\u001b[0m:\u001b[36mextract_single\u001b[0m:\u001b[36m108\u001b[0m - \u001b[34m\u001b[1mМатрица признаков Затвор 1: (7, 256)\u001b[0m\n",
      "\u001b[32m2025-08-14 15:07:26.929\u001b[0m | \u001b[34m\u001b[1mDEBUG   \u001b[0m | \u001b[36msrc.features.brep\u001b[0m:\u001b[36mextract_single\u001b[0m:\u001b[36m108\u001b[0m - \u001b[34m\u001b[1mМатрица признаков Затвор 2: (7, 256)\u001b[0m\n",
      "\u001b[32m2025-08-14 15:07:27.306\u001b[0m | \u001b[34m\u001b[1mDEBUG   \u001b[0m | \u001b[36msrc.features.brep\u001b[0m:\u001b[36mextract_single\u001b[0m:\u001b[36m108\u001b[0m - \u001b[34m\u001b[1mМатрица признаков Затвор 3: (7, 256)\u001b[0m\n",
      "\u001b[32m2025-08-14 15:07:27.632\u001b[0m | \u001b[34m\u001b[1mDEBUG   \u001b[0m | \u001b[36msrc.features.brep\u001b[0m:\u001b[36mextract_single\u001b[0m:\u001b[36m108\u001b[0m - \u001b[34m\u001b[1mМатрица признаков Затвор 4: (7, 256)\u001b[0m\n",
      "\u001b[32m2025-08-14 15:07:27.939\u001b[0m | \u001b[34m\u001b[1mDEBUG   \u001b[0m | \u001b[36msrc.features.brep\u001b[0m:\u001b[36mextract_single\u001b[0m:\u001b[36m108\u001b[0m - \u001b[34m\u001b[1mМатрица признаков Затвор 5: (7, 256)\u001b[0m\n",
      "\u001b[32m2025-08-14 15:07:28.240\u001b[0m | \u001b[34m\u001b[1mDEBUG   \u001b[0m | \u001b[36msrc.features.brep\u001b[0m:\u001b[36mextract_single\u001b[0m:\u001b[36m108\u001b[0m - \u001b[34m\u001b[1mМатрица признаков Затвор 6: (7, 256)\u001b[0m\n",
      "\u001b[32m2025-08-14 15:07:28.648\u001b[0m | \u001b[34m\u001b[1mDEBUG   \u001b[0m | \u001b[36msrc.features.brep\u001b[0m:\u001b[36mextract_single\u001b[0m:\u001b[36m108\u001b[0m - \u001b[34m\u001b[1mМатрица признаков Затвор 7: (7, 256)\u001b[0m\n",
      "\u001b[32m2025-08-14 15:07:28.998\u001b[0m | \u001b[34m\u001b[1mDEBUG   \u001b[0m | \u001b[36msrc.features.brep\u001b[0m:\u001b[36mextract_single\u001b[0m:\u001b[36m108\u001b[0m - \u001b[34m\u001b[1mМатрица признаков Затвор 8: (7, 256)\u001b[0m\n",
      "\u001b[32m2025-08-14 15:07:29.399\u001b[0m | \u001b[34m\u001b[1mDEBUG   \u001b[0m | \u001b[36msrc.features.brep\u001b[0m:\u001b[36mextract_single\u001b[0m:\u001b[36m108\u001b[0m - \u001b[34m\u001b[1mМатрица признаков Затвор 9: (7, 256)\u001b[0m\n",
      "\u001b[32m2025-08-14 15:07:29.849\u001b[0m | \u001b[34m\u001b[1mDEBUG   \u001b[0m | \u001b[36msrc.features.brep\u001b[0m:\u001b[36mextract_single\u001b[0m:\u001b[36m108\u001b[0m - \u001b[34m\u001b[1mМатрица признаков Затвор: (7, 256)\u001b[0m\n",
      "\u001b[32m2025-08-14 15:07:29.938\u001b[0m | \u001b[34m\u001b[1mDEBUG   \u001b[0m | \u001b[36msrc.features.brep\u001b[0m:\u001b[36mextract_single\u001b[0m:\u001b[36m108\u001b[0m - \u001b[34m\u001b[1mМатрица признаков Зацеп трубки направляющий 1: (7, 256)\u001b[0m\n",
      "\u001b[32m2025-08-14 15:07:30.075\u001b[0m | \u001b[34m\u001b[1mDEBUG   \u001b[0m | \u001b[36msrc.features.brep\u001b[0m:\u001b[36mextract_single\u001b[0m:\u001b[36m108\u001b[0m - \u001b[34m\u001b[1mМатрица признаков Зацеп трубки направляющий 10: (7, 256)\u001b[0m\n",
      "\u001b[32m2025-08-14 15:07:30.163\u001b[0m | \u001b[34m\u001b[1mDEBUG   \u001b[0m | \u001b[36msrc.features.brep\u001b[0m:\u001b[36mextract_single\u001b[0m:\u001b[36m108\u001b[0m - \u001b[34m\u001b[1mМатрица признаков Зацеп трубки направляющий 2: (7, 256)\u001b[0m\n",
      "\u001b[32m2025-08-14 15:07:30.248\u001b[0m | \u001b[34m\u001b[1mDEBUG   \u001b[0m | \u001b[36msrc.features.brep\u001b[0m:\u001b[36mextract_single\u001b[0m:\u001b[36m108\u001b[0m - \u001b[34m\u001b[1mМатрица признаков Зацеп трубки направляющий 3: (7, 256)\u001b[0m\n",
      "\u001b[32m2025-08-14 15:07:30.332\u001b[0m | \u001b[34m\u001b[1mDEBUG   \u001b[0m | \u001b[36msrc.features.brep\u001b[0m:\u001b[36mextract_single\u001b[0m:\u001b[36m108\u001b[0m - \u001b[34m\u001b[1mМатрица признаков Зацеп трубки направляющий 4: (7, 256)\u001b[0m\n",
      "\u001b[32m2025-08-14 15:07:30.427\u001b[0m | \u001b[34m\u001b[1mDEBUG   \u001b[0m | \u001b[36msrc.features.brep\u001b[0m:\u001b[36mextract_single\u001b[0m:\u001b[36m108\u001b[0m - \u001b[34m\u001b[1mМатрица признаков Зацеп трубки направляющий 5: (7, 256)\u001b[0m\n",
      "\u001b[32m2025-08-14 15:07:30.520\u001b[0m | \u001b[34m\u001b[1mDEBUG   \u001b[0m | \u001b[36msrc.features.brep\u001b[0m:\u001b[36mextract_single\u001b[0m:\u001b[36m108\u001b[0m - \u001b[34m\u001b[1mМатрица признаков Зацеп трубки направляющий 6: (7, 256)\u001b[0m\n",
      "\u001b[32m2025-08-14 15:07:30.586\u001b[0m | \u001b[34m\u001b[1mDEBUG   \u001b[0m | \u001b[36msrc.features.brep\u001b[0m:\u001b[36mextract_single\u001b[0m:\u001b[36m108\u001b[0m - \u001b[34m\u001b[1mМатрица признаков Зацеп трубки направляющий 7: (7, 256)\u001b[0m\n",
      "\u001b[32m2025-08-14 15:07:30.658\u001b[0m | \u001b[34m\u001b[1mDEBUG   \u001b[0m | \u001b[36msrc.features.brep\u001b[0m:\u001b[36mextract_single\u001b[0m:\u001b[36m108\u001b[0m - \u001b[34m\u001b[1mМатрица признаков Зацеп трубки направляющий 8: (7, 256)\u001b[0m\n",
      "\u001b[32m2025-08-14 15:07:30.742\u001b[0m | \u001b[34m\u001b[1mDEBUG   \u001b[0m | \u001b[36msrc.features.brep\u001b[0m:\u001b[36mextract_single\u001b[0m:\u001b[36m108\u001b[0m - \u001b[34m\u001b[1mМатрица признаков Зацеп трубки направляющий 9: (7, 256)\u001b[0m\n",
      "\u001b[32m2025-08-14 15:07:30.813\u001b[0m | \u001b[34m\u001b[1mDEBUG   \u001b[0m | \u001b[36msrc.features.brep\u001b[0m:\u001b[36mextract_single\u001b[0m:\u001b[36m108\u001b[0m - \u001b[34m\u001b[1mМатрица признаков Зацеп трубки направляющий: (7, 256)\u001b[0m\n",
      "\u001b[32m2025-08-14 15:07:30.914\u001b[0m | \u001b[34m\u001b[1mDEBUG   \u001b[0m | \u001b[36msrc.features.brep\u001b[0m:\u001b[36mextract_single\u001b[0m:\u001b[36m108\u001b[0m - \u001b[34m\u001b[1mМатрица признаков Защелка 1: (7, 256)\u001b[0m\n",
      "\u001b[32m2025-08-14 15:07:31.149\u001b[0m | \u001b[34m\u001b[1mDEBUG   \u001b[0m | \u001b[36msrc.features.brep\u001b[0m:\u001b[36mextract_single\u001b[0m:\u001b[36m108\u001b[0m - \u001b[34m\u001b[1mМатрица признаков Защелка 10: (7, 256)\u001b[0m\n",
      "\u001b[32m2025-08-14 15:07:31.278\u001b[0m | \u001b[34m\u001b[1mDEBUG   \u001b[0m | \u001b[36msrc.features.brep\u001b[0m:\u001b[36mextract_single\u001b[0m:\u001b[36m108\u001b[0m - \u001b[34m\u001b[1mМатрица признаков Защелка 2: (7, 256)\u001b[0m\n",
      "\u001b[32m2025-08-14 15:07:31.405\u001b[0m | \u001b[34m\u001b[1mDEBUG   \u001b[0m | \u001b[36msrc.features.brep\u001b[0m:\u001b[36mextract_single\u001b[0m:\u001b[36m108\u001b[0m - \u001b[34m\u001b[1mМатрица признаков Защелка 3: (7, 256)\u001b[0m\n",
      "\u001b[32m2025-08-14 15:07:31.515\u001b[0m | \u001b[34m\u001b[1mDEBUG   \u001b[0m | \u001b[36msrc.features.brep\u001b[0m:\u001b[36mextract_single\u001b[0m:\u001b[36m108\u001b[0m - \u001b[34m\u001b[1mМатрица признаков Защелка 4: (7, 256)\u001b[0m\n",
      "\u001b[32m2025-08-14 15:07:31.623\u001b[0m | \u001b[34m\u001b[1mDEBUG   \u001b[0m | \u001b[36msrc.features.brep\u001b[0m:\u001b[36mextract_single\u001b[0m:\u001b[36m108\u001b[0m - \u001b[34m\u001b[1mМатрица признаков Защелка 5: (7, 256)\u001b[0m\n",
      "\u001b[32m2025-08-14 15:07:31.771\u001b[0m | \u001b[34m\u001b[1mDEBUG   \u001b[0m | \u001b[36msrc.features.brep\u001b[0m:\u001b[36mextract_single\u001b[0m:\u001b[36m108\u001b[0m - \u001b[34m\u001b[1mМатрица признаков Защелка 6: (7, 256)\u001b[0m\n",
      "\u001b[32m2025-08-14 15:07:31.956\u001b[0m | \u001b[34m\u001b[1mDEBUG   \u001b[0m | \u001b[36msrc.features.brep\u001b[0m:\u001b[36mextract_single\u001b[0m:\u001b[36m108\u001b[0m - \u001b[34m\u001b[1mМатрица признаков Защелка 7: (7, 256)\u001b[0m\n",
      "\u001b[32m2025-08-14 15:07:32.172\u001b[0m | \u001b[34m\u001b[1mDEBUG   \u001b[0m | \u001b[36msrc.features.brep\u001b[0m:\u001b[36mextract_single\u001b[0m:\u001b[36m108\u001b[0m - \u001b[34m\u001b[1mМатрица признаков Защелка 8: (7, 256)\u001b[0m\n",
      "\u001b[32m2025-08-14 15:07:32.371\u001b[0m | \u001b[34m\u001b[1mDEBUG   \u001b[0m | \u001b[36msrc.features.brep\u001b[0m:\u001b[36mextract_single\u001b[0m:\u001b[36m108\u001b[0m - \u001b[34m\u001b[1mМатрица признаков Защелка 9: (7, 256)\u001b[0m\n",
      "\u001b[32m2025-08-14 15:07:32.515\u001b[0m | \u001b[34m\u001b[1mDEBUG   \u001b[0m | \u001b[36msrc.features.brep\u001b[0m:\u001b[36mextract_single\u001b[0m:\u001b[36m108\u001b[0m - \u001b[34m\u001b[1mМатрица признаков Защелка: (7, 256)\u001b[0m\n",
      "\u001b[32m2025-08-14 15:07:32.669\u001b[0m | \u001b[34m\u001b[1mDEBUG   \u001b[0m | \u001b[36msrc.features.brep\u001b[0m:\u001b[36mextract_single\u001b[0m:\u001b[36m108\u001b[0m - \u001b[34m\u001b[1mМатрица признаков Защелка АК 1: (7, 256)\u001b[0m\n",
      "\u001b[32m2025-08-14 15:07:32.803\u001b[0m | \u001b[34m\u001b[1mDEBUG   \u001b[0m | \u001b[36msrc.features.brep\u001b[0m:\u001b[36mextract_single\u001b[0m:\u001b[36m108\u001b[0m - \u001b[34m\u001b[1mМатрица признаков Защелка АК 2: (7, 256)\u001b[0m\n",
      "\u001b[32m2025-08-14 15:07:32.965\u001b[0m | \u001b[34m\u001b[1mDEBUG   \u001b[0m | \u001b[36msrc.features.brep\u001b[0m:\u001b[36mextract_single\u001b[0m:\u001b[36m108\u001b[0m - \u001b[34m\u001b[1mМатрица признаков Защелка АК 3: (7, 256)\u001b[0m\n",
      "\u001b[32m2025-08-14 15:07:33.118\u001b[0m | \u001b[34m\u001b[1mDEBUG   \u001b[0m | \u001b[36msrc.features.brep\u001b[0m:\u001b[36mextract_single\u001b[0m:\u001b[36m108\u001b[0m - \u001b[34m\u001b[1mМатрица признаков Защелка АК 4: (7, 256)\u001b[0m\n",
      "\u001b[32m2025-08-14 15:07:33.273\u001b[0m | \u001b[34m\u001b[1mDEBUG   \u001b[0m | \u001b[36msrc.features.brep\u001b[0m:\u001b[36mextract_single\u001b[0m:\u001b[36m108\u001b[0m - \u001b[34m\u001b[1mМатрица признаков Защелка АК 5: (7, 256)\u001b[0m\n",
      "\u001b[32m2025-08-14 15:07:33.441\u001b[0m | \u001b[34m\u001b[1mDEBUG   \u001b[0m | \u001b[36msrc.features.brep\u001b[0m:\u001b[36mextract_single\u001b[0m:\u001b[36m108\u001b[0m - \u001b[34m\u001b[1mМатрица признаков Защелка АК 6: (7, 256)\u001b[0m\n",
      "\u001b[32m2025-08-14 15:07:33.683\u001b[0m | \u001b[34m\u001b[1mDEBUG   \u001b[0m | \u001b[36msrc.features.brep\u001b[0m:\u001b[36mextract_single\u001b[0m:\u001b[36m108\u001b[0m - \u001b[34m\u001b[1mМатрица признаков Защелка АК 7: (7, 256)\u001b[0m\n",
      "\u001b[32m2025-08-14 15:07:33.884\u001b[0m | \u001b[34m\u001b[1mDEBUG   \u001b[0m | \u001b[36msrc.features.brep\u001b[0m:\u001b[36mextract_single\u001b[0m:\u001b[36m108\u001b[0m - \u001b[34m\u001b[1mМатрица признаков Защелка АК 8: (7, 256)\u001b[0m\n",
      "\u001b[32m2025-08-14 15:07:34.084\u001b[0m | \u001b[34m\u001b[1mDEBUG   \u001b[0m | \u001b[36msrc.features.brep\u001b[0m:\u001b[36mextract_single\u001b[0m:\u001b[36m108\u001b[0m - \u001b[34m\u001b[1mМатрица признаков Защелка АК 9: (7, 256)\u001b[0m\n",
      "\u001b[32m2025-08-14 15:07:34.283\u001b[0m | \u001b[34m\u001b[1mDEBUG   \u001b[0m | \u001b[36msrc.features.brep\u001b[0m:\u001b[36mextract_single\u001b[0m:\u001b[36m108\u001b[0m - \u001b[34m\u001b[1mМатрица признаков Защелка АК: (7, 256)\u001b[0m\n",
      "\u001b[32m2025-08-14 15:07:34.551\u001b[0m | \u001b[34m\u001b[1mDEBUG   \u001b[0m | \u001b[36msrc.features.brep\u001b[0m:\u001b[36mextract_single\u001b[0m:\u001b[36m108\u001b[0m - \u001b[34m\u001b[1mМатрица признаков Камера газовая 1: (7, 256)\u001b[0m\n",
      "\u001b[32m2025-08-14 15:07:34.707\u001b[0m | \u001b[34m\u001b[1mDEBUG   \u001b[0m | \u001b[36msrc.features.brep\u001b[0m:\u001b[36mextract_single\u001b[0m:\u001b[36m108\u001b[0m - \u001b[34m\u001b[1mМатрица признаков Камера газовая 10: (7, 256)\u001b[0m\n",
      "\u001b[32m2025-08-14 15:07:34.966\u001b[0m | \u001b[34m\u001b[1mDEBUG   \u001b[0m | \u001b[36msrc.features.brep\u001b[0m:\u001b[36mextract_single\u001b[0m:\u001b[36m108\u001b[0m - \u001b[34m\u001b[1mМатрица признаков Камера газовая 2: (7, 256)\u001b[0m\n",
      "\u001b[32m2025-08-14 15:07:35.207\u001b[0m | \u001b[34m\u001b[1mDEBUG   \u001b[0m | \u001b[36msrc.features.brep\u001b[0m:\u001b[36mextract_single\u001b[0m:\u001b[36m108\u001b[0m - \u001b[34m\u001b[1mМатрица признаков Камера газовая 3: (7, 256)\u001b[0m\n",
      "\u001b[32m2025-08-14 15:07:35.419\u001b[0m | \u001b[34m\u001b[1mDEBUG   \u001b[0m | \u001b[36msrc.features.brep\u001b[0m:\u001b[36mextract_single\u001b[0m:\u001b[36m108\u001b[0m - \u001b[34m\u001b[1mМатрица признаков Камера газовая 4: (7, 256)\u001b[0m\n",
      "\u001b[32m2025-08-14 15:07:35.645\u001b[0m | \u001b[34m\u001b[1mDEBUG   \u001b[0m | \u001b[36msrc.features.brep\u001b[0m:\u001b[36mextract_single\u001b[0m:\u001b[36m108\u001b[0m - \u001b[34m\u001b[1mМатрица признаков Камера газовая 5: (7, 256)\u001b[0m\n",
      "\u001b[32m2025-08-14 15:07:35.872\u001b[0m | \u001b[34m\u001b[1mDEBUG   \u001b[0m | \u001b[36msrc.features.brep\u001b[0m:\u001b[36mextract_single\u001b[0m:\u001b[36m108\u001b[0m - \u001b[34m\u001b[1mМатрица признаков Камера газовая 6: (7, 256)\u001b[0m\n",
      "\u001b[32m2025-08-14 15:07:36.110\u001b[0m | \u001b[34m\u001b[1mDEBUG   \u001b[0m | \u001b[36msrc.features.brep\u001b[0m:\u001b[36mextract_single\u001b[0m:\u001b[36m108\u001b[0m - \u001b[34m\u001b[1mМатрица признаков Камера газовая 7: (7, 256)\u001b[0m\n",
      "\u001b[32m2025-08-14 15:07:36.288\u001b[0m | \u001b[34m\u001b[1mDEBUG   \u001b[0m | \u001b[36msrc.features.brep\u001b[0m:\u001b[36mextract_single\u001b[0m:\u001b[36m108\u001b[0m - \u001b[34m\u001b[1mМатрица признаков Камера газовая 8: (7, 256)\u001b[0m\n",
      "\u001b[32m2025-08-14 15:07:36.422\u001b[0m | \u001b[34m\u001b[1mDEBUG   \u001b[0m | \u001b[36msrc.features.brep\u001b[0m:\u001b[36mextract_single\u001b[0m:\u001b[36m108\u001b[0m - \u001b[34m\u001b[1mМатрица признаков Камера газовая 9: (7, 256)\u001b[0m\n",
      "\u001b[32m2025-08-14 15:07:36.690\u001b[0m | \u001b[34m\u001b[1mDEBUG   \u001b[0m | \u001b[36msrc.features.brep\u001b[0m:\u001b[36mextract_single\u001b[0m:\u001b[36m108\u001b[0m - \u001b[34m\u001b[1mМатрица признаков Камера газовая: (7, 256)\u001b[0m\n",
      "\u001b[32m2025-08-14 15:07:37.781\u001b[0m | \u001b[34m\u001b[1mDEBUG   \u001b[0m | \u001b[36msrc.features.brep\u001b[0m:\u001b[36mextract_single\u001b[0m:\u001b[36m108\u001b[0m - \u001b[34m\u001b[1mМатрица признаков Кожух 1: (7, 256)\u001b[0m\n",
      "\u001b[32m2025-08-14 15:07:38.524\u001b[0m | \u001b[34m\u001b[1mDEBUG   \u001b[0m | \u001b[36msrc.features.brep\u001b[0m:\u001b[36mextract_single\u001b[0m:\u001b[36m108\u001b[0m - \u001b[34m\u001b[1mМатрица признаков Кожух 10: (7, 256)\u001b[0m\n",
      "\u001b[32m2025-08-14 15:07:39.452\u001b[0m | \u001b[34m\u001b[1mDEBUG   \u001b[0m | \u001b[36msrc.features.brep\u001b[0m:\u001b[36mextract_single\u001b[0m:\u001b[36m108\u001b[0m - \u001b[34m\u001b[1mМатрица признаков Кожух 2: (7, 256)\u001b[0m\n",
      "\u001b[32m2025-08-14 15:07:40.381\u001b[0m | \u001b[34m\u001b[1mDEBUG   \u001b[0m | \u001b[36msrc.features.brep\u001b[0m:\u001b[36mextract_single\u001b[0m:\u001b[36m108\u001b[0m - \u001b[34m\u001b[1mМатрица признаков Кожух 3: (7, 256)\u001b[0m\n",
      "\u001b[32m2025-08-14 15:07:41.296\u001b[0m | \u001b[34m\u001b[1mDEBUG   \u001b[0m | \u001b[36msrc.features.brep\u001b[0m:\u001b[36mextract_single\u001b[0m:\u001b[36m108\u001b[0m - \u001b[34m\u001b[1mМатрица признаков Кожух 4: (7, 256)\u001b[0m\n",
      "\u001b[32m2025-08-14 15:07:42.229\u001b[0m | \u001b[34m\u001b[1mDEBUG   \u001b[0m | \u001b[36msrc.features.brep\u001b[0m:\u001b[36mextract_single\u001b[0m:\u001b[36m108\u001b[0m - \u001b[34m\u001b[1mМатрица признаков Кожух 5: (7, 256)\u001b[0m\n",
      "\u001b[32m2025-08-14 15:07:43.056\u001b[0m | \u001b[34m\u001b[1mDEBUG   \u001b[0m | \u001b[36msrc.features.brep\u001b[0m:\u001b[36mextract_single\u001b[0m:\u001b[36m108\u001b[0m - \u001b[34m\u001b[1mМатрица признаков Кожух 6: (7, 256)\u001b[0m\n",
      "\u001b[32m2025-08-14 15:07:43.875\u001b[0m | \u001b[34m\u001b[1mDEBUG   \u001b[0m | \u001b[36msrc.features.brep\u001b[0m:\u001b[36mextract_single\u001b[0m:\u001b[36m108\u001b[0m - \u001b[34m\u001b[1mМатрица признаков Кожух 7: (7, 256)\u001b[0m\n",
      "\u001b[32m2025-08-14 15:07:44.665\u001b[0m | \u001b[34m\u001b[1mDEBUG   \u001b[0m | \u001b[36msrc.features.brep\u001b[0m:\u001b[36mextract_single\u001b[0m:\u001b[36m108\u001b[0m - \u001b[34m\u001b[1mМатрица признаков Кожух 8: (7, 256)\u001b[0m\n",
      "\u001b[32m2025-08-14 15:07:45.535\u001b[0m | \u001b[34m\u001b[1mDEBUG   \u001b[0m | \u001b[36msrc.features.brep\u001b[0m:\u001b[36mextract_single\u001b[0m:\u001b[36m108\u001b[0m - \u001b[34m\u001b[1mМатрица признаков Кожух 9: (7, 256)\u001b[0m\n",
      "\u001b[32m2025-08-14 15:07:46.754\u001b[0m | \u001b[34m\u001b[1mDEBUG   \u001b[0m | \u001b[36msrc.features.brep\u001b[0m:\u001b[36mextract_single\u001b[0m:\u001b[36m108\u001b[0m - \u001b[34m\u001b[1mМатрица признаков Кожух: (7, 256)\u001b[0m\n",
      "\u001b[32m2025-08-14 15:07:46.974\u001b[0m | \u001b[34m\u001b[1mDEBUG   \u001b[0m | \u001b[36msrc.features.brep\u001b[0m:\u001b[36mextract_single\u001b[0m:\u001b[36m108\u001b[0m - \u001b[34m\u001b[1mМатрица признаков Колодка приклада 1: (7, 256)\u001b[0m\n",
      "\u001b[32m2025-08-14 15:07:47.197\u001b[0m | \u001b[34m\u001b[1mDEBUG   \u001b[0m | \u001b[36msrc.features.brep\u001b[0m:\u001b[36mextract_single\u001b[0m:\u001b[36m108\u001b[0m - \u001b[34m\u001b[1mМатрица признаков Колодка приклада 2: (7, 256)\u001b[0m\n",
      "\u001b[32m2025-08-14 15:07:47.421\u001b[0m | \u001b[34m\u001b[1mDEBUG   \u001b[0m | \u001b[36msrc.features.brep\u001b[0m:\u001b[36mextract_single\u001b[0m:\u001b[36m108\u001b[0m - \u001b[34m\u001b[1mМатрица признаков Колодка приклада 3: (7, 256)\u001b[0m\n",
      "\u001b[32m2025-08-14 15:07:47.640\u001b[0m | \u001b[34m\u001b[1mDEBUG   \u001b[0m | \u001b[36msrc.features.brep\u001b[0m:\u001b[36mextract_single\u001b[0m:\u001b[36m108\u001b[0m - \u001b[34m\u001b[1mМатрица признаков Колодка приклада 4: (7, 256)\u001b[0m\n",
      "\u001b[32m2025-08-14 15:07:47.859\u001b[0m | \u001b[34m\u001b[1mDEBUG   \u001b[0m | \u001b[36msrc.features.brep\u001b[0m:\u001b[36mextract_single\u001b[0m:\u001b[36m108\u001b[0m - \u001b[34m\u001b[1mМатрица признаков Колодка приклада 5: (7, 256)\u001b[0m\n",
      "\u001b[32m2025-08-14 15:07:48.072\u001b[0m | \u001b[34m\u001b[1mDEBUG   \u001b[0m | \u001b[36msrc.features.brep\u001b[0m:\u001b[36mextract_single\u001b[0m:\u001b[36m108\u001b[0m - \u001b[34m\u001b[1mМатрица признаков Колодка приклада 6: (7, 256)\u001b[0m\n",
      "\u001b[32m2025-08-14 15:07:48.283\u001b[0m | \u001b[34m\u001b[1mDEBUG   \u001b[0m | \u001b[36msrc.features.brep\u001b[0m:\u001b[36mextract_single\u001b[0m:\u001b[36m108\u001b[0m - \u001b[34m\u001b[1mМатрица признаков Колодка приклада 7: (7, 256)\u001b[0m\n",
      "\u001b[32m2025-08-14 15:07:48.508\u001b[0m | \u001b[34m\u001b[1mDEBUG   \u001b[0m | \u001b[36msrc.features.brep\u001b[0m:\u001b[36mextract_single\u001b[0m:\u001b[36m108\u001b[0m - \u001b[34m\u001b[1mМатрица признаков Колодка приклада 8: (7, 256)\u001b[0m\n",
      "\u001b[32m2025-08-14 15:07:48.789\u001b[0m | \u001b[34m\u001b[1mDEBUG   \u001b[0m | \u001b[36msrc.features.brep\u001b[0m:\u001b[36mextract_single\u001b[0m:\u001b[36m108\u001b[0m - \u001b[34m\u001b[1mМатрица признаков Колодка приклада 9: (7, 256)\u001b[0m\n",
      "\u001b[32m2025-08-14 15:07:49.021\u001b[0m | \u001b[34m\u001b[1mDEBUG   \u001b[0m | \u001b[36msrc.features.brep\u001b[0m:\u001b[36mextract_single\u001b[0m:\u001b[36m108\u001b[0m - \u001b[34m\u001b[1mМатрица признаков Колодка приклада: (7, 256)\u001b[0m\n",
      "\u001b[32m2025-08-14 15:07:49.438\u001b[0m | \u001b[34m\u001b[1mDEBUG   \u001b[0m | \u001b[36msrc.features.brep\u001b[0m:\u001b[36mextract_single\u001b[0m:\u001b[36m108\u001b[0m - \u001b[34m\u001b[1mМатрица признаков Колодка прицельная 1: (7, 256)\u001b[0m\n",
      "\u001b[32m2025-08-14 15:07:49.887\u001b[0m | \u001b[34m\u001b[1mDEBUG   \u001b[0m | \u001b[36msrc.features.brep\u001b[0m:\u001b[36mextract_single\u001b[0m:\u001b[36m108\u001b[0m - \u001b[34m\u001b[1mМатрица признаков Колодка прицельная 10: (7, 256)\u001b[0m\n",
      "\u001b[32m2025-08-14 15:07:50.256\u001b[0m | \u001b[34m\u001b[1mDEBUG   \u001b[0m | \u001b[36msrc.features.brep\u001b[0m:\u001b[36mextract_single\u001b[0m:\u001b[36m108\u001b[0m - \u001b[34m\u001b[1mМатрица признаков Колодка прицельная 2: (7, 256)\u001b[0m\n",
      "\u001b[32m2025-08-14 15:07:50.592\u001b[0m | \u001b[34m\u001b[1mDEBUG   \u001b[0m | \u001b[36msrc.features.brep\u001b[0m:\u001b[36mextract_single\u001b[0m:\u001b[36m108\u001b[0m - \u001b[34m\u001b[1mМатрица признаков Колодка прицельная 3: (7, 256)\u001b[0m\n",
      "\u001b[32m2025-08-14 15:07:50.938\u001b[0m | \u001b[34m\u001b[1mDEBUG   \u001b[0m | \u001b[36msrc.features.brep\u001b[0m:\u001b[36mextract_single\u001b[0m:\u001b[36m108\u001b[0m - \u001b[34m\u001b[1mМатрица признаков Колодка прицельная 4: (7, 256)\u001b[0m\n",
      "\u001b[32m2025-08-14 15:07:51.348\u001b[0m | \u001b[34m\u001b[1mDEBUG   \u001b[0m | \u001b[36msrc.features.brep\u001b[0m:\u001b[36mextract_single\u001b[0m:\u001b[36m108\u001b[0m - \u001b[34m\u001b[1mМатрица признаков Колодка прицельная 5: (7, 256)\u001b[0m\n",
      "\u001b[32m2025-08-14 15:07:51.751\u001b[0m | \u001b[34m\u001b[1mDEBUG   \u001b[0m | \u001b[36msrc.features.brep\u001b[0m:\u001b[36mextract_single\u001b[0m:\u001b[36m108\u001b[0m - \u001b[34m\u001b[1mМатрица признаков Колодка прицельная 6: (7, 256)\u001b[0m\n",
      "\u001b[32m2025-08-14 15:07:52.133\u001b[0m | \u001b[34m\u001b[1mDEBUG   \u001b[0m | \u001b[36msrc.features.brep\u001b[0m:\u001b[36mextract_single\u001b[0m:\u001b[36m108\u001b[0m - \u001b[34m\u001b[1mМатрица признаков Колодка прицельная 7: (7, 256)\u001b[0m\n",
      "\u001b[32m2025-08-14 15:07:52.534\u001b[0m | \u001b[34m\u001b[1mDEBUG   \u001b[0m | \u001b[36msrc.features.brep\u001b[0m:\u001b[36mextract_single\u001b[0m:\u001b[36m108\u001b[0m - \u001b[34m\u001b[1mМатрица признаков Колодка прицельная 8: (7, 256)\u001b[0m\n",
      "\u001b[32m2025-08-14 15:07:53.007\u001b[0m | \u001b[34m\u001b[1mDEBUG   \u001b[0m | \u001b[36msrc.features.brep\u001b[0m:\u001b[36mextract_single\u001b[0m:\u001b[36m108\u001b[0m - \u001b[34m\u001b[1mМатрица признаков Колодка прицельная 9: (7, 256)\u001b[0m\n",
      "\u001b[32m2025-08-14 15:07:53.411\u001b[0m | \u001b[34m\u001b[1mDEBUG   \u001b[0m | \u001b[36msrc.features.brep\u001b[0m:\u001b[36mextract_single\u001b[0m:\u001b[36m108\u001b[0m - \u001b[34m\u001b[1mМатрица признаков Колодка прицельная: (7, 256)\u001b[0m\n"
     ]
    }
   ],
   "source": [
    "\n",
    "extractor = BrepExtractor(output_mode='pooled')\n",
    "\n",
    "feature_vectors = []\n",
    "labels = []\n",
    "model_ids = []\n",
    "\n",
    "for item in dataset:\n",
    "    fv = extractor.extract_single(item)\n",
    "    if fv is not None:\n",
    "        feature_vectors.append(fv.vector)\n",
    "        labels.append(fv.label)\n",
    "        model_ids.append(fv.model_id)\n",
    "    else:\n",
    "        # Если не удалось извлечь признаки, пропускаем объект\n",
    "        print(f\"Пропуск: {item.model_id}\")\n",
    "\n",
    "X = np.stack(feature_vectors)\n",
    "y = np.array(labels)\n",
    "\n"
   ]
  },
  {
   "cell_type": "code",
   "execution_count": 3,
   "id": "4237cefa",
   "metadata": {},
   "outputs": [
    {
     "name": "stdout",
     "output_type": "stream",
     "text": [
      "\u001b[32m2025-08-14 15:07:58\u001b[0m | \u001b[1mINFO    \u001b[0m | \u001b[36mУстройство: cpu\u001b[0m\n",
      "\u001b[32m2025-08-14 15:07:58\u001b[0m | \u001b[1mINFO    \u001b[0m | \u001b[36mTrain size: 93, Val size: 36\u001b[0m\n"
     ]
    },
    {
     "data": {
      "application/vnd.jupyter.widget-view+json": {
       "model_id": "7f6742e142214c79850ed94468ee5881",
       "version_major": 2,
       "version_minor": 0
      },
      "text/plain": [
       "Эпохи:   0%|          | 0/100 [00:00<?, ?эпоха/s]"
      ]
     },
     "metadata": {},
     "output_type": "display_data"
    },
    {
     "data": {
      "application/vnd.jupyter.widget-view+json": {
       "model_id": "32222fd3af30401aa2aff99ffd5a7995",
       "version_major": 2,
       "version_minor": 0
      },
      "text/plain": [
       "Тренировка 1/100:   0%|          | 0/2 [00:00<?, ?it/s]"
      ]
     },
     "metadata": {},
     "output_type": "display_data"
    },
    {
     "data": {
      "application/vnd.jupyter.widget-view+json": {
       "model_id": "1ebc7fb1e22f4be9b5c5ed121c66dee4",
       "version_major": 2,
       "version_minor": 0
      },
      "text/plain": [
       "Валидация:   0%|          | 0/1 [00:00<?, ?it/s]"
      ]
     },
     "metadata": {},
     "output_type": "display_data"
    },
    {
     "name": "stdout",
     "output_type": "stream",
     "text": [
      "\u001b[32m2025-08-14 15:07:59\u001b[0m | \u001b[1mINFO    \u001b[0m | \u001b[36m[001/100] train_loss=2.7311 | train_acc=0.0968 | val_loss=2.4752 | val_acc=0.1667 | lr=3.00e-04\u001b[0m\n",
      "\u001b[32m2025-08-14 15:07:59\u001b[0m | \u001b[32m\u001b[1mSUCCESS \u001b[0m | \u001b[36mНовый лучший val_loss=2.4752. Сохранён чекпоинт → best_pooled_mlp.pt\u001b[0m\n"
     ]
    },
    {
     "data": {
      "application/vnd.jupyter.widget-view+json": {
       "model_id": "4580012ff4de4aada3544de8bff78c7c",
       "version_major": 2,
       "version_minor": 0
      },
      "text/plain": [
       "Тренировка 2/100:   0%|          | 0/2 [00:00<?, ?it/s]"
      ]
     },
     "metadata": {},
     "output_type": "display_data"
    },
    {
     "data": {
      "application/vnd.jupyter.widget-view+json": {
       "model_id": "535f85cac8ab4ca19c26bf692ef7250a",
       "version_major": 2,
       "version_minor": 0
      },
      "text/plain": [
       "Валидация:   0%|          | 0/1 [00:00<?, ?it/s]"
      ]
     },
     "metadata": {},
     "output_type": "display_data"
    },
    {
     "name": "stdout",
     "output_type": "stream",
     "text": [
      "\u001b[32m2025-08-14 15:07:59\u001b[0m | \u001b[1mINFO    \u001b[0m | \u001b[36m[002/100] train_loss=2.2612 | train_acc=0.3011 | val_loss=2.4661 | val_acc=0.0833 | lr=3.00e-04\u001b[0m\n",
      "\u001b[32m2025-08-14 15:07:59\u001b[0m | \u001b[32m\u001b[1mSUCCESS \u001b[0m | \u001b[36mНовый лучший val_loss=2.4661. Сохранён чекпоинт → best_pooled_mlp.pt\u001b[0m\n"
     ]
    },
    {
     "data": {
      "application/vnd.jupyter.widget-view+json": {
       "model_id": "aa07eec359974102824636a65a7263d2",
       "version_major": 2,
       "version_minor": 0
      },
      "text/plain": [
       "Тренировка 3/100:   0%|          | 0/2 [00:00<?, ?it/s]"
      ]
     },
     "metadata": {},
     "output_type": "display_data"
    },
    {
     "data": {
      "application/vnd.jupyter.widget-view+json": {
       "model_id": "0a6e253528514e7b8eaf3964bd316367",
       "version_major": 2,
       "version_minor": 0
      },
      "text/plain": [
       "Валидация:   0%|          | 0/1 [00:00<?, ?it/s]"
      ]
     },
     "metadata": {},
     "output_type": "display_data"
    },
    {
     "name": "stdout",
     "output_type": "stream",
     "text": [
      "\u001b[32m2025-08-14 15:08:00\u001b[0m | \u001b[1mINFO    \u001b[0m | \u001b[36m[003/100] train_loss=1.9102 | train_acc=0.4409 | val_loss=2.4586 | val_acc=0.0833 | lr=3.00e-04\u001b[0m\n",
      "\u001b[32m2025-08-14 15:08:00\u001b[0m | \u001b[32m\u001b[1mSUCCESS \u001b[0m | \u001b[36mНовый лучший val_loss=2.4586. Сохранён чекпоинт → best_pooled_mlp.pt\u001b[0m\n"
     ]
    },
    {
     "data": {
      "application/vnd.jupyter.widget-view+json": {
       "model_id": "589b891cb1b542178a18b8658bfed926",
       "version_major": 2,
       "version_minor": 0
      },
      "text/plain": [
       "Тренировка 4/100:   0%|          | 0/2 [00:00<?, ?it/s]"
      ]
     },
     "metadata": {},
     "output_type": "display_data"
    },
    {
     "data": {
      "application/vnd.jupyter.widget-view+json": {
       "model_id": "af978bb0c61b41c0bab62874d14170ab",
       "version_major": 2,
       "version_minor": 0
      },
      "text/plain": [
       "Валидация:   0%|          | 0/1 [00:00<?, ?it/s]"
      ]
     },
     "metadata": {},
     "output_type": "display_data"
    },
    {
     "name": "stdout",
     "output_type": "stream",
     "text": [
      "\u001b[32m2025-08-14 15:08:00\u001b[0m | \u001b[1mINFO    \u001b[0m | \u001b[36m[004/100] train_loss=1.7410 | train_acc=0.6022 | val_loss=2.4514 | val_acc=0.0833 | lr=3.00e-04\u001b[0m\n",
      "\u001b[32m2025-08-14 15:08:00\u001b[0m | \u001b[32m\u001b[1mSUCCESS \u001b[0m | \u001b[36mНовый лучший val_loss=2.4514. Сохранён чекпоинт → best_pooled_mlp.pt\u001b[0m\n"
     ]
    },
    {
     "data": {
      "application/vnd.jupyter.widget-view+json": {
       "model_id": "175e5d72e36145ae91e61a89a8ba0fd9",
       "version_major": 2,
       "version_minor": 0
      },
      "text/plain": [
       "Тренировка 5/100:   0%|          | 0/2 [00:00<?, ?it/s]"
      ]
     },
     "metadata": {},
     "output_type": "display_data"
    },
    {
     "data": {
      "application/vnd.jupyter.widget-view+json": {
       "model_id": "2a8a5ea95a7e4180b368f394df588317",
       "version_major": 2,
       "version_minor": 0
      },
      "text/plain": [
       "Валидация:   0%|          | 0/1 [00:00<?, ?it/s]"
      ]
     },
     "metadata": {},
     "output_type": "display_data"
    },
    {
     "name": "stdout",
     "output_type": "stream",
     "text": [
      "\u001b[32m2025-08-14 15:08:00\u001b[0m | \u001b[1mINFO    \u001b[0m | \u001b[36m[005/100] train_loss=1.5048 | train_acc=0.6667 | val_loss=2.4455 | val_acc=0.1944 | lr=3.00e-04\u001b[0m\n",
      "\u001b[32m2025-08-14 15:08:00\u001b[0m | \u001b[32m\u001b[1mSUCCESS \u001b[0m | \u001b[36mНовый лучший val_loss=2.4455. Сохранён чекпоинт → best_pooled_mlp.pt\u001b[0m\n"
     ]
    },
    {
     "data": {
      "application/vnd.jupyter.widget-view+json": {
       "model_id": "0cf41f6af0d047c982798aeeaf0dc32a",
       "version_major": 2,
       "version_minor": 0
      },
      "text/plain": [
       "Тренировка 6/100:   0%|          | 0/2 [00:00<?, ?it/s]"
      ]
     },
     "metadata": {},
     "output_type": "display_data"
    },
    {
     "data": {
      "application/vnd.jupyter.widget-view+json": {
       "model_id": "f251e95761754537a19778219515f823",
       "version_major": 2,
       "version_minor": 0
      },
      "text/plain": [
       "Валидация:   0%|          | 0/1 [00:00<?, ?it/s]"
      ]
     },
     "metadata": {},
     "output_type": "display_data"
    },
    {
     "name": "stdout",
     "output_type": "stream",
     "text": [
      "\u001b[32m2025-08-14 15:08:00\u001b[0m | \u001b[1mINFO    \u001b[0m | \u001b[36m[006/100] train_loss=1.3715 | train_acc=0.7097 | val_loss=2.4381 | val_acc=0.2500 | lr=3.00e-04\u001b[0m\n",
      "\u001b[32m2025-08-14 15:08:00\u001b[0m | \u001b[32m\u001b[1mSUCCESS \u001b[0m | \u001b[36mНовый лучший val_loss=2.4381. Сохранён чекпоинт → best_pooled_mlp.pt\u001b[0m\n"
     ]
    },
    {
     "data": {
      "application/vnd.jupyter.widget-view+json": {
       "model_id": "5cfed0c10c2b4afb85d6a81a6aaae411",
       "version_major": 2,
       "version_minor": 0
      },
      "text/plain": [
       "Тренировка 7/100:   0%|          | 0/2 [00:00<?, ?it/s]"
      ]
     },
     "metadata": {},
     "output_type": "display_data"
    },
    {
     "data": {
      "application/vnd.jupyter.widget-view+json": {
       "model_id": "203d3268ac3942109ad88b812d28fd7e",
       "version_major": 2,
       "version_minor": 0
      },
      "text/plain": [
       "Валидация:   0%|          | 0/1 [00:00<?, ?it/s]"
      ]
     },
     "metadata": {},
     "output_type": "display_data"
    },
    {
     "name": "stdout",
     "output_type": "stream",
     "text": [
      "\u001b[32m2025-08-14 15:08:00\u001b[0m | \u001b[1mINFO    \u001b[0m | \u001b[36m[007/100] train_loss=1.2612 | train_acc=0.7419 | val_loss=2.4310 | val_acc=0.2500 | lr=3.00e-04\u001b[0m\n",
      "\u001b[32m2025-08-14 15:08:00\u001b[0m | \u001b[32m\u001b[1mSUCCESS \u001b[0m | \u001b[36mНовый лучший val_loss=2.4310. Сохранён чекпоинт → best_pooled_mlp.pt\u001b[0m\n"
     ]
    },
    {
     "data": {
      "application/vnd.jupyter.widget-view+json": {
       "model_id": "a6dca20ab16e408a877d497b8ccd984b",
       "version_major": 2,
       "version_minor": 0
      },
      "text/plain": [
       "Тренировка 8/100:   0%|          | 0/2 [00:00<?, ?it/s]"
      ]
     },
     "metadata": {},
     "output_type": "display_data"
    },
    {
     "data": {
      "application/vnd.jupyter.widget-view+json": {
       "model_id": "083a7c7a384242deba2dbe715e904cd6",
       "version_major": 2,
       "version_minor": 0
      },
      "text/plain": [
       "Валидация:   0%|          | 0/1 [00:00<?, ?it/s]"
      ]
     },
     "metadata": {},
     "output_type": "display_data"
    },
    {
     "name": "stdout",
     "output_type": "stream",
     "text": [
      "\u001b[32m2025-08-14 15:08:00\u001b[0m | \u001b[1mINFO    \u001b[0m | \u001b[36m[008/100] train_loss=1.1664 | train_acc=0.8280 | val_loss=2.4196 | val_acc=0.2500 | lr=3.00e-04\u001b[0m\n",
      "\u001b[32m2025-08-14 15:08:00\u001b[0m | \u001b[32m\u001b[1mSUCCESS \u001b[0m | \u001b[36mНовый лучший val_loss=2.4196. Сохранён чекпоинт → best_pooled_mlp.pt\u001b[0m\n"
     ]
    },
    {
     "data": {
      "application/vnd.jupyter.widget-view+json": {
       "model_id": "74122a777731499ab50ab46ba2ed050d",
       "version_major": 2,
       "version_minor": 0
      },
      "text/plain": [
       "Тренировка 9/100:   0%|          | 0/2 [00:00<?, ?it/s]"
      ]
     },
     "metadata": {},
     "output_type": "display_data"
    },
    {
     "data": {
      "application/vnd.jupyter.widget-view+json": {
       "model_id": "767d13e189744d848d5b66240ac5f870",
       "version_major": 2,
       "version_minor": 0
      },
      "text/plain": [
       "Валидация:   0%|          | 0/1 [00:00<?, ?it/s]"
      ]
     },
     "metadata": {},
     "output_type": "display_data"
    },
    {
     "name": "stdout",
     "output_type": "stream",
     "text": [
      "\u001b[32m2025-08-14 15:08:00\u001b[0m | \u001b[1mINFO    \u001b[0m | \u001b[36m[009/100] train_loss=1.0568 | train_acc=0.8710 | val_loss=2.4082 | val_acc=0.2222 | lr=3.00e-04\u001b[0m\n",
      "\u001b[32m2025-08-14 15:08:00\u001b[0m | \u001b[32m\u001b[1mSUCCESS \u001b[0m | \u001b[36mНовый лучший val_loss=2.4082. Сохранён чекпоинт → best_pooled_mlp.pt\u001b[0m\n"
     ]
    },
    {
     "data": {
      "application/vnd.jupyter.widget-view+json": {
       "model_id": "dab0b0dd4ef84c13809a26df2c5b600b",
       "version_major": 2,
       "version_minor": 0
      },
      "text/plain": [
       "Тренировка 10/100:   0%|          | 0/2 [00:00<?, ?it/s]"
      ]
     },
     "metadata": {},
     "output_type": "display_data"
    },
    {
     "data": {
      "application/vnd.jupyter.widget-view+json": {
       "model_id": "506357515a3d4e00b771d5f94257fa06",
       "version_major": 2,
       "version_minor": 0
      },
      "text/plain": [
       "Валидация:   0%|          | 0/1 [00:00<?, ?it/s]"
      ]
     },
     "metadata": {},
     "output_type": "display_data"
    },
    {
     "name": "stdout",
     "output_type": "stream",
     "text": [
      "\u001b[32m2025-08-14 15:08:00\u001b[0m | \u001b[1mINFO    \u001b[0m | \u001b[36m[010/100] train_loss=1.0102 | train_acc=0.8925 | val_loss=2.3902 | val_acc=0.2500 | lr=3.00e-04\u001b[0m\n",
      "\u001b[32m2025-08-14 15:08:00\u001b[0m | \u001b[32m\u001b[1mSUCCESS \u001b[0m | \u001b[36mНовый лучший val_loss=2.3902. Сохранён чекпоинт → best_pooled_mlp.pt\u001b[0m\n"
     ]
    },
    {
     "data": {
      "application/vnd.jupyter.widget-view+json": {
       "model_id": "0497d7aecdcd49f1bd52c2502e02c393",
       "version_major": 2,
       "version_minor": 0
      },
      "text/plain": [
       "Тренировка 11/100:   0%|          | 0/2 [00:00<?, ?it/s]"
      ]
     },
     "metadata": {},
     "output_type": "display_data"
    },
    {
     "data": {
      "application/vnd.jupyter.widget-view+json": {
       "model_id": "cd8873cfa71742f8ac923d200c6b9af5",
       "version_major": 2,
       "version_minor": 0
      },
      "text/plain": [
       "Валидация:   0%|          | 0/1 [00:00<?, ?it/s]"
      ]
     },
     "metadata": {},
     "output_type": "display_data"
    },
    {
     "name": "stdout",
     "output_type": "stream",
     "text": [
      "\u001b[32m2025-08-14 15:08:00\u001b[0m | \u001b[1mINFO    \u001b[0m | \u001b[36m[011/100] train_loss=0.9602 | train_acc=0.9032 | val_loss=2.3688 | val_acc=0.2500 | lr=3.00e-04\u001b[0m\n",
      "\u001b[32m2025-08-14 15:08:00\u001b[0m | \u001b[32m\u001b[1mSUCCESS \u001b[0m | \u001b[36mНовый лучший val_loss=2.3688. Сохранён чекпоинт → best_pooled_mlp.pt\u001b[0m\n"
     ]
    },
    {
     "data": {
      "application/vnd.jupyter.widget-view+json": {
       "model_id": "9d5c5ad80a664865a9ced29de19a524c",
       "version_major": 2,
       "version_minor": 0
      },
      "text/plain": [
       "Тренировка 12/100:   0%|          | 0/2 [00:00<?, ?it/s]"
      ]
     },
     "metadata": {},
     "output_type": "display_data"
    },
    {
     "data": {
      "application/vnd.jupyter.widget-view+json": {
       "model_id": "668cf01432de4d389a68ef15983e7b82",
       "version_major": 2,
       "version_minor": 0
      },
      "text/plain": [
       "Валидация:   0%|          | 0/1 [00:00<?, ?it/s]"
      ]
     },
     "metadata": {},
     "output_type": "display_data"
    },
    {
     "name": "stdout",
     "output_type": "stream",
     "text": [
      "\u001b[32m2025-08-14 15:08:00\u001b[0m | \u001b[1mINFO    \u001b[0m | \u001b[36m[012/100] train_loss=0.9292 | train_acc=0.8817 | val_loss=2.3469 | val_acc=0.2500 | lr=3.00e-04\u001b[0m\n",
      "\u001b[32m2025-08-14 15:08:00\u001b[0m | \u001b[32m\u001b[1mSUCCESS \u001b[0m | \u001b[36mНовый лучший val_loss=2.3469. Сохранён чекпоинт → best_pooled_mlp.pt\u001b[0m\n"
     ]
    },
    {
     "data": {
      "application/vnd.jupyter.widget-view+json": {
       "model_id": "93d3e09d339a4ad2a4228c31c09b4604",
       "version_major": 2,
       "version_minor": 0
      },
      "text/plain": [
       "Тренировка 13/100:   0%|          | 0/2 [00:00<?, ?it/s]"
      ]
     },
     "metadata": {},
     "output_type": "display_data"
    },
    {
     "data": {
      "application/vnd.jupyter.widget-view+json": {
       "model_id": "1b27255230a9478795c26ec6641fae63",
       "version_major": 2,
       "version_minor": 0
      },
      "text/plain": [
       "Валидация:   0%|          | 0/1 [00:00<?, ?it/s]"
      ]
     },
     "metadata": {},
     "output_type": "display_data"
    },
    {
     "name": "stdout",
     "output_type": "stream",
     "text": [
      "\u001b[32m2025-08-14 15:08:00\u001b[0m | \u001b[1mINFO    \u001b[0m | \u001b[36m[013/100] train_loss=0.9373 | train_acc=0.9032 | val_loss=2.3157 | val_acc=0.2500 | lr=3.00e-04\u001b[0m\n",
      "\u001b[32m2025-08-14 15:08:00\u001b[0m | \u001b[32m\u001b[1mSUCCESS \u001b[0m | \u001b[36mНовый лучший val_loss=2.3157. Сохранён чекпоинт → best_pooled_mlp.pt\u001b[0m\n"
     ]
    },
    {
     "data": {
      "application/vnd.jupyter.widget-view+json": {
       "model_id": "db0272d618b4440ba56266b1cc69d9bf",
       "version_major": 2,
       "version_minor": 0
      },
      "text/plain": [
       "Тренировка 14/100:   0%|          | 0/2 [00:00<?, ?it/s]"
      ]
     },
     "metadata": {},
     "output_type": "display_data"
    },
    {
     "data": {
      "application/vnd.jupyter.widget-view+json": {
       "model_id": "a104630da68f4d7b9ba8dfe1b605a7b8",
       "version_major": 2,
       "version_minor": 0
      },
      "text/plain": [
       "Валидация:   0%|          | 0/1 [00:00<?, ?it/s]"
      ]
     },
     "metadata": {},
     "output_type": "display_data"
    },
    {
     "name": "stdout",
     "output_type": "stream",
     "text": [
      "\u001b[32m2025-08-14 15:08:01\u001b[0m | \u001b[1mINFO    \u001b[0m | \u001b[36m[014/100] train_loss=0.8590 | train_acc=0.8817 | val_loss=2.2844 | val_acc=0.2500 | lr=3.00e-04\u001b[0m\n",
      "\u001b[32m2025-08-14 15:08:01\u001b[0m | \u001b[32m\u001b[1mSUCCESS \u001b[0m | \u001b[36mНовый лучший val_loss=2.2844. Сохранён чекпоинт → best_pooled_mlp.pt\u001b[0m\n"
     ]
    },
    {
     "data": {
      "application/vnd.jupyter.widget-view+json": {
       "model_id": "5234c045d0194965b8d3ac0560214e1a",
       "version_major": 2,
       "version_minor": 0
      },
      "text/plain": [
       "Тренировка 15/100:   0%|          | 0/2 [00:00<?, ?it/s]"
      ]
     },
     "metadata": {},
     "output_type": "display_data"
    },
    {
     "data": {
      "application/vnd.jupyter.widget-view+json": {
       "model_id": "83cec2ce594d4be4ad038351971eaaa1",
       "version_major": 2,
       "version_minor": 0
      },
      "text/plain": [
       "Валидация:   0%|          | 0/1 [00:00<?, ?it/s]"
      ]
     },
     "metadata": {},
     "output_type": "display_data"
    },
    {
     "name": "stdout",
     "output_type": "stream",
     "text": [
      "\u001b[32m2025-08-14 15:08:01\u001b[0m | \u001b[1mINFO    \u001b[0m | \u001b[36m[015/100] train_loss=0.8396 | train_acc=0.8925 | val_loss=2.2401 | val_acc=0.2500 | lr=3.00e-04\u001b[0m\n",
      "\u001b[32m2025-08-14 15:08:01\u001b[0m | \u001b[32m\u001b[1mSUCCESS \u001b[0m | \u001b[36mНовый лучший val_loss=2.2401. Сохранён чекпоинт → best_pooled_mlp.pt\u001b[0m\n"
     ]
    },
    {
     "data": {
      "application/vnd.jupyter.widget-view+json": {
       "model_id": "6a172a23c81d4666ae1764c3f8bf74a9",
       "version_major": 2,
       "version_minor": 0
      },
      "text/plain": [
       "Тренировка 16/100:   0%|          | 0/2 [00:00<?, ?it/s]"
      ]
     },
     "metadata": {},
     "output_type": "display_data"
    },
    {
     "data": {
      "application/vnd.jupyter.widget-view+json": {
       "model_id": "685a959fdb7f4c0bb557f0906fd97784",
       "version_major": 2,
       "version_minor": 0
      },
      "text/plain": [
       "Валидация:   0%|          | 0/1 [00:00<?, ?it/s]"
      ]
     },
     "metadata": {},
     "output_type": "display_data"
    },
    {
     "name": "stdout",
     "output_type": "stream",
     "text": [
      "\u001b[32m2025-08-14 15:08:01\u001b[0m | \u001b[1mINFO    \u001b[0m | \u001b[36m[016/100] train_loss=0.8232 | train_acc=0.9355 | val_loss=2.1980 | val_acc=0.2500 | lr=3.00e-04\u001b[0m\n",
      "\u001b[32m2025-08-14 15:08:01\u001b[0m | \u001b[32m\u001b[1mSUCCESS \u001b[0m | \u001b[36mНовый лучший val_loss=2.1980. Сохранён чекпоинт → best_pooled_mlp.pt\u001b[0m\n"
     ]
    },
    {
     "data": {
      "application/vnd.jupyter.widget-view+json": {
       "model_id": "6b2d15db66e04fde8e9c081d78d31a20",
       "version_major": 2,
       "version_minor": 0
      },
      "text/plain": [
       "Тренировка 17/100:   0%|          | 0/2 [00:00<?, ?it/s]"
      ]
     },
     "metadata": {},
     "output_type": "display_data"
    },
    {
     "data": {
      "application/vnd.jupyter.widget-view+json": {
       "model_id": "ee24861f9f4146078199de0c31a7dad2",
       "version_major": 2,
       "version_minor": 0
      },
      "text/plain": [
       "Валидация:   0%|          | 0/1 [00:00<?, ?it/s]"
      ]
     },
     "metadata": {},
     "output_type": "display_data"
    },
    {
     "name": "stdout",
     "output_type": "stream",
     "text": [
      "\u001b[32m2025-08-14 15:08:01\u001b[0m | \u001b[1mINFO    \u001b[0m | \u001b[36m[017/100] train_loss=0.8042 | train_acc=0.9247 | val_loss=2.1389 | val_acc=0.2500 | lr=3.00e-04\u001b[0m\n",
      "\u001b[32m2025-08-14 15:08:01\u001b[0m | \u001b[32m\u001b[1mSUCCESS \u001b[0m | \u001b[36mНовый лучший val_loss=2.1389. Сохранён чекпоинт → best_pooled_mlp.pt\u001b[0m\n"
     ]
    },
    {
     "data": {
      "application/vnd.jupyter.widget-view+json": {
       "model_id": "19468c8558054cc6b3a6eff32755b128",
       "version_major": 2,
       "version_minor": 0
      },
      "text/plain": [
       "Тренировка 18/100:   0%|          | 0/2 [00:00<?, ?it/s]"
      ]
     },
     "metadata": {},
     "output_type": "display_data"
    },
    {
     "data": {
      "application/vnd.jupyter.widget-view+json": {
       "model_id": "373fd129e4764f418af547152348f793",
       "version_major": 2,
       "version_minor": 0
      },
      "text/plain": [
       "Валидация:   0%|          | 0/1 [00:00<?, ?it/s]"
      ]
     },
     "metadata": {},
     "output_type": "display_data"
    },
    {
     "name": "stdout",
     "output_type": "stream",
     "text": [
      "\u001b[32m2025-08-14 15:08:01\u001b[0m | \u001b[1mINFO    \u001b[0m | \u001b[36m[018/100] train_loss=0.7855 | train_acc=0.9462 | val_loss=2.0757 | val_acc=0.2500 | lr=3.00e-04\u001b[0m\n",
      "\u001b[32m2025-08-14 15:08:01\u001b[0m | \u001b[32m\u001b[1mSUCCESS \u001b[0m | \u001b[36mНовый лучший val_loss=2.0757. Сохранён чекпоинт → best_pooled_mlp.pt\u001b[0m\n"
     ]
    },
    {
     "data": {
      "application/vnd.jupyter.widget-view+json": {
       "model_id": "47a66280638c487f90302ebdb7c2c203",
       "version_major": 2,
       "version_minor": 0
      },
      "text/plain": [
       "Тренировка 19/100:   0%|          | 0/2 [00:00<?, ?it/s]"
      ]
     },
     "metadata": {},
     "output_type": "display_data"
    },
    {
     "data": {
      "application/vnd.jupyter.widget-view+json": {
       "model_id": "0466d2c90b684da0835f274772d68141",
       "version_major": 2,
       "version_minor": 0
      },
      "text/plain": [
       "Валидация:   0%|          | 0/1 [00:00<?, ?it/s]"
      ]
     },
     "metadata": {},
     "output_type": "display_data"
    },
    {
     "name": "stdout",
     "output_type": "stream",
     "text": [
      "\u001b[32m2025-08-14 15:08:01\u001b[0m | \u001b[1mINFO    \u001b[0m | \u001b[36m[019/100] train_loss=0.7444 | train_acc=0.9570 | val_loss=1.9928 | val_acc=0.3056 | lr=3.00e-04\u001b[0m\n",
      "\u001b[32m2025-08-14 15:08:01\u001b[0m | \u001b[32m\u001b[1mSUCCESS \u001b[0m | \u001b[36mНовый лучший val_loss=1.9928. Сохранён чекпоинт → best_pooled_mlp.pt\u001b[0m\n"
     ]
    },
    {
     "data": {
      "application/vnd.jupyter.widget-view+json": {
       "model_id": "823171b787f64b419f1761515784f19e",
       "version_major": 2,
       "version_minor": 0
      },
      "text/plain": [
       "Тренировка 20/100:   0%|          | 0/2 [00:00<?, ?it/s]"
      ]
     },
     "metadata": {},
     "output_type": "display_data"
    },
    {
     "data": {
      "application/vnd.jupyter.widget-view+json": {
       "model_id": "d5fd8b7511f2485c8fb2d16ab276bb06",
       "version_major": 2,
       "version_minor": 0
      },
      "text/plain": [
       "Валидация:   0%|          | 0/1 [00:00<?, ?it/s]"
      ]
     },
     "metadata": {},
     "output_type": "display_data"
    },
    {
     "name": "stdout",
     "output_type": "stream",
     "text": [
      "\u001b[32m2025-08-14 15:08:01\u001b[0m | \u001b[1mINFO    \u001b[0m | \u001b[36m[020/100] train_loss=0.7404 | train_acc=0.9247 | val_loss=1.9186 | val_acc=0.3056 | lr=3.00e-04\u001b[0m\n",
      "\u001b[32m2025-08-14 15:08:01\u001b[0m | \u001b[32m\u001b[1mSUCCESS \u001b[0m | \u001b[36mНовый лучший val_loss=1.9186. Сохранён чекпоинт → best_pooled_mlp.pt\u001b[0m\n"
     ]
    },
    {
     "data": {
      "application/vnd.jupyter.widget-view+json": {
       "model_id": "699f9a2f86ab49418d9f958ecc994be2",
       "version_major": 2,
       "version_minor": 0
      },
      "text/plain": [
       "Тренировка 21/100:   0%|          | 0/2 [00:00<?, ?it/s]"
      ]
     },
     "metadata": {},
     "output_type": "display_data"
    },
    {
     "data": {
      "application/vnd.jupyter.widget-view+json": {
       "model_id": "b69f2a26247144d4a2df04855e66b80b",
       "version_major": 2,
       "version_minor": 0
      },
      "text/plain": [
       "Валидация:   0%|          | 0/1 [00:00<?, ?it/s]"
      ]
     },
     "metadata": {},
     "output_type": "display_data"
    },
    {
     "name": "stdout",
     "output_type": "stream",
     "text": [
      "\u001b[32m2025-08-14 15:08:01\u001b[0m | \u001b[1mINFO    \u001b[0m | \u001b[36m[021/100] train_loss=0.7405 | train_acc=0.9140 | val_loss=1.8275 | val_acc=0.3056 | lr=3.00e-04\u001b[0m\n",
      "\u001b[32m2025-08-14 15:08:01\u001b[0m | \u001b[32m\u001b[1mSUCCESS \u001b[0m | \u001b[36mНовый лучший val_loss=1.8275. Сохранён чекпоинт → best_pooled_mlp.pt\u001b[0m\n"
     ]
    },
    {
     "data": {
      "application/vnd.jupyter.widget-view+json": {
       "model_id": "2a58094819ea4871bcebf04184b96e1c",
       "version_major": 2,
       "version_minor": 0
      },
      "text/plain": [
       "Тренировка 22/100:   0%|          | 0/2 [00:00<?, ?it/s]"
      ]
     },
     "metadata": {},
     "output_type": "display_data"
    },
    {
     "data": {
      "application/vnd.jupyter.widget-view+json": {
       "model_id": "72d87163905546228a0bdad9cfeeb635",
       "version_major": 2,
       "version_minor": 0
      },
      "text/plain": [
       "Валидация:   0%|          | 0/1 [00:00<?, ?it/s]"
      ]
     },
     "metadata": {},
     "output_type": "display_data"
    },
    {
     "name": "stdout",
     "output_type": "stream",
     "text": [
      "\u001b[32m2025-08-14 15:08:02\u001b[0m | \u001b[1mINFO    \u001b[0m | \u001b[36m[022/100] train_loss=0.7130 | train_acc=0.9785 | val_loss=1.7257 | val_acc=0.4444 | lr=3.00e-04\u001b[0m\n",
      "\u001b[32m2025-08-14 15:08:02\u001b[0m | \u001b[32m\u001b[1mSUCCESS \u001b[0m | \u001b[36mНовый лучший val_loss=1.7257. Сохранён чекпоинт → best_pooled_mlp.pt\u001b[0m\n"
     ]
    },
    {
     "data": {
      "application/vnd.jupyter.widget-view+json": {
       "model_id": "fd45c100b29e45078bb1a0cd52eb9283",
       "version_major": 2,
       "version_minor": 0
      },
      "text/plain": [
       "Тренировка 23/100:   0%|          | 0/2 [00:00<?, ?it/s]"
      ]
     },
     "metadata": {},
     "output_type": "display_data"
    },
    {
     "data": {
      "application/vnd.jupyter.widget-view+json": {
       "model_id": "82ad775de09d46df800159b5c138eea3",
       "version_major": 2,
       "version_minor": 0
      },
      "text/plain": [
       "Валидация:   0%|          | 0/1 [00:00<?, ?it/s]"
      ]
     },
     "metadata": {},
     "output_type": "display_data"
    },
    {
     "name": "stdout",
     "output_type": "stream",
     "text": [
      "\u001b[32m2025-08-14 15:08:02\u001b[0m | \u001b[1mINFO    \u001b[0m | \u001b[36m[023/100] train_loss=0.7002 | train_acc=0.9462 | val_loss=1.6262 | val_acc=0.4722 | lr=3.00e-04\u001b[0m\n",
      "\u001b[32m2025-08-14 15:08:02\u001b[0m | \u001b[32m\u001b[1mSUCCESS \u001b[0m | \u001b[36mНовый лучший val_loss=1.6262. Сохранён чекпоинт → best_pooled_mlp.pt\u001b[0m\n"
     ]
    },
    {
     "data": {
      "application/vnd.jupyter.widget-view+json": {
       "model_id": "2fbab6aeee0c4047b63dcdc059baed83",
       "version_major": 2,
       "version_minor": 0
      },
      "text/plain": [
       "Тренировка 24/100:   0%|          | 0/2 [00:00<?, ?it/s]"
      ]
     },
     "metadata": {},
     "output_type": "display_data"
    },
    {
     "data": {
      "application/vnd.jupyter.widget-view+json": {
       "model_id": "87b8468d22ff48ecad46ab7a87043860",
       "version_major": 2,
       "version_minor": 0
      },
      "text/plain": [
       "Валидация:   0%|          | 0/1 [00:00<?, ?it/s]"
      ]
     },
     "metadata": {},
     "output_type": "display_data"
    },
    {
     "name": "stdout",
     "output_type": "stream",
     "text": [
      "\u001b[32m2025-08-14 15:08:02\u001b[0m | \u001b[1mINFO    \u001b[0m | \u001b[36m[024/100] train_loss=0.6946 | train_acc=0.9570 | val_loss=1.5229 | val_acc=0.4722 | lr=3.00e-04\u001b[0m\n",
      "\u001b[32m2025-08-14 15:08:02\u001b[0m | \u001b[32m\u001b[1mSUCCESS \u001b[0m | \u001b[36mНовый лучший val_loss=1.5229. Сохранён чекпоинт → best_pooled_mlp.pt\u001b[0m\n"
     ]
    },
    {
     "data": {
      "application/vnd.jupyter.widget-view+json": {
       "model_id": "d9298bb54d874d96a78cf434e32bb770",
       "version_major": 2,
       "version_minor": 0
      },
      "text/plain": [
       "Тренировка 25/100:   0%|          | 0/2 [00:00<?, ?it/s]"
      ]
     },
     "metadata": {},
     "output_type": "display_data"
    },
    {
     "data": {
      "application/vnd.jupyter.widget-view+json": {
       "model_id": "a962ecfea5e74331af79bfbbbd6c9c62",
       "version_major": 2,
       "version_minor": 0
      },
      "text/plain": [
       "Валидация:   0%|          | 0/1 [00:00<?, ?it/s]"
      ]
     },
     "metadata": {},
     "output_type": "display_data"
    },
    {
     "name": "stdout",
     "output_type": "stream",
     "text": [
      "\u001b[32m2025-08-14 15:08:02\u001b[0m | \u001b[1mINFO    \u001b[0m | \u001b[36m[025/100] train_loss=0.7143 | train_acc=0.9677 | val_loss=1.4157 | val_acc=0.4722 | lr=3.00e-04\u001b[0m\n",
      "\u001b[32m2025-08-14 15:08:02\u001b[0m | \u001b[32m\u001b[1mSUCCESS \u001b[0m | \u001b[36mНовый лучший val_loss=1.4157. Сохранён чекпоинт → best_pooled_mlp.pt\u001b[0m\n"
     ]
    },
    {
     "data": {
      "application/vnd.jupyter.widget-view+json": {
       "model_id": "d1724407b7eb47e9a772e96511cba282",
       "version_major": 2,
       "version_minor": 0
      },
      "text/plain": [
       "Тренировка 26/100:   0%|          | 0/2 [00:00<?, ?it/s]"
      ]
     },
     "metadata": {},
     "output_type": "display_data"
    },
    {
     "data": {
      "application/vnd.jupyter.widget-view+json": {
       "model_id": "6e4c9d50c4b641af9b64167271c83050",
       "version_major": 2,
       "version_minor": 0
      },
      "text/plain": [
       "Валидация:   0%|          | 0/1 [00:00<?, ?it/s]"
      ]
     },
     "metadata": {},
     "output_type": "display_data"
    },
    {
     "name": "stdout",
     "output_type": "stream",
     "text": [
      "\u001b[32m2025-08-14 15:08:02\u001b[0m | \u001b[1mINFO    \u001b[0m | \u001b[36m[026/100] train_loss=0.6986 | train_acc=0.9570 | val_loss=1.3258 | val_acc=0.6944 | lr=3.00e-04\u001b[0m\n",
      "\u001b[32m2025-08-14 15:08:02\u001b[0m | \u001b[32m\u001b[1mSUCCESS \u001b[0m | \u001b[36mНовый лучший val_loss=1.3258. Сохранён чекпоинт → best_pooled_mlp.pt\u001b[0m\n"
     ]
    },
    {
     "data": {
      "application/vnd.jupyter.widget-view+json": {
       "model_id": "ade257d92ae34945b6a1a497c85196f6",
       "version_major": 2,
       "version_minor": 0
      },
      "text/plain": [
       "Тренировка 27/100:   0%|          | 0/2 [00:00<?, ?it/s]"
      ]
     },
     "metadata": {},
     "output_type": "display_data"
    },
    {
     "data": {
      "application/vnd.jupyter.widget-view+json": {
       "model_id": "499b5702017045ac85c539839f3413f5",
       "version_major": 2,
       "version_minor": 0
      },
      "text/plain": [
       "Валидация:   0%|          | 0/1 [00:00<?, ?it/s]"
      ]
     },
     "metadata": {},
     "output_type": "display_data"
    },
    {
     "name": "stdout",
     "output_type": "stream",
     "text": [
      "\u001b[32m2025-08-14 15:08:02\u001b[0m | \u001b[1mINFO    \u001b[0m | \u001b[36m[027/100] train_loss=0.7010 | train_acc=0.9355 | val_loss=1.2541 | val_acc=0.7778 | lr=3.00e-04\u001b[0m\n",
      "\u001b[32m2025-08-14 15:08:02\u001b[0m | \u001b[32m\u001b[1mSUCCESS \u001b[0m | \u001b[36mНовый лучший val_loss=1.2541. Сохранён чекпоинт → best_pooled_mlp.pt\u001b[0m\n"
     ]
    },
    {
     "data": {
      "application/vnd.jupyter.widget-view+json": {
       "model_id": "a9bb1737f0a041228ea73f0155f54ee3",
       "version_major": 2,
       "version_minor": 0
      },
      "text/plain": [
       "Тренировка 28/100:   0%|          | 0/2 [00:00<?, ?it/s]"
      ]
     },
     "metadata": {},
     "output_type": "display_data"
    },
    {
     "data": {
      "application/vnd.jupyter.widget-view+json": {
       "model_id": "ecada850e06c44a3877143474c454f9a",
       "version_major": 2,
       "version_minor": 0
      },
      "text/plain": [
       "Валидация:   0%|          | 0/1 [00:00<?, ?it/s]"
      ]
     },
     "metadata": {},
     "output_type": "display_data"
    },
    {
     "name": "stdout",
     "output_type": "stream",
     "text": [
      "\u001b[32m2025-08-14 15:08:02\u001b[0m | \u001b[1mINFO    \u001b[0m | \u001b[36m[028/100] train_loss=0.7050 | train_acc=0.9785 | val_loss=1.1879 | val_acc=0.7778 | lr=3.00e-04\u001b[0m\n",
      "\u001b[32m2025-08-14 15:08:02\u001b[0m | \u001b[32m\u001b[1mSUCCESS \u001b[0m | \u001b[36mНовый лучший val_loss=1.1879. Сохранён чекпоинт → best_pooled_mlp.pt\u001b[0m\n"
     ]
    },
    {
     "data": {
      "application/vnd.jupyter.widget-view+json": {
       "model_id": "78f57f806f1c402ebcbb147e7f79d541",
       "version_major": 2,
       "version_minor": 0
      },
      "text/plain": [
       "Тренировка 29/100:   0%|          | 0/2 [00:00<?, ?it/s]"
      ]
     },
     "metadata": {},
     "output_type": "display_data"
    },
    {
     "data": {
      "application/vnd.jupyter.widget-view+json": {
       "model_id": "5ba9984dd2e041b68abdf6f7b985cf64",
       "version_major": 2,
       "version_minor": 0
      },
      "text/plain": [
       "Валидация:   0%|          | 0/1 [00:00<?, ?it/s]"
      ]
     },
     "metadata": {},
     "output_type": "display_data"
    },
    {
     "name": "stdout",
     "output_type": "stream",
     "text": [
      "\u001b[32m2025-08-14 15:08:02\u001b[0m | \u001b[1mINFO    \u001b[0m | \u001b[36m[029/100] train_loss=0.6404 | train_acc=1.0000 | val_loss=1.1342 | val_acc=0.8056 | lr=3.00e-04\u001b[0m\n",
      "\u001b[32m2025-08-14 15:08:02\u001b[0m | \u001b[32m\u001b[1mSUCCESS \u001b[0m | \u001b[36mНовый лучший val_loss=1.1342. Сохранён чекпоинт → best_pooled_mlp.pt\u001b[0m\n"
     ]
    },
    {
     "data": {
      "application/vnd.jupyter.widget-view+json": {
       "model_id": "43b3692f4fa547a087c1b3cd6644f01b",
       "version_major": 2,
       "version_minor": 0
      },
      "text/plain": [
       "Тренировка 30/100:   0%|          | 0/2 [00:00<?, ?it/s]"
      ]
     },
     "metadata": {},
     "output_type": "display_data"
    },
    {
     "data": {
      "application/vnd.jupyter.widget-view+json": {
       "model_id": "030f7eab8a944cc5830836d730de55a5",
       "version_major": 2,
       "version_minor": 0
      },
      "text/plain": [
       "Валидация:   0%|          | 0/1 [00:00<?, ?it/s]"
      ]
     },
     "metadata": {},
     "output_type": "display_data"
    },
    {
     "name": "stdout",
     "output_type": "stream",
     "text": [
      "\u001b[32m2025-08-14 15:08:02\u001b[0m | \u001b[1mINFO    \u001b[0m | \u001b[36m[030/100] train_loss=0.6657 | train_acc=0.9785 | val_loss=1.0860 | val_acc=0.8056 | lr=3.00e-04\u001b[0m\n",
      "\u001b[32m2025-08-14 15:08:02\u001b[0m | \u001b[32m\u001b[1mSUCCESS \u001b[0m | \u001b[36mНовый лучший val_loss=1.0860. Сохранён чекпоинт → best_pooled_mlp.pt\u001b[0m\n"
     ]
    },
    {
     "data": {
      "application/vnd.jupyter.widget-view+json": {
       "model_id": "2ddfd0885ac44eb39f62c76c8dc7a8df",
       "version_major": 2,
       "version_minor": 0
      },
      "text/plain": [
       "Тренировка 31/100:   0%|          | 0/2 [00:00<?, ?it/s]"
      ]
     },
     "metadata": {},
     "output_type": "display_data"
    },
    {
     "data": {
      "application/vnd.jupyter.widget-view+json": {
       "model_id": "ef68334e1b5446f6b431027ea227782e",
       "version_major": 2,
       "version_minor": 0
      },
      "text/plain": [
       "Валидация:   0%|          | 0/1 [00:00<?, ?it/s]"
      ]
     },
     "metadata": {},
     "output_type": "display_data"
    },
    {
     "name": "stdout",
     "output_type": "stream",
     "text": [
      "\u001b[32m2025-08-14 15:08:03\u001b[0m | \u001b[1mINFO    \u001b[0m | \u001b[36m[031/100] train_loss=0.6674 | train_acc=0.9677 | val_loss=1.0480 | val_acc=0.8056 | lr=3.00e-04\u001b[0m\n",
      "\u001b[32m2025-08-14 15:08:03\u001b[0m | \u001b[32m\u001b[1mSUCCESS \u001b[0m | \u001b[36mНовый лучший val_loss=1.0480. Сохранён чекпоинт → best_pooled_mlp.pt\u001b[0m\n"
     ]
    },
    {
     "data": {
      "application/vnd.jupyter.widget-view+json": {
       "model_id": "479bc8b887c44361a03a75836e1a91da",
       "version_major": 2,
       "version_minor": 0
      },
      "text/plain": [
       "Тренировка 32/100:   0%|          | 0/2 [00:00<?, ?it/s]"
      ]
     },
     "metadata": {},
     "output_type": "display_data"
    },
    {
     "data": {
      "application/vnd.jupyter.widget-view+json": {
       "model_id": "1746159d0fa34335b594c3d55c5e0f4c",
       "version_major": 2,
       "version_minor": 0
      },
      "text/plain": [
       "Валидация:   0%|          | 0/1 [00:00<?, ?it/s]"
      ]
     },
     "metadata": {},
     "output_type": "display_data"
    },
    {
     "name": "stdout",
     "output_type": "stream",
     "text": [
      "\u001b[32m2025-08-14 15:08:03\u001b[0m | \u001b[1mINFO    \u001b[0m | \u001b[36m[032/100] train_loss=0.6659 | train_acc=0.9785 | val_loss=1.0241 | val_acc=0.8056 | lr=3.00e-04\u001b[0m\n",
      "\u001b[32m2025-08-14 15:08:03\u001b[0m | \u001b[32m\u001b[1mSUCCESS \u001b[0m | \u001b[36mНовый лучший val_loss=1.0241. Сохранён чекпоинт → best_pooled_mlp.pt\u001b[0m\n"
     ]
    },
    {
     "data": {
      "application/vnd.jupyter.widget-view+json": {
       "model_id": "a6b6b64ca53a493797967ffa5dbc1747",
       "version_major": 2,
       "version_minor": 0
      },
      "text/plain": [
       "Тренировка 33/100:   0%|          | 0/2 [00:00<?, ?it/s]"
      ]
     },
     "metadata": {},
     "output_type": "display_data"
    },
    {
     "data": {
      "application/vnd.jupyter.widget-view+json": {
       "model_id": "f9d1b17848fe493587c4f02d0ea14377",
       "version_major": 2,
       "version_minor": 0
      },
      "text/plain": [
       "Валидация:   0%|          | 0/1 [00:00<?, ?it/s]"
      ]
     },
     "metadata": {},
     "output_type": "display_data"
    },
    {
     "name": "stdout",
     "output_type": "stream",
     "text": [
      "\u001b[32m2025-08-14 15:08:03\u001b[0m | \u001b[1mINFO    \u001b[0m | \u001b[36m[033/100] train_loss=0.6332 | train_acc=1.0000 | val_loss=1.0087 | val_acc=0.8056 | lr=3.00e-04\u001b[0m\n",
      "\u001b[32m2025-08-14 15:08:03\u001b[0m | \u001b[32m\u001b[1mSUCCESS \u001b[0m | \u001b[36mНовый лучший val_loss=1.0087. Сохранён чекпоинт → best_pooled_mlp.pt\u001b[0m\n"
     ]
    },
    {
     "data": {
      "application/vnd.jupyter.widget-view+json": {
       "model_id": "5bd4fcf209284373a3883a1af36b29a6",
       "version_major": 2,
       "version_minor": 0
      },
      "text/plain": [
       "Тренировка 34/100:   0%|          | 0/2 [00:00<?, ?it/s]"
      ]
     },
     "metadata": {},
     "output_type": "display_data"
    },
    {
     "data": {
      "application/vnd.jupyter.widget-view+json": {
       "model_id": "e74102fa083d46af911dcdf433147b4e",
       "version_major": 2,
       "version_minor": 0
      },
      "text/plain": [
       "Валидация:   0%|          | 0/1 [00:00<?, ?it/s]"
      ]
     },
     "metadata": {},
     "output_type": "display_data"
    },
    {
     "name": "stdout",
     "output_type": "stream",
     "text": [
      "\u001b[32m2025-08-14 15:08:03\u001b[0m | \u001b[1mINFO    \u001b[0m | \u001b[36m[034/100] train_loss=0.6681 | train_acc=0.9785 | val_loss=0.9960 | val_acc=0.8056 | lr=3.00e-04\u001b[0m\n",
      "\u001b[32m2025-08-14 15:08:03\u001b[0m | \u001b[32m\u001b[1mSUCCESS \u001b[0m | \u001b[36mНовый лучший val_loss=0.9960. Сохранён чекпоинт → best_pooled_mlp.pt\u001b[0m\n"
     ]
    },
    {
     "data": {
      "application/vnd.jupyter.widget-view+json": {
       "model_id": "6ba657adf59347359ec44f265e97ed42",
       "version_major": 2,
       "version_minor": 0
      },
      "text/plain": [
       "Тренировка 35/100:   0%|          | 0/2 [00:00<?, ?it/s]"
      ]
     },
     "metadata": {},
     "output_type": "display_data"
    },
    {
     "data": {
      "application/vnd.jupyter.widget-view+json": {
       "model_id": "c11171e4446b44c29d9427fc324a0401",
       "version_major": 2,
       "version_minor": 0
      },
      "text/plain": [
       "Валидация:   0%|          | 0/1 [00:00<?, ?it/s]"
      ]
     },
     "metadata": {},
     "output_type": "display_data"
    },
    {
     "name": "stdout",
     "output_type": "stream",
     "text": [
      "\u001b[32m2025-08-14 15:08:03\u001b[0m | \u001b[1mINFO    \u001b[0m | \u001b[36m[035/100] train_loss=0.6430 | train_acc=1.0000 | val_loss=0.9911 | val_acc=0.8333 | lr=3.00e-04\u001b[0m\n",
      "\u001b[32m2025-08-14 15:08:03\u001b[0m | \u001b[32m\u001b[1mSUCCESS \u001b[0m | \u001b[36mНовый лучший val_loss=0.9911. Сохранён чекпоинт → best_pooled_mlp.pt\u001b[0m\n"
     ]
    },
    {
     "data": {
      "application/vnd.jupyter.widget-view+json": {
       "model_id": "bb54201a2c1a4239a4683db866e13af5",
       "version_major": 2,
       "version_minor": 0
      },
      "text/plain": [
       "Тренировка 36/100:   0%|          | 0/2 [00:00<?, ?it/s]"
      ]
     },
     "metadata": {},
     "output_type": "display_data"
    },
    {
     "data": {
      "application/vnd.jupyter.widget-view+json": {
       "model_id": "9fd45a0ac893423aa6ec4b6e4c233211",
       "version_major": 2,
       "version_minor": 0
      },
      "text/plain": [
       "Валидация:   0%|          | 0/1 [00:00<?, ?it/s]"
      ]
     },
     "metadata": {},
     "output_type": "display_data"
    },
    {
     "name": "stdout",
     "output_type": "stream",
     "text": [
      "\u001b[32m2025-08-14 15:08:03\u001b[0m | \u001b[1mINFO    \u001b[0m | \u001b[36m[036/100] train_loss=0.6733 | train_acc=0.9570 | val_loss=0.9874 | val_acc=0.8333 | lr=3.00e-04\u001b[0m\n",
      "\u001b[32m2025-08-14 15:08:03\u001b[0m | \u001b[32m\u001b[1mSUCCESS \u001b[0m | \u001b[36mНовый лучший val_loss=0.9874. Сохранён чекпоинт → best_pooled_mlp.pt\u001b[0m\n"
     ]
    },
    {
     "data": {
      "application/vnd.jupyter.widget-view+json": {
       "model_id": "a3bbdca785364d29836348b2bb33f27b",
       "version_major": 2,
       "version_minor": 0
      },
      "text/plain": [
       "Тренировка 37/100:   0%|          | 0/2 [00:00<?, ?it/s]"
      ]
     },
     "metadata": {},
     "output_type": "display_data"
    },
    {
     "data": {
      "application/vnd.jupyter.widget-view+json": {
       "model_id": "dd2f5f28cc8643e98d3c9b5831fa5380",
       "version_major": 2,
       "version_minor": 0
      },
      "text/plain": [
       "Валидация:   0%|          | 0/1 [00:00<?, ?it/s]"
      ]
     },
     "metadata": {},
     "output_type": "display_data"
    },
    {
     "name": "stdout",
     "output_type": "stream",
     "text": [
      "\u001b[32m2025-08-14 15:08:03\u001b[0m | \u001b[1mINFO    \u001b[0m | \u001b[36m[037/100] train_loss=0.6590 | train_acc=0.9892 | val_loss=0.9873 | val_acc=0.8333 | lr=3.00e-04\u001b[0m\n",
      "\u001b[32m2025-08-14 15:08:03\u001b[0m | \u001b[32m\u001b[1mSUCCESS \u001b[0m | \u001b[36mНовый лучший val_loss=0.9873. Сохранён чекпоинт → best_pooled_mlp.pt\u001b[0m\n"
     ]
    },
    {
     "data": {
      "application/vnd.jupyter.widget-view+json": {
       "model_id": "d97013f0679e4de9b90bbae18792aeb3",
       "version_major": 2,
       "version_minor": 0
      },
      "text/plain": [
       "Тренировка 38/100:   0%|          | 0/2 [00:00<?, ?it/s]"
      ]
     },
     "metadata": {},
     "output_type": "display_data"
    },
    {
     "data": {
      "application/vnd.jupyter.widget-view+json": {
       "model_id": "9dff33e38bba47d68b1bebf710d3d140",
       "version_major": 2,
       "version_minor": 0
      },
      "text/plain": [
       "Валидация:   0%|          | 0/1 [00:00<?, ?it/s]"
      ]
     },
     "metadata": {},
     "output_type": "display_data"
    },
    {
     "name": "stdout",
     "output_type": "stream",
     "text": [
      "\u001b[32m2025-08-14 15:08:03\u001b[0m | \u001b[1mINFO    \u001b[0m | \u001b[36m[038/100] train_loss=0.6367 | train_acc=0.9785 | val_loss=0.9885 | val_acc=0.8333 | lr=3.00e-04\u001b[0m\n"
     ]
    },
    {
     "data": {
      "application/vnd.jupyter.widget-view+json": {
       "model_id": "d2ee673af986460f8c8539d5d2a91f97",
       "version_major": 2,
       "version_minor": 0
      },
      "text/plain": [
       "Тренировка 39/100:   0%|          | 0/2 [00:00<?, ?it/s]"
      ]
     },
     "metadata": {},
     "output_type": "display_data"
    },
    {
     "data": {
      "application/vnd.jupyter.widget-view+json": {
       "model_id": "d0dced2118574cd3820594623eb22465",
       "version_major": 2,
       "version_minor": 0
      },
      "text/plain": [
       "Валидация:   0%|          | 0/1 [00:00<?, ?it/s]"
      ]
     },
     "metadata": {},
     "output_type": "display_data"
    },
    {
     "name": "stdout",
     "output_type": "stream",
     "text": [
      "\u001b[32m2025-08-14 15:08:03\u001b[0m | \u001b[1mINFO    \u001b[0m | \u001b[36m[039/100] train_loss=0.6817 | train_acc=0.9677 | val_loss=0.9864 | val_acc=0.8333 | lr=3.00e-04\u001b[0m\n",
      "\u001b[32m2025-08-14 15:08:03\u001b[0m | \u001b[32m\u001b[1mSUCCESS \u001b[0m | \u001b[36mНовый лучший val_loss=0.9864. Сохранён чекпоинт → best_pooled_mlp.pt\u001b[0m\n"
     ]
    },
    {
     "data": {
      "application/vnd.jupyter.widget-view+json": {
       "model_id": "d99928f8475e42ec868525978072f90b",
       "version_major": 2,
       "version_minor": 0
      },
      "text/plain": [
       "Тренировка 40/100:   0%|          | 0/2 [00:00<?, ?it/s]"
      ]
     },
     "metadata": {},
     "output_type": "display_data"
    },
    {
     "data": {
      "application/vnd.jupyter.widget-view+json": {
       "model_id": "c23d41bd6428473bbd9c0d142004b8d8",
       "version_major": 2,
       "version_minor": 0
      },
      "text/plain": [
       "Валидация:   0%|          | 0/1 [00:00<?, ?it/s]"
      ]
     },
     "metadata": {},
     "output_type": "display_data"
    },
    {
     "name": "stdout",
     "output_type": "stream",
     "text": [
      "\u001b[32m2025-08-14 15:08:03\u001b[0m | \u001b[1mINFO    \u001b[0m | \u001b[36m[040/100] train_loss=0.6479 | train_acc=0.9892 | val_loss=0.9863 | val_acc=0.8333 | lr=3.00e-04\u001b[0m\n",
      "\u001b[32m2025-08-14 15:08:03\u001b[0m | \u001b[32m\u001b[1mSUCCESS \u001b[0m | \u001b[36mНовый лучший val_loss=0.9863. Сохранён чекпоинт → best_pooled_mlp.pt\u001b[0m\n"
     ]
    },
    {
     "data": {
      "application/vnd.jupyter.widget-view+json": {
       "model_id": "1f015ee505ef40f5b3796e3b9afe6069",
       "version_major": 2,
       "version_minor": 0
      },
      "text/plain": [
       "Тренировка 41/100:   0%|          | 0/2 [00:00<?, ?it/s]"
      ]
     },
     "metadata": {},
     "output_type": "display_data"
    },
    {
     "data": {
      "application/vnd.jupyter.widget-view+json": {
       "model_id": "24294b4a690240f29851c9514b0c0a70",
       "version_major": 2,
       "version_minor": 0
      },
      "text/plain": [
       "Валидация:   0%|          | 0/1 [00:00<?, ?it/s]"
      ]
     },
     "metadata": {},
     "output_type": "display_data"
    },
    {
     "name": "stdout",
     "output_type": "stream",
     "text": [
      "\u001b[32m2025-08-14 15:08:03\u001b[0m | \u001b[1mINFO    \u001b[0m | \u001b[36m[041/100] train_loss=0.6101 | train_acc=1.0000 | val_loss=0.9899 | val_acc=0.8333 | lr=3.00e-04\u001b[0m\n"
     ]
    },
    {
     "data": {
      "application/vnd.jupyter.widget-view+json": {
       "model_id": "bd3ce0a558d24dfc8d0b2f3c4e13f4f6",
       "version_major": 2,
       "version_minor": 0
      },
      "text/plain": [
       "Тренировка 42/100:   0%|          | 0/2 [00:00<?, ?it/s]"
      ]
     },
     "metadata": {},
     "output_type": "display_data"
    },
    {
     "data": {
      "application/vnd.jupyter.widget-view+json": {
       "model_id": "bbc2736cdc504049951e221214273603",
       "version_major": 2,
       "version_minor": 0
      },
      "text/plain": [
       "Валидация:   0%|          | 0/1 [00:00<?, ?it/s]"
      ]
     },
     "metadata": {},
     "output_type": "display_data"
    },
    {
     "name": "stdout",
     "output_type": "stream",
     "text": [
      "\u001b[32m2025-08-14 15:08:04\u001b[0m | \u001b[1mINFO    \u001b[0m | \u001b[36m[042/100] train_loss=0.6225 | train_acc=1.0000 | val_loss=1.0020 | val_acc=0.8333 | lr=3.00e-04\u001b[0m\n"
     ]
    },
    {
     "data": {
      "application/vnd.jupyter.widget-view+json": {
       "model_id": "3b1e082719274d0c8589a80a355055fd",
       "version_major": 2,
       "version_minor": 0
      },
      "text/plain": [
       "Тренировка 43/100:   0%|          | 0/2 [00:00<?, ?it/s]"
      ]
     },
     "metadata": {},
     "output_type": "display_data"
    },
    {
     "data": {
      "application/vnd.jupyter.widget-view+json": {
       "model_id": "c82522603f6744ea912d649d48fc55c6",
       "version_major": 2,
       "version_minor": 0
      },
      "text/plain": [
       "Валидация:   0%|          | 0/1 [00:00<?, ?it/s]"
      ]
     },
     "metadata": {},
     "output_type": "display_data"
    },
    {
     "name": "stdout",
     "output_type": "stream",
     "text": [
      "\u001b[32m2025-08-14 15:08:04\u001b[0m | \u001b[1mINFO    \u001b[0m | \u001b[36m[043/100] train_loss=0.6160 | train_acc=1.0000 | val_loss=1.0079 | val_acc=0.8611 | lr=3.00e-04\u001b[0m\n"
     ]
    },
    {
     "data": {
      "application/vnd.jupyter.widget-view+json": {
       "model_id": "cb3a1a2feb07474d801f5d4a2eb00d14",
       "version_major": 2,
       "version_minor": 0
      },
      "text/plain": [
       "Тренировка 44/100:   0%|          | 0/2 [00:00<?, ?it/s]"
      ]
     },
     "metadata": {},
     "output_type": "display_data"
    },
    {
     "data": {
      "application/vnd.jupyter.widget-view+json": {
       "model_id": "b3bdf66fc89440a481254e5944d3d01a",
       "version_major": 2,
       "version_minor": 0
      },
      "text/plain": [
       "Валидация:   0%|          | 0/1 [00:00<?, ?it/s]"
      ]
     },
     "metadata": {},
     "output_type": "display_data"
    },
    {
     "name": "stdout",
     "output_type": "stream",
     "text": [
      "\u001b[32m2025-08-14 15:08:04\u001b[0m | \u001b[1mINFO    \u001b[0m | \u001b[36m[044/100] train_loss=0.6333 | train_acc=0.9892 | val_loss=1.0101 | val_acc=0.8333 | lr=3.00e-04\u001b[0m\n"
     ]
    },
    {
     "data": {
      "application/vnd.jupyter.widget-view+json": {
       "model_id": "6139692952b442d29ef2afd97a5ee47b",
       "version_major": 2,
       "version_minor": 0
      },
      "text/plain": [
       "Тренировка 45/100:   0%|          | 0/2 [00:00<?, ?it/s]"
      ]
     },
     "metadata": {},
     "output_type": "display_data"
    },
    {
     "data": {
      "application/vnd.jupyter.widget-view+json": {
       "model_id": "7b491cdb512b4aa7925e8a468832e6a5",
       "version_major": 2,
       "version_minor": 0
      },
      "text/plain": [
       "Валидация:   0%|          | 0/1 [00:00<?, ?it/s]"
      ]
     },
     "metadata": {},
     "output_type": "display_data"
    },
    {
     "name": "stdout",
     "output_type": "stream",
     "text": [
      "\u001b[32m2025-08-14 15:08:04\u001b[0m | \u001b[1mINFO    \u001b[0m | \u001b[36m[045/100] train_loss=0.6457 | train_acc=0.9892 | val_loss=1.0219 | val_acc=0.8333 | lr=3.00e-04\u001b[0m\n"
     ]
    },
    {
     "data": {
      "application/vnd.jupyter.widget-view+json": {
       "model_id": "78a578f46d984128bdffcb2645de5409",
       "version_major": 2,
       "version_minor": 0
      },
      "text/plain": [
       "Тренировка 46/100:   0%|          | 0/2 [00:00<?, ?it/s]"
      ]
     },
     "metadata": {},
     "output_type": "display_data"
    },
    {
     "data": {
      "application/vnd.jupyter.widget-view+json": {
       "model_id": "3f3f84f02b3041afa592e91673a17af9",
       "version_major": 2,
       "version_minor": 0
      },
      "text/plain": [
       "Валидация:   0%|          | 0/1 [00:00<?, ?it/s]"
      ]
     },
     "metadata": {},
     "output_type": "display_data"
    },
    {
     "name": "stdout",
     "output_type": "stream",
     "text": [
      "\u001b[32m2025-08-14 15:08:04\u001b[0m | \u001b[1mINFO    \u001b[0m | \u001b[36m[046/100] train_loss=0.6141 | train_acc=0.9892 | val_loss=1.0222 | val_acc=0.8333 | lr=6.00e-05\u001b[0m\n"
     ]
    },
    {
     "data": {
      "application/vnd.jupyter.widget-view+json": {
       "model_id": "10bf89ae38ca4f7caaea921863dbc986",
       "version_major": 2,
       "version_minor": 0
      },
      "text/plain": [
       "Тренировка 47/100:   0%|          | 0/2 [00:00<?, ?it/s]"
      ]
     },
     "metadata": {},
     "output_type": "display_data"
    },
    {
     "data": {
      "application/vnd.jupyter.widget-view+json": {
       "model_id": "ec3340cf6a6544d7ae1b4d28a57c2e66",
       "version_major": 2,
       "version_minor": 0
      },
      "text/plain": [
       "Валидация:   0%|          | 0/1 [00:00<?, ?it/s]"
      ]
     },
     "metadata": {},
     "output_type": "display_data"
    },
    {
     "name": "stdout",
     "output_type": "stream",
     "text": [
      "\u001b[32m2025-08-14 15:08:04\u001b[0m | \u001b[1mINFO    \u001b[0m | \u001b[36m[047/100] train_loss=0.6308 | train_acc=0.9892 | val_loss=1.0230 | val_acc=0.8333 | lr=6.00e-05\u001b[0m\n"
     ]
    },
    {
     "data": {
      "application/vnd.jupyter.widget-view+json": {
       "model_id": "4c640f41960e46f9999d692cbdf2d0f6",
       "version_major": 2,
       "version_minor": 0
      },
      "text/plain": [
       "Тренировка 48/100:   0%|          | 0/2 [00:00<?, ?it/s]"
      ]
     },
     "metadata": {},
     "output_type": "display_data"
    },
    {
     "data": {
      "application/vnd.jupyter.widget-view+json": {
       "model_id": "29b9e09a3b9c44d0837238f94d611b40",
       "version_major": 2,
       "version_minor": 0
      },
      "text/plain": [
       "Валидация:   0%|          | 0/1 [00:00<?, ?it/s]"
      ]
     },
     "metadata": {},
     "output_type": "display_data"
    },
    {
     "name": "stdout",
     "output_type": "stream",
     "text": [
      "\u001b[32m2025-08-14 15:08:04\u001b[0m | \u001b[1mINFO    \u001b[0m | \u001b[36m[048/100] train_loss=0.6252 | train_acc=0.9892 | val_loss=1.0247 | val_acc=0.8333 | lr=6.00e-05\u001b[0m\n"
     ]
    },
    {
     "data": {
      "application/vnd.jupyter.widget-view+json": {
       "model_id": "09da3eb92539413083f3756dff888430",
       "version_major": 2,
       "version_minor": 0
      },
      "text/plain": [
       "Тренировка 49/100:   0%|          | 0/2 [00:00<?, ?it/s]"
      ]
     },
     "metadata": {},
     "output_type": "display_data"
    },
    {
     "data": {
      "application/vnd.jupyter.widget-view+json": {
       "model_id": "b5df55e681fd46259c47ab231bdaebd7",
       "version_major": 2,
       "version_minor": 0
      },
      "text/plain": [
       "Валидация:   0%|          | 0/1 [00:00<?, ?it/s]"
      ]
     },
     "metadata": {},
     "output_type": "display_data"
    },
    {
     "name": "stdout",
     "output_type": "stream",
     "text": [
      "\u001b[32m2025-08-14 15:08:04\u001b[0m | \u001b[1mINFO    \u001b[0m | \u001b[36m[049/100] train_loss=0.6172 | train_acc=0.9892 | val_loss=1.0254 | val_acc=0.8333 | lr=6.00e-05\u001b[0m\n"
     ]
    },
    {
     "data": {
      "application/vnd.jupyter.widget-view+json": {
       "model_id": "45de7c45aa3141e8ab6456b0de1f563e",
       "version_major": 2,
       "version_minor": 0
      },
      "text/plain": [
       "Тренировка 50/100:   0%|          | 0/2 [00:00<?, ?it/s]"
      ]
     },
     "metadata": {},
     "output_type": "display_data"
    },
    {
     "data": {
      "application/vnd.jupyter.widget-view+json": {
       "model_id": "0c51cc31418d429bb9ce67e03d19c68d",
       "version_major": 2,
       "version_minor": 0
      },
      "text/plain": [
       "Валидация:   0%|          | 0/1 [00:00<?, ?it/s]"
      ]
     },
     "metadata": {},
     "output_type": "display_data"
    },
    {
     "name": "stdout",
     "output_type": "stream",
     "text": [
      "\u001b[32m2025-08-14 15:08:04\u001b[0m | \u001b[1mINFO    \u001b[0m | \u001b[36m[050/100] train_loss=0.6033 | train_acc=1.0000 | val_loss=1.0301 | val_acc=0.8333 | lr=6.00e-05\u001b[0m\n",
      "\u001b[32m2025-08-14 15:08:04\u001b[0m | \u001b[33m\u001b[1mWARNING \u001b[0m | \u001b[36m🛑 Early stopping: терпение исчерпано.\u001b[0m\n",
      "\u001b[32m2025-08-14 15:08:04\u001b[0m | \u001b[1mINFO    \u001b[0m | \u001b[36mИстория обучения сохранена → history_pooled.json\u001b[0m\n",
      "\u001b[32m2025-08-14 15:08:04\u001b[0m | \u001b[1mINFO    \u001b[0m | \u001b[36m📦 Загружен лучший чекпоинт эпохи 40 (val_loss=0.9863)\u001b[0m\n"
     ]
    },
    {
     "data": {
      "application/vnd.jupyter.widget-view+json": {
       "model_id": "84d2938346c34e82b298c647bb2cad11",
       "version_major": 2,
       "version_minor": 0
      },
      "text/plain": [
       "Финальная валидация:   0%|          | 0/1 [00:00<?, ?it/s]"
      ]
     },
     "metadata": {},
     "output_type": "display_data"
    },
    {
     "name": "stdout",
     "output_type": "stream",
     "text": [
      "\u001b[32m2025-08-14 15:08:04\u001b[0m | \u001b[1mINFO    \u001b[0m | \u001b[36m\n",
      "======================================================================\n",
      "📊 ФИНАЛЬНЫЙ ОТЧЁТ\n",
      "======================================================================\u001b[0m\n",
      "              precision    recall  f1-score   support\n",
      "\n",
      "           0       1.00      0.33      0.50         3\n",
      "           1       0.67      0.67      0.67         3\n",
      "           2       0.75      1.00      0.86         3\n",
      "           3       0.75      1.00      0.86         3\n",
      "           4       1.00      1.00      1.00         3\n",
      "           5       1.00      0.33      0.50         3\n",
      "           6       0.50      0.67      0.57         3\n",
      "           7       1.00      1.00      1.00         3\n",
      "           8       1.00      1.00      1.00         3\n",
      "           9       1.00      1.00      1.00         3\n",
      "          10       1.00      1.00      1.00         3\n",
      "          11       0.75      1.00      0.86         3\n",
      "\n",
      "    accuracy                           0.83        36\n",
      "   macro avg       0.87      0.83      0.82        36\n",
      "weighted avg       0.87      0.83      0.82        36\n",
      "\n",
      "\u001b[32m2025-08-14 15:08:04\u001b[0m | \u001b[1mINFO    \u001b[0m | \u001b[36mAccuracy: 0.8333\u001b[0m\n",
      "\u001b[32m2025-08-14 15:08:04\u001b[0m | \u001b[1mINFO    \u001b[0m | \u001b[36mМатрица ошибок (строки — истинные, столбцы — предсказанные):\n",
      "[[1 0 0 1 0 0 1 0 0 0 0 0]\n",
      " [0 2 0 0 0 0 1 0 0 0 0 0]\n",
      " [0 0 3 0 0 0 0 0 0 0 0 0]\n",
      " [0 0 0 3 0 0 0 0 0 0 0 0]\n",
      " [0 0 0 0 3 0 0 0 0 0 0 0]\n",
      " [0 0 1 0 0 1 0 0 0 0 0 1]\n",
      " [0 1 0 0 0 0 2 0 0 0 0 0]\n",
      " [0 0 0 0 0 0 0 3 0 0 0 0]\n",
      " [0 0 0 0 0 0 0 0 3 0 0 0]\n",
      " [0 0 0 0 0 0 0 0 0 3 0 0]\n",
      " [0 0 0 0 0 0 0 0 0 0 3 0]\n",
      " [0 0 0 0 0 0 0 0 0 0 0 3]]\u001b[0m\n",
      "\u001b[32m2025-08-14 15:08:04\u001b[0m | \u001b[1mINFO    \u001b[0m | \u001b[36mСохранён LabelEncoder → best_pooled_mlp_label_encoder.pkl\u001b[0m\n"
     ]
    }
   ],
   "source": [
    "from src.modeling.models.resnet1d import setup_logger, set_seed, TrainConfig, train_pooled\n",
    "\n",
    "\n",
    "setup_logger(\"logs\")\n",
    "set_seed(42)\n",
    "cfg = TrainConfig()\n",
    "model, le, hist = train_pooled(X, y, cfg)\n",
    "\n",
    "\n"
   ]
  }
 ],
 "metadata": {
  "kernelspec": {
   "display_name": "cv",
   "language": "python",
   "name": "python3"
  },
  "language_info": {
   "codemirror_mode": {
    "name": "ipython",
    "version": 3
   },
   "file_extension": ".py",
   "mimetype": "text/x-python",
   "name": "python",
   "nbconvert_exporter": "python",
   "pygments_lexer": "ipython3",
   "version": "3.11.13"
  }
 },
 "nbformat": 4,
 "nbformat_minor": 5
}
